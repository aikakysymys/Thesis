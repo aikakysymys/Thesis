{
 "cells": [
  {
   "cell_type": "code",
   "execution_count": 79,
   "metadata": {},
   "outputs": [],
   "source": [
    "from sklearn.feature_extraction.text import *\n",
    "from sklearn.metrics import *\n",
    "from sklearn.pipeline import Pipeline\n",
    "from sklearn.naive_bayes import MultinomialNB\n",
    "from sklearn.linear_model import SGDClassifier, LogisticRegression\n",
    "from sklearn.ensemble import RandomForestClassifier\n",
    "import numpy as np #\n",
    "\n",
    "import matplotlib.pyplot as plt\n",
    "from sklearn.metrics import confusion_matrix\n",
    "import seaborn as sn\n",
    "\n",
    "from sklearn.svm import LinearSVC, SVC\n",
    "from sklearn.feature_extraction.text import TfidfVectorizer\n",
    "\n",
    "from sklearn.utils import shuffle #\n",
    "from sklearn.model_selection import train_test_split"
   ]
  },
  {
   "cell_type": "code",
   "execution_count": 6,
   "metadata": {},
   "outputs": [],
   "source": [
    "# from sklearn.utils import shuffle\n",
    "# from sklearn.model_selection import train_test_split\n",
    "\n",
    "# data_train = shuffle(df)\n",
    "\n",
    "# train, test = train_test_split(data_train, test_size=0.2)\n",
    "# train_ = train.reset_index(drop=True)\n",
    "# test_ = test.reset_index(drop=True)"
   ]
  },
  {
   "cell_type": "code",
   "execution_count": 379,
   "metadata": {},
   "outputs": [],
   "source": [
    "mapper = {\n",
    " 'дата прекращения существования (P576)':'dissolved (P576)',\n",
    " 'создатель (P170)':'creator (P170)',\n",
    " 'момент времени (P585)':'point in time (P585)',\n",
    " 'архитектурный стиль (P149)':'architectural style (P149)',\n",
    " 'дата окончания (P582)':'end time (P582)',\n",
    " 'автор (P50)':'author (P50)',\n",
    " 'дата рождения (P569)':'date of birth (P569)',\n",
    " 'участник организации или клуба (P463)':'member of (P463)',\n",
    " 'война/сражение (P607)':'conflict (P607)',\n",
    " 'дата смерти (P570)':'date of death (P570)',\n",
    " 'первое письменное упоминание (P1249)':'time of earliest written record (P1249)',\n",
    " 'часть от (P361)':'part of (P361)',\n",
    " 'дата начала (P580)':'start time (P580)',\n",
    " 'дата публикации (P577)':'publication date (P577)',\n",
    " 'род занятий (P106)':'occupation (P106)',\n",
    " 'дата основания/создания/возникновения (P571)':'inception (P571)',\n",
    " 'режиссёр (P57)':'director (P57)',\n",
    " 'архитектор (P84)':'architect (P84)'\n",
    "}"
   ]
  },
  {
   "cell_type": "code",
   "execution_count": 407,
   "metadata": {},
   "outputs": [],
   "source": [
    "import json\n",
    "\n",
    "test_ = json.load(open(\"OPEN_test_1810_shortened_final.json\", \"r\", encoding=\"utf-8\")) # OPEN_test_1810_shortened_final1 111111\n",
    "# jsontest = json.load(open(\"OPEN_test_1810_shortened_final_for_eval.json\", \"r\", encoding=\"utf-8\"))\n",
    "\n",
    "train = pd.read_csv('OPEN_train7443.tsv',sep=\"\\t\")\n",
    "\n",
    "# make list of dicts from pandas df\n",
    "train = train.to_dict('index')\n",
    "train_ = [train[i] for i in train]\n",
    "\n",
    "def engg(d):\n",
    "    for di in d:\n",
    "        di['eng'] = mapper[di['rel_r']]\n",
    "\n",
    "engg(test_)\n",
    "\n",
    "train_ = pd.DataFrame(train_)\n",
    "test_ = pd.DataFrame(test_)\n",
    "\n",
    "train = pd.DataFrame(train_, columns=['type', 'open_q', 'rel', 'rel_r'])\n",
    "# df_train = df_train.sample(frac=1).reset_index(drop=True)\n",
    "train.head()\n",
    "\n",
    "test =  pd.DataFrame(test_, columns=['type', 'open_q', 'rel', 'rel_r'])\n",
    "test.head()\n",
    "# len(test)"
   ]
  },
  {
   "cell_type": "code",
   "execution_count": 387,
   "metadata": {},
   "outputs": [],
   "source": [
    "# whole_d = jsontest + train\n",
    "\n",
    "# for di in whole_d:\n",
    "#     di['eng'] = mapper[di['rel_r']]\n",
    "# #     print(di['eng'])\n",
    "\n",
    "# whole_df = pd.DataFrame(whole_d)"
   ]
  },
  {
   "cell_type": "code",
   "execution_count": 383,
   "metadata": {},
   "outputs": [
    {
     "data": {
      "text/plain": [
       "occupation (P106)                          35.583685\n",
       "date of birth (P569)                       19.192903\n",
       "conflict (P607)                            14.140431\n",
       "point in time (P585)                        7.475928\n",
       "part of (P361)                              7.346100\n",
       "inception (P571)                            4.468246\n",
       "member of (P463)                            4.305961\n",
       "start time (P580)                           3.029319\n",
       "dissolved (P576)                            2.207076\n",
       "publication date (P577)                     1.027805\n",
       "architectural style (P149)                  0.421941\n",
       "creator (P170)                              0.421941\n",
       "date of death (P570)                        0.097371\n",
       "director (P57)                              0.086552\n",
       "architect (P84)                             0.064914\n",
       "time of earliest written record (P1249)     0.054095\n",
       "end time (P582)                             0.043276\n",
       "author (P50)                                0.032457\n",
       "Name: eng, dtype: float64"
      ]
     },
     "execution_count": 383,
     "metadata": {},
     "output_type": "execute_result"
    }
   ],
   "source": [
    "whole_df.eng.value_counts() * 100 / whole_df.shape[0]"
   ]
  },
  {
   "cell_type": "code",
   "execution_count": 388,
   "metadata": {},
   "outputs": [
    {
     "data": {
      "text/plain": [
       "P106       35.583685\n",
       "start      34.242129\n",
       "P607       14.140431\n",
       "P361        7.346100\n",
       "P463        4.305961\n",
       "end         2.326085\n",
       "P577        1.027805\n",
       "creator     0.605864\n",
       "P149        0.421941\n",
       "Name: type, dtype: float64"
      ]
     },
     "execution_count": 388,
     "metadata": {},
     "output_type": "execute_result"
    }
   ],
   "source": [
    "whole_df.type.value_counts() * 100 / whole_df.shape[0]"
   ]
  },
  {
   "cell_type": "code",
   "execution_count": 390,
   "metadata": {},
   "outputs": [
    {
     "data": {
      "text/html": [
       "<div>\n",
       "<style scoped>\n",
       "    .dataframe tbody tr th:only-of-type {\n",
       "        vertical-align: middle;\n",
       "    }\n",
       "\n",
       "    .dataframe tbody tr th {\n",
       "        vertical-align: top;\n",
       "    }\n",
       "\n",
       "    .dataframe thead th {\n",
       "        text-align: right;\n",
       "    }\n",
       "</style>\n",
       "<table border=\"1\" class=\"dataframe\">\n",
       "  <thead>\n",
       "    <tr style=\"text-align: right;\">\n",
       "      <th></th>\n",
       "      <th>eng</th>\n",
       "      <th>Q</th>\n",
       "      <th>answer_dp</th>\n",
       "      <th>answer_open</th>\n",
       "      <th>atr</th>\n",
       "      <th>ent</th>\n",
       "      <th>open_q</th>\n",
       "      <th>rel</th>\n",
       "      <th>rel_r</th>\n",
       "      <th>type</th>\n",
       "      <th>type_pred</th>\n",
       "      <th>what</th>\n",
       "    </tr>\n",
       "  </thead>\n",
       "  <tbody>\n",
       "    <tr>\n",
       "      <th>12</th>\n",
       "      <td>occupation (P106)</td>\n",
       "      <td>3289</td>\n",
       "      <td>3289</td>\n",
       "      <td>3289</td>\n",
       "      <td>3289</td>\n",
       "      <td>3289</td>\n",
       "      <td>3289</td>\n",
       "      <td>3289</td>\n",
       "      <td>3289</td>\n",
       "      <td>3289</td>\n",
       "      <td>665</td>\n",
       "      <td>3289</td>\n",
       "    </tr>\n",
       "    <tr>\n",
       "      <th>5</th>\n",
       "      <td>date of birth (P569)</td>\n",
       "      <td>1774</td>\n",
       "      <td>1774</td>\n",
       "      <td>1774</td>\n",
       "      <td>1774</td>\n",
       "      <td>1774</td>\n",
       "      <td>1774</td>\n",
       "      <td>1774</td>\n",
       "      <td>1774</td>\n",
       "      <td>1774</td>\n",
       "      <td>334</td>\n",
       "      <td>1774</td>\n",
       "    </tr>\n",
       "    <tr>\n",
       "      <th>3</th>\n",
       "      <td>conflict (P607)</td>\n",
       "      <td>1307</td>\n",
       "      <td>1307</td>\n",
       "      <td>1307</td>\n",
       "      <td>1307</td>\n",
       "      <td>1307</td>\n",
       "      <td>1307</td>\n",
       "      <td>1307</td>\n",
       "      <td>1307</td>\n",
       "      <td>1307</td>\n",
       "      <td>258</td>\n",
       "      <td>1307</td>\n",
       "    </tr>\n",
       "    <tr>\n",
       "      <th>14</th>\n",
       "      <td>point in time (P585)</td>\n",
       "      <td>691</td>\n",
       "      <td>691</td>\n",
       "      <td>691</td>\n",
       "      <td>691</td>\n",
       "      <td>691</td>\n",
       "      <td>691</td>\n",
       "      <td>691</td>\n",
       "      <td>691</td>\n",
       "      <td>691</td>\n",
       "      <td>143</td>\n",
       "      <td>691</td>\n",
       "    </tr>\n",
       "    <tr>\n",
       "      <th>13</th>\n",
       "      <td>part of (P361)</td>\n",
       "      <td>679</td>\n",
       "      <td>679</td>\n",
       "      <td>679</td>\n",
       "      <td>679</td>\n",
       "      <td>679</td>\n",
       "      <td>679</td>\n",
       "      <td>679</td>\n",
       "      <td>679</td>\n",
       "      <td>679</td>\n",
       "      <td>110</td>\n",
       "      <td>679</td>\n",
       "    </tr>\n",
       "    <tr>\n",
       "      <th>10</th>\n",
       "      <td>inception (P571)</td>\n",
       "      <td>413</td>\n",
       "      <td>413</td>\n",
       "      <td>413</td>\n",
       "      <td>413</td>\n",
       "      <td>413</td>\n",
       "      <td>413</td>\n",
       "      <td>413</td>\n",
       "      <td>413</td>\n",
       "      <td>413</td>\n",
       "      <td>83</td>\n",
       "      <td>413</td>\n",
       "    </tr>\n",
       "    <tr>\n",
       "      <th>11</th>\n",
       "      <td>member of (P463)</td>\n",
       "      <td>398</td>\n",
       "      <td>398</td>\n",
       "      <td>398</td>\n",
       "      <td>398</td>\n",
       "      <td>398</td>\n",
       "      <td>398</td>\n",
       "      <td>398</td>\n",
       "      <td>398</td>\n",
       "      <td>398</td>\n",
       "      <td>66</td>\n",
       "      <td>398</td>\n",
       "    </tr>\n",
       "    <tr>\n",
       "      <th>16</th>\n",
       "      <td>start time (P580)</td>\n",
       "      <td>280</td>\n",
       "      <td>280</td>\n",
       "      <td>280</td>\n",
       "      <td>280</td>\n",
       "      <td>280</td>\n",
       "      <td>280</td>\n",
       "      <td>280</td>\n",
       "      <td>280</td>\n",
       "      <td>280</td>\n",
       "      <td>54</td>\n",
       "      <td>280</td>\n",
       "    </tr>\n",
       "    <tr>\n",
       "      <th>8</th>\n",
       "      <td>dissolved (P576)</td>\n",
       "      <td>204</td>\n",
       "      <td>204</td>\n",
       "      <td>204</td>\n",
       "      <td>204</td>\n",
       "      <td>204</td>\n",
       "      <td>204</td>\n",
       "      <td>204</td>\n",
       "      <td>204</td>\n",
       "      <td>204</td>\n",
       "      <td>40</td>\n",
       "      <td>204</td>\n",
       "    </tr>\n",
       "    <tr>\n",
       "      <th>15</th>\n",
       "      <td>publication date (P577)</td>\n",
       "      <td>95</td>\n",
       "      <td>95</td>\n",
       "      <td>95</td>\n",
       "      <td>95</td>\n",
       "      <td>95</td>\n",
       "      <td>95</td>\n",
       "      <td>95</td>\n",
       "      <td>95</td>\n",
       "      <td>95</td>\n",
       "      <td>24</td>\n",
       "      <td>95</td>\n",
       "    </tr>\n",
       "    <tr>\n",
       "      <th>4</th>\n",
       "      <td>creator (P170)</td>\n",
       "      <td>39</td>\n",
       "      <td>39</td>\n",
       "      <td>39</td>\n",
       "      <td>39</td>\n",
       "      <td>39</td>\n",
       "      <td>39</td>\n",
       "      <td>39</td>\n",
       "      <td>39</td>\n",
       "      <td>39</td>\n",
       "      <td>7</td>\n",
       "      <td>39</td>\n",
       "    </tr>\n",
       "    <tr>\n",
       "      <th>1</th>\n",
       "      <td>architectural style (P149)</td>\n",
       "      <td>39</td>\n",
       "      <td>39</td>\n",
       "      <td>39</td>\n",
       "      <td>39</td>\n",
       "      <td>39</td>\n",
       "      <td>39</td>\n",
       "      <td>39</td>\n",
       "      <td>39</td>\n",
       "      <td>39</td>\n",
       "      <td>8</td>\n",
       "      <td>38</td>\n",
       "    </tr>\n",
       "    <tr>\n",
       "      <th>6</th>\n",
       "      <td>date of death (P570)</td>\n",
       "      <td>9</td>\n",
       "      <td>9</td>\n",
       "      <td>9</td>\n",
       "      <td>9</td>\n",
       "      <td>9</td>\n",
       "      <td>9</td>\n",
       "      <td>9</td>\n",
       "      <td>9</td>\n",
       "      <td>9</td>\n",
       "      <td>3</td>\n",
       "      <td>9</td>\n",
       "    </tr>\n",
       "    <tr>\n",
       "      <th>7</th>\n",
       "      <td>director (P57)</td>\n",
       "      <td>8</td>\n",
       "      <td>8</td>\n",
       "      <td>8</td>\n",
       "      <td>8</td>\n",
       "      <td>8</td>\n",
       "      <td>8</td>\n",
       "      <td>8</td>\n",
       "      <td>8</td>\n",
       "      <td>8</td>\n",
       "      <td>2</td>\n",
       "      <td>8</td>\n",
       "    </tr>\n",
       "    <tr>\n",
       "      <th>0</th>\n",
       "      <td>architect (P84)</td>\n",
       "      <td>6</td>\n",
       "      <td>6</td>\n",
       "      <td>6</td>\n",
       "      <td>6</td>\n",
       "      <td>6</td>\n",
       "      <td>6</td>\n",
       "      <td>6</td>\n",
       "      <td>6</td>\n",
       "      <td>6</td>\n",
       "      <td>0</td>\n",
       "      <td>6</td>\n",
       "    </tr>\n",
       "    <tr>\n",
       "      <th>17</th>\n",
       "      <td>time of earliest written record (P1249)</td>\n",
       "      <td>5</td>\n",
       "      <td>5</td>\n",
       "      <td>5</td>\n",
       "      <td>5</td>\n",
       "      <td>5</td>\n",
       "      <td>5</td>\n",
       "      <td>5</td>\n",
       "      <td>5</td>\n",
       "      <td>5</td>\n",
       "      <td>1</td>\n",
       "      <td>5</td>\n",
       "    </tr>\n",
       "    <tr>\n",
       "      <th>9</th>\n",
       "      <td>end time (P582)</td>\n",
       "      <td>4</td>\n",
       "      <td>4</td>\n",
       "      <td>4</td>\n",
       "      <td>4</td>\n",
       "      <td>4</td>\n",
       "      <td>4</td>\n",
       "      <td>4</td>\n",
       "      <td>4</td>\n",
       "      <td>4</td>\n",
       "      <td>1</td>\n",
       "      <td>4</td>\n",
       "    </tr>\n",
       "    <tr>\n",
       "      <th>2</th>\n",
       "      <td>author (P50)</td>\n",
       "      <td>3</td>\n",
       "      <td>3</td>\n",
       "      <td>3</td>\n",
       "      <td>3</td>\n",
       "      <td>3</td>\n",
       "      <td>3</td>\n",
       "      <td>3</td>\n",
       "      <td>3</td>\n",
       "      <td>3</td>\n",
       "      <td>1</td>\n",
       "      <td>3</td>\n",
       "    </tr>\n",
       "  </tbody>\n",
       "</table>\n",
       "</div>"
      ],
      "text/plain": [
       "                                        eng     Q  answer_dp  answer_open  \\\n",
       "12                        occupation (P106)  3289       3289         3289   \n",
       "5                      date of birth (P569)  1774       1774         1774   \n",
       "3                           conflict (P607)  1307       1307         1307   \n",
       "14                     point in time (P585)   691        691          691   \n",
       "13                           part of (P361)   679        679          679   \n",
       "10                         inception (P571)   413        413          413   \n",
       "11                         member of (P463)   398        398          398   \n",
       "16                        start time (P580)   280        280          280   \n",
       "8                          dissolved (P576)   204        204          204   \n",
       "15                  publication date (P577)    95         95           95   \n",
       "4                            creator (P170)    39         39           39   \n",
       "1                architectural style (P149)    39         39           39   \n",
       "6                      date of death (P570)     9          9            9   \n",
       "7                            director (P57)     8          8            8   \n",
       "0                           architect (P84)     6          6            6   \n",
       "17  time of earliest written record (P1249)     5          5            5   \n",
       "9                           end time (P582)     4          4            4   \n",
       "2                              author (P50)     3          3            3   \n",
       "\n",
       "     atr   ent  open_q   rel  rel_r  type  type_pred  what  \n",
       "12  3289  3289    3289  3289   3289  3289        665  3289  \n",
       "5   1774  1774    1774  1774   1774  1774        334  1774  \n",
       "3   1307  1307    1307  1307   1307  1307        258  1307  \n",
       "14   691   691     691   691    691   691        143   691  \n",
       "13   679   679     679   679    679   679        110   679  \n",
       "10   413   413     413   413    413   413         83   413  \n",
       "11   398   398     398   398    398   398         66   398  \n",
       "16   280   280     280   280    280   280         54   280  \n",
       "8    204   204     204   204    204   204         40   204  \n",
       "15    95    95      95    95     95    95         24    95  \n",
       "4     39    39      39    39     39    39          7    39  \n",
       "1     39    39      39    39     39    39          8    38  \n",
       "6      9     9       9     9      9     9          3     9  \n",
       "7      8     8       8     8      8     8          2     8  \n",
       "0      6     6       6     6      6     6          0     6  \n",
       "17     5     5       5     5      5     5          1     5  \n",
       "9      4     4       4     4      4     4          1     4  \n",
       "2      3     3       3     3      3     3          1     3  "
      ]
     },
     "execution_count": 390,
     "metadata": {},
     "output_type": "execute_result"
    }
   ],
   "source": [
    "whole_dfS = whole_df.groupby('eng', as_index=False).count().sort_values(by=['open_q'], ascending=False)\n",
    "# df.sort_values(by=['col1'])\n",
    "whole_dfS"
   ]
  },
  {
   "cell_type": "code",
   "execution_count": 17,
   "metadata": {},
   "outputs": [
    {
     "data": {
      "text/html": [
       "<div>\n",
       "<style scoped>\n",
       "    .dataframe tbody tr th:only-of-type {\n",
       "        vertical-align: middle;\n",
       "    }\n",
       "\n",
       "    .dataframe tbody tr th {\n",
       "        vertical-align: top;\n",
       "    }\n",
       "\n",
       "    .dataframe thead th {\n",
       "        text-align: right;\n",
       "    }\n",
       "</style>\n",
       "<table border=\"1\" class=\"dataframe\">\n",
       "  <thead>\n",
       "    <tr style=\"text-align: right;\">\n",
       "      <th></th>\n",
       "      <th>Q</th>\n",
       "      <th>answer_dp</th>\n",
       "      <th>answer_open</th>\n",
       "      <th>atr</th>\n",
       "      <th>ent</th>\n",
       "      <th>open_q</th>\n",
       "      <th>rel</th>\n",
       "      <th>rel_r</th>\n",
       "      <th>type</th>\n",
       "      <th>what</th>\n",
       "    </tr>\n",
       "  </thead>\n",
       "  <tbody>\n",
       "    <tr>\n",
       "      <th>0</th>\n",
       "      <td>Q729846</td>\n",
       "      <td>['барокко']</td>\n",
       "      <td>Французская академия</td>\n",
       "      <td>Q161806</td>\n",
       "      <td>Вуатюр, Венсан</td>\n",
       "      <td>Членом какой организации был Венсан Вуатюр?</td>\n",
       "      <td>P463</td>\n",
       "      <td>участник организации или клуба (P463)</td>\n",
       "      <td>P463</td>\n",
       "      <td>человек</td>\n",
       "    </tr>\n",
       "    <tr>\n",
       "      <th>1</th>\n",
       "      <td>Q4236746</td>\n",
       "      <td>['15 января 1915 года']</td>\n",
       "      <td>1919</td>\n",
       "      <td>date</td>\n",
       "      <td>Кочетов, Александр Васильевич</td>\n",
       "      <td>Александр Васильевич Кочетов — год рождения?</td>\n",
       "      <td>P569</td>\n",
       "      <td>дата рождения (P569)</td>\n",
       "      <td>start</td>\n",
       "      <td>человек</td>\n",
       "    </tr>\n",
       "    <tr>\n",
       "      <th>2</th>\n",
       "      <td>Q4221780</td>\n",
       "      <td>['Указом Президиума Верховного Совета СССР']</td>\n",
       "      <td>генетик</td>\n",
       "      <td>Q3126128</td>\n",
       "      <td>Кирпичников, Валентин Сергеевич</td>\n",
       "      <td>Кем по профессии был Валентин Сергеевич Кирпич...</td>\n",
       "      <td>P106</td>\n",
       "      <td>род занятий (P106)</td>\n",
       "      <td>P106</td>\n",
       "      <td>человек</td>\n",
       "    </tr>\n",
       "    <tr>\n",
       "      <th>3</th>\n",
       "      <td>Q51094830</td>\n",
       "      <td>['Гражданской']</td>\n",
       "      <td>монгольское нашествие на Русь</td>\n",
       "      <td>Q1134220</td>\n",
       "      <td>Битва на реке Воронеж</td>\n",
       "      <td>Частью какой войны была Битва на реке Воронеж?</td>\n",
       "      <td>P361</td>\n",
       "      <td>часть от (P361)</td>\n",
       "      <td>P361</td>\n",
       "      <td>конфликт</td>\n",
       "    </tr>\n",
       "    <tr>\n",
       "      <th>4</th>\n",
       "      <td>Q4264961</td>\n",
       "      <td>['10 марта 1873 года']</td>\n",
       "      <td>1870</td>\n",
       "      <td>date</td>\n",
       "      <td>Ловягин, Александр Михайлович</td>\n",
       "      <td>В каком году родился Александр Михайлович Ловя...</td>\n",
       "      <td>P569</td>\n",
       "      <td>дата рождения (P569)</td>\n",
       "      <td>start</td>\n",
       "      <td>человек</td>\n",
       "    </tr>\n",
       "  </tbody>\n",
       "</table>\n",
       "</div>"
      ],
      "text/plain": [
       "           Q                                     answer_dp  \\\n",
       "0    Q729846                                   ['барокко']   \n",
       "1   Q4236746                       ['15 января 1915 года']   \n",
       "2   Q4221780  ['Указом Президиума Верховного Совета СССР']   \n",
       "3  Q51094830                               ['Гражданской']   \n",
       "4   Q4264961                        ['10 марта 1873 года']   \n",
       "\n",
       "                     answer_open       atr                              ent  \\\n",
       "0           Французская академия   Q161806                   Вуатюр, Венсан   \n",
       "1                           1919      date    Кочетов, Александр Васильевич   \n",
       "2                        генетик  Q3126128  Кирпичников, Валентин Сергеевич   \n",
       "3  монгольское нашествие на Русь  Q1134220            Битва на реке Воронеж   \n",
       "4                           1870      date    Ловягин, Александр Михайлович   \n",
       "\n",
       "                                              open_q   rel  \\\n",
       "0        Членом какой организации был Венсан Вуатюр?  P463   \n",
       "1       Александр Васильевич Кочетов — год рождения?  P569   \n",
       "2  Кем по профессии был Валентин Сергеевич Кирпич...  P106   \n",
       "3     Частью какой войны была Битва на реке Воронеж?  P361   \n",
       "4  В каком году родился Александр Михайлович Ловя...  P569   \n",
       "\n",
       "                                   rel_r   type      what  \n",
       "0  участник организации или клуба (P463)   P463   человек  \n",
       "1                   дата рождения (P569)  start   человек  \n",
       "2                     род занятий (P106)   P106   человек  \n",
       "3                        часть от (P361)   P361  конфликт  \n",
       "4                   дата рождения (P569)  start   человек  "
      ]
     },
     "execution_count": 17,
     "metadata": {},
     "output_type": "execute_result"
    }
   ],
   "source": [
    "train_.head()"
   ]
  },
  {
   "cell_type": "code",
   "execution_count": 408,
   "metadata": {},
   "outputs": [
    {
     "data": {
      "text/html": [
       "<div>\n",
       "<style scoped>\n",
       "    .dataframe tbody tr th:only-of-type {\n",
       "        vertical-align: middle;\n",
       "    }\n",
       "\n",
       "    .dataframe tbody tr th {\n",
       "        vertical-align: top;\n",
       "    }\n",
       "\n",
       "    .dataframe thead th {\n",
       "        text-align: right;\n",
       "    }\n",
       "</style>\n",
       "<table border=\"1\" class=\"dataframe\">\n",
       "  <thead>\n",
       "    <tr style=\"text-align: right;\">\n",
       "      <th></th>\n",
       "      <th>type</th>\n",
       "      <th>open_q</th>\n",
       "      <th>rel</th>\n",
       "      <th>rel_r</th>\n",
       "    </tr>\n",
       "  </thead>\n",
       "  <tbody>\n",
       "    <tr>\n",
       "      <th>0</th>\n",
       "      <td>P463</td>\n",
       "      <td>Членом какой организации был Венсан Вуатюр?</td>\n",
       "      <td>P463</td>\n",
       "      <td>участник организации или клуба (P463)</td>\n",
       "    </tr>\n",
       "    <tr>\n",
       "      <th>1</th>\n",
       "      <td>start</td>\n",
       "      <td>Александр Васильевич Кочетов — год рождения?</td>\n",
       "      <td>P569</td>\n",
       "      <td>дата рождения (P569)</td>\n",
       "    </tr>\n",
       "    <tr>\n",
       "      <th>2</th>\n",
       "      <td>P106</td>\n",
       "      <td>Кем по профессии был Валентин Сергеевич Кирпич...</td>\n",
       "      <td>P106</td>\n",
       "      <td>род занятий (P106)</td>\n",
       "    </tr>\n",
       "    <tr>\n",
       "      <th>3</th>\n",
       "      <td>P361</td>\n",
       "      <td>Частью какой войны была Битва на реке Воронеж?</td>\n",
       "      <td>P361</td>\n",
       "      <td>часть от (P361)</td>\n",
       "    </tr>\n",
       "    <tr>\n",
       "      <th>4</th>\n",
       "      <td>start</td>\n",
       "      <td>В каком году родился Александр Михайлович Ловя...</td>\n",
       "      <td>P569</td>\n",
       "      <td>дата рождения (P569)</td>\n",
       "    </tr>\n",
       "  </tbody>\n",
       "</table>\n",
       "</div>"
      ],
      "text/plain": [
       "    type                                             open_q   rel  \\\n",
       "0   P463        Членом какой организации был Венсан Вуатюр?  P463   \n",
       "1  start       Александр Васильевич Кочетов — год рождения?  P569   \n",
       "2   P106  Кем по профессии был Валентин Сергеевич Кирпич...  P106   \n",
       "3   P361     Частью какой войны была Битва на реке Воронеж?  P361   \n",
       "4  start  В каком году родился Александр Михайлович Ловя...  P569   \n",
       "\n",
       "                                   rel_r  \n",
       "0  участник организации или клуба (P463)  \n",
       "1                   дата рождения (P569)  \n",
       "2                     род занятий (P106)  \n",
       "3                        часть от (P361)  \n",
       "4                   дата рождения (P569)  "
      ]
     },
     "execution_count": 408,
     "metadata": {},
     "output_type": "execute_result"
    }
   ],
   "source": [
    "train = pd.DataFrame(train_, columns=['type', 'open_q', 'rel', 'rel_r'])\n",
    "# df_train = df_train.sample(frac=1).reset_index(drop=True)\n",
    "train.head()\n"
   ]
  },
  {
   "cell_type": "code",
   "execution_count": 409,
   "metadata": {},
   "outputs": [
    {
     "data": {
      "text/html": [
       "<div>\n",
       "<style scoped>\n",
       "    .dataframe tbody tr th:only-of-type {\n",
       "        vertical-align: middle;\n",
       "    }\n",
       "\n",
       "    .dataframe tbody tr th {\n",
       "        vertical-align: top;\n",
       "    }\n",
       "\n",
       "    .dataframe thead th {\n",
       "        text-align: right;\n",
       "    }\n",
       "</style>\n",
       "<table border=\"1\" class=\"dataframe\">\n",
       "  <thead>\n",
       "    <tr style=\"text-align: right;\">\n",
       "      <th></th>\n",
       "      <th>type</th>\n",
       "      <th>open_q</th>\n",
       "      <th>rel</th>\n",
       "      <th>rel_r</th>\n",
       "    </tr>\n",
       "  </thead>\n",
       "  <tbody>\n",
       "    <tr>\n",
       "      <th>0</th>\n",
       "      <td>start</td>\n",
       "      <td>В каком году родился Аркадий Яковлевич Сахнин?</td>\n",
       "      <td>P569</td>\n",
       "      <td>дата рождения (P569)</td>\n",
       "    </tr>\n",
       "    <tr>\n",
       "      <th>1</th>\n",
       "      <td>P106</td>\n",
       "      <td>Кем по профессии был Фёдор Георгиевич Логинов?</td>\n",
       "      <td>P106</td>\n",
       "      <td>род занятий (P106)</td>\n",
       "    </tr>\n",
       "    <tr>\n",
       "      <th>2</th>\n",
       "      <td>P607</td>\n",
       "      <td>В каком вооружённом конфликте участвовал Яков ...</td>\n",
       "      <td>P607</td>\n",
       "      <td>война/сражение (P607)</td>\n",
       "    </tr>\n",
       "    <tr>\n",
       "      <th>3</th>\n",
       "      <td>P106</td>\n",
       "      <td>Кем по профессии была Анна Александровна Любли...</td>\n",
       "      <td>P106</td>\n",
       "      <td>род занятий (P106)</td>\n",
       "    </tr>\n",
       "    <tr>\n",
       "      <th>4</th>\n",
       "      <td>P607</td>\n",
       "      <td>В какой войне участвовал Симон Давидович Кремер?</td>\n",
       "      <td>P607</td>\n",
       "      <td>война/сражение (P607)</td>\n",
       "    </tr>\n",
       "  </tbody>\n",
       "</table>\n",
       "</div>"
      ],
      "text/plain": [
       "    type                                             open_q   rel  \\\n",
       "0  start     В каком году родился Аркадий Яковлевич Сахнин?  P569   \n",
       "1   P106     Кем по профессии был Фёдор Георгиевич Логинов?  P106   \n",
       "2   P607  В каком вооружённом конфликте участвовал Яков ...  P607   \n",
       "3   P106  Кем по профессии была Анна Александровна Любли...  P106   \n",
       "4   P607   В какой войне участвовал Симон Давидович Кремер?  P607   \n",
       "\n",
       "                   rel_r  \n",
       "0   дата рождения (P569)  \n",
       "1     род занятий (P106)  \n",
       "2  война/сражение (P607)  \n",
       "3     род занятий (P106)  \n",
       "4  война/сражение (P607)  "
      ]
     },
     "execution_count": 409,
     "metadata": {},
     "output_type": "execute_result"
    }
   ],
   "source": [
    "test =  pd.DataFrame(test_, columns=['type', 'open_q', 'rel', 'rel_r'])\n",
    "test.head()\n",
    "# len(test)"
   ]
  },
  {
   "cell_type": "code",
   "execution_count": 20,
   "metadata": {},
   "outputs": [],
   "source": [
    "trainS = train.groupby('type', as_index=False).count().sort_values(by=['open_q'], ascending=False)\n",
    "# df.sort_values(by=['col1'])"
   ]
  },
  {
   "cell_type": "code",
   "execution_count": 364,
   "metadata": {},
   "outputs": [
    {
     "data": {
      "text/html": [
       "<div>\n",
       "<style scoped>\n",
       "    .dataframe tbody tr th:only-of-type {\n",
       "        vertical-align: middle;\n",
       "    }\n",
       "\n",
       "    .dataframe tbody tr th {\n",
       "        vertical-align: top;\n",
       "    }\n",
       "\n",
       "    .dataframe thead th {\n",
       "        text-align: right;\n",
       "    }\n",
       "</style>\n",
       "<table border=\"1\" class=\"dataframe\">\n",
       "  <thead>\n",
       "    <tr style=\"text-align: right;\">\n",
       "      <th></th>\n",
       "      <th>type</th>\n",
       "      <th>open_q</th>\n",
       "      <th>rel</th>\n",
       "      <th>rel_r</th>\n",
       "    </tr>\n",
       "  </thead>\n",
       "  <tbody>\n",
       "    <tr>\n",
       "      <th>0</th>\n",
       "      <td>P106</td>\n",
       "      <td>2624</td>\n",
       "      <td>2624</td>\n",
       "      <td>2624</td>\n",
       "    </tr>\n",
       "    <tr>\n",
       "      <th>8</th>\n",
       "      <td>start</td>\n",
       "      <td>2550</td>\n",
       "      <td>2550</td>\n",
       "      <td>2550</td>\n",
       "    </tr>\n",
       "    <tr>\n",
       "      <th>5</th>\n",
       "      <td>P607</td>\n",
       "      <td>1049</td>\n",
       "      <td>1049</td>\n",
       "      <td>1049</td>\n",
       "    </tr>\n",
       "    <tr>\n",
       "      <th>2</th>\n",
       "      <td>P361</td>\n",
       "      <td>569</td>\n",
       "      <td>569</td>\n",
       "      <td>569</td>\n",
       "    </tr>\n",
       "    <tr>\n",
       "      <th>3</th>\n",
       "      <td>P463</td>\n",
       "      <td>332</td>\n",
       "      <td>332</td>\n",
       "      <td>332</td>\n",
       "    </tr>\n",
       "    <tr>\n",
       "      <th>7</th>\n",
       "      <td>end</td>\n",
       "      <td>171</td>\n",
       "      <td>171</td>\n",
       "      <td>171</td>\n",
       "    </tr>\n",
       "    <tr>\n",
       "      <th>4</th>\n",
       "      <td>P577</td>\n",
       "      <td>71</td>\n",
       "      <td>71</td>\n",
       "      <td>71</td>\n",
       "    </tr>\n",
       "    <tr>\n",
       "      <th>6</th>\n",
       "      <td>creator</td>\n",
       "      <td>46</td>\n",
       "      <td>46</td>\n",
       "      <td>46</td>\n",
       "    </tr>\n",
       "    <tr>\n",
       "      <th>1</th>\n",
       "      <td>P149</td>\n",
       "      <td>31</td>\n",
       "      <td>31</td>\n",
       "      <td>31</td>\n",
       "    </tr>\n",
       "  </tbody>\n",
       "</table>\n",
       "</div>"
      ],
      "text/plain": [
       "      type  open_q   rel  rel_r\n",
       "0     P106    2624  2624   2624\n",
       "8    start    2550  2550   2550\n",
       "5     P607    1049  1049   1049\n",
       "2     P361     569   569    569\n",
       "3     P463     332   332    332\n",
       "7      end     171   171    171\n",
       "4     P577      71    71     71\n",
       "6  creator      46    46     46\n",
       "1     P149      31    31     31"
      ]
     },
     "execution_count": 364,
     "metadata": {},
     "output_type": "execute_result"
    }
   ],
   "source": [
    "trainS"
   ]
  },
  {
   "cell_type": "code",
   "execution_count": 152,
   "metadata": {},
   "outputs": [
    {
     "data": {
      "text/plain": [
       "P106       35.254602\n",
       "start      34.260379\n",
       "P607       14.093779\n",
       "P361        7.644767\n",
       "P463        4.460567\n",
       "end         2.297461\n",
       "P577        0.953916\n",
       "creator     0.618030\n",
       "P149        0.416499\n",
       "Name: type, dtype: float64"
      ]
     },
     "execution_count": 152,
     "metadata": {},
     "output_type": "execute_result"
    }
   ],
   "source": [
    "train.type.value_counts() * 100 / train.shape[0]"
   ]
  },
  {
   "cell_type": "code",
   "execution_count": 22,
   "metadata": {},
   "outputs": [],
   "source": [
    "trainSR = train.groupby('rel', as_index=False).count().sort_values(by=['open_q'], ascending=False)\n",
    "# df.sort_values(by=['col1'])"
   ]
  },
  {
   "cell_type": "code",
   "execution_count": 153,
   "metadata": {},
   "outputs": [
    {
     "data": {
      "text/html": [
       "<div>\n",
       "<style scoped>\n",
       "    .dataframe tbody tr th:only-of-type {\n",
       "        vertical-align: middle;\n",
       "    }\n",
       "\n",
       "    .dataframe tbody tr th {\n",
       "        vertical-align: top;\n",
       "    }\n",
       "\n",
       "    .dataframe thead th {\n",
       "        text-align: right;\n",
       "    }\n",
       "</style>\n",
       "<table border=\"1\" class=\"dataframe\">\n",
       "  <thead>\n",
       "    <tr style=\"text-align: right;\">\n",
       "      <th></th>\n",
       "      <th>rel</th>\n",
       "      <th>type</th>\n",
       "      <th>open_q</th>\n",
       "      <th>rel_r</th>\n",
       "    </tr>\n",
       "  </thead>\n",
       "  <tbody>\n",
       "    <tr>\n",
       "      <th>0</th>\n",
       "      <td>P106</td>\n",
       "      <td>2624</td>\n",
       "      <td>2624</td>\n",
       "      <td>2624</td>\n",
       "    </tr>\n",
       "    <tr>\n",
       "      <th>7</th>\n",
       "      <td>P569</td>\n",
       "      <td>1440</td>\n",
       "      <td>1440</td>\n",
       "      <td>1440</td>\n",
       "    </tr>\n",
       "    <tr>\n",
       "      <th>16</th>\n",
       "      <td>P607</td>\n",
       "      <td>1049</td>\n",
       "      <td>1049</td>\n",
       "      <td>1049</td>\n",
       "    </tr>\n",
       "    <tr>\n",
       "      <th>4</th>\n",
       "      <td>P361</td>\n",
       "      <td>569</td>\n",
       "      <td>569</td>\n",
       "      <td>569</td>\n",
       "    </tr>\n",
       "    <tr>\n",
       "      <th>15</th>\n",
       "      <td>P585</td>\n",
       "      <td>548</td>\n",
       "      <td>548</td>\n",
       "      <td>548</td>\n",
       "    </tr>\n",
       "    <tr>\n",
       "      <th>5</th>\n",
       "      <td>P463</td>\n",
       "      <td>332</td>\n",
       "      <td>332</td>\n",
       "      <td>332</td>\n",
       "    </tr>\n",
       "    <tr>\n",
       "      <th>10</th>\n",
       "      <td>P571</td>\n",
       "      <td>330</td>\n",
       "      <td>330</td>\n",
       "      <td>330</td>\n",
       "    </tr>\n",
       "    <tr>\n",
       "      <th>13</th>\n",
       "      <td>P580</td>\n",
       "      <td>226</td>\n",
       "      <td>226</td>\n",
       "      <td>226</td>\n",
       "    </tr>\n",
       "    <tr>\n",
       "      <th>11</th>\n",
       "      <td>P576</td>\n",
       "      <td>164</td>\n",
       "      <td>164</td>\n",
       "      <td>164</td>\n",
       "    </tr>\n",
       "    <tr>\n",
       "      <th>12</th>\n",
       "      <td>P577</td>\n",
       "      <td>71</td>\n",
       "      <td>71</td>\n",
       "      <td>71</td>\n",
       "    </tr>\n",
       "    <tr>\n",
       "      <th>3</th>\n",
       "      <td>P170</td>\n",
       "      <td>32</td>\n",
       "      <td>32</td>\n",
       "      <td>32</td>\n",
       "    </tr>\n",
       "    <tr>\n",
       "      <th>2</th>\n",
       "      <td>P149</td>\n",
       "      <td>31</td>\n",
       "      <td>31</td>\n",
       "      <td>31</td>\n",
       "    </tr>\n",
       "    <tr>\n",
       "      <th>9</th>\n",
       "      <td>P570</td>\n",
       "      <td>6</td>\n",
       "      <td>6</td>\n",
       "      <td>6</td>\n",
       "    </tr>\n",
       "    <tr>\n",
       "      <th>8</th>\n",
       "      <td>P57</td>\n",
       "      <td>6</td>\n",
       "      <td>6</td>\n",
       "      <td>6</td>\n",
       "    </tr>\n",
       "    <tr>\n",
       "      <th>17</th>\n",
       "      <td>P84</td>\n",
       "      <td>6</td>\n",
       "      <td>6</td>\n",
       "      <td>6</td>\n",
       "    </tr>\n",
       "    <tr>\n",
       "      <th>1</th>\n",
       "      <td>P1249</td>\n",
       "      <td>4</td>\n",
       "      <td>4</td>\n",
       "      <td>4</td>\n",
       "    </tr>\n",
       "    <tr>\n",
       "      <th>14</th>\n",
       "      <td>P582</td>\n",
       "      <td>3</td>\n",
       "      <td>3</td>\n",
       "      <td>3</td>\n",
       "    </tr>\n",
       "    <tr>\n",
       "      <th>6</th>\n",
       "      <td>P50</td>\n",
       "      <td>2</td>\n",
       "      <td>2</td>\n",
       "      <td>2</td>\n",
       "    </tr>\n",
       "  </tbody>\n",
       "</table>\n",
       "</div>"
      ],
      "text/plain": [
       "      rel  type  open_q  rel_r\n",
       "0    P106  2624    2624   2624\n",
       "7    P569  1440    1440   1440\n",
       "16   P607  1049    1049   1049\n",
       "4    P361   569     569    569\n",
       "15   P585   548     548    548\n",
       "5    P463   332     332    332\n",
       "10   P571   330     330    330\n",
       "13   P580   226     226    226\n",
       "11   P576   164     164    164\n",
       "12   P577    71      71     71\n",
       "3    P170    32      32     32\n",
       "2    P149    31      31     31\n",
       "9    P570     6       6      6\n",
       "8     P57     6       6      6\n",
       "17    P84     6       6      6\n",
       "1   P1249     4       4      4\n",
       "14   P582     3       3      3\n",
       "6     P50     2       2      2"
      ]
     },
     "execution_count": 153,
     "metadata": {},
     "output_type": "execute_result"
    }
   ],
   "source": [
    "trainSR"
   ]
  },
  {
   "cell_type": "code",
   "execution_count": 24,
   "metadata": {},
   "outputs": [],
   "source": [
    "trainSRR = train.groupby('rel_r', as_index=False).count().sort_values(by=['open_q'], ascending=False)\n",
    "# df.sort_values(by=['col1'])"
   ]
  },
  {
   "cell_type": "code",
   "execution_count": 492,
   "metadata": {},
   "outputs": [
    {
     "data": {
      "text/plain": [
       "1800"
      ]
     },
     "execution_count": 492,
     "metadata": {},
     "output_type": "execute_result"
    }
   ],
   "source": [
    "len(test)"
   ]
  },
  {
   "cell_type": "code",
   "execution_count": 154,
   "metadata": {},
   "outputs": [
    {
     "data": {
      "text/plain": [
       "род занятий (P106)                              35.254602\n",
       "дата рождения (P569)                            19.347037\n",
       "война/сражение (P607)                           14.093779\n",
       "часть от (P361)                                  7.644767\n",
       "момент времени (P585)                            7.362623\n",
       "участник организации или клуба (P463)            4.460567\n",
       "дата основания/создания/возникновения (P571)     4.433696\n",
       "дата начала (P580)                               3.036410\n",
       "дата прекращения существования (P576)            2.203413\n",
       "дата публикации (P577)                           0.953916\n",
       "создатель (P170)                                 0.429934\n",
       "архитектурный стиль (P149)                       0.416499\n",
       "режиссёр (P57)                                   0.080613\n",
       "архитектор (P84)                                 0.080613\n",
       "дата смерти (P570)                               0.080613\n",
       "первое письменное упоминание (P1249)             0.053742\n",
       "дата окончания (P582)                            0.040306\n",
       "автор (P50)                                      0.026871\n",
       "Name: rel_r, dtype: float64"
      ]
     },
     "execution_count": 154,
     "metadata": {},
     "output_type": "execute_result"
    }
   ],
   "source": [
    "train.rel_r.value_counts() * 100 / train.shape[0]"
   ]
  },
  {
   "cell_type": "code",
   "execution_count": 147,
   "metadata": {},
   "outputs": [],
   "source": [
    "testS = test.groupby('type', as_index=False).count().sort_values(by=['open_q'], ascending=False)\n",
    "# df.sort_values(by=['col1'])"
   ]
  },
  {
   "cell_type": "code",
   "execution_count": 148,
   "metadata": {},
   "outputs": [
    {
     "data": {
      "text/html": [
       "<div>\n",
       "<style scoped>\n",
       "    .dataframe tbody tr th:only-of-type {\n",
       "        vertical-align: middle;\n",
       "    }\n",
       "\n",
       "    .dataframe tbody tr th {\n",
       "        vertical-align: top;\n",
       "    }\n",
       "\n",
       "    .dataframe thead th {\n",
       "        text-align: right;\n",
       "    }\n",
       "</style>\n",
       "<table border=\"1\" class=\"dataframe\">\n",
       "  <thead>\n",
       "    <tr style=\"text-align: right;\">\n",
       "      <th></th>\n",
       "      <th>type</th>\n",
       "      <th>open_q</th>\n",
       "      <th>rel</th>\n",
       "      <th>rel_r</th>\n",
       "    </tr>\n",
       "  </thead>\n",
       "  <tbody>\n",
       "    <tr>\n",
       "      <th>0</th>\n",
       "      <td>P106</td>\n",
       "      <td>665</td>\n",
       "      <td>665</td>\n",
       "      <td>665</td>\n",
       "    </tr>\n",
       "    <tr>\n",
       "      <th>8</th>\n",
       "      <td>start</td>\n",
       "      <td>615</td>\n",
       "      <td>615</td>\n",
       "      <td>615</td>\n",
       "    </tr>\n",
       "    <tr>\n",
       "      <th>5</th>\n",
       "      <td>P607</td>\n",
       "      <td>258</td>\n",
       "      <td>258</td>\n",
       "      <td>258</td>\n",
       "    </tr>\n",
       "    <tr>\n",
       "      <th>2</th>\n",
       "      <td>P361</td>\n",
       "      <td>110</td>\n",
       "      <td>110</td>\n",
       "      <td>110</td>\n",
       "    </tr>\n",
       "    <tr>\n",
       "      <th>3</th>\n",
       "      <td>P463</td>\n",
       "      <td>66</td>\n",
       "      <td>66</td>\n",
       "      <td>66</td>\n",
       "    </tr>\n",
       "    <tr>\n",
       "      <th>7</th>\n",
       "      <td>end</td>\n",
       "      <td>44</td>\n",
       "      <td>44</td>\n",
       "      <td>44</td>\n",
       "    </tr>\n",
       "    <tr>\n",
       "      <th>4</th>\n",
       "      <td>P577</td>\n",
       "      <td>24</td>\n",
       "      <td>24</td>\n",
       "      <td>24</td>\n",
       "    </tr>\n",
       "    <tr>\n",
       "      <th>6</th>\n",
       "      <td>creator</td>\n",
       "      <td>10</td>\n",
       "      <td>10</td>\n",
       "      <td>10</td>\n",
       "    </tr>\n",
       "    <tr>\n",
       "      <th>1</th>\n",
       "      <td>P149</td>\n",
       "      <td>8</td>\n",
       "      <td>8</td>\n",
       "      <td>8</td>\n",
       "    </tr>\n",
       "  </tbody>\n",
       "</table>\n",
       "</div>"
      ],
      "text/plain": [
       "      type  open_q  rel  rel_r\n",
       "0     P106     665  665    665\n",
       "8    start     615  615    615\n",
       "5     P607     258  258    258\n",
       "2     P361     110  110    110\n",
       "3     P463      66   66     66\n",
       "7      end      44   44     44\n",
       "4     P577      24   24     24\n",
       "6  creator      10   10     10\n",
       "1     P149       8    8      8"
      ]
     },
     "execution_count": 148,
     "metadata": {},
     "output_type": "execute_result"
    }
   ],
   "source": [
    "testS"
   ]
  },
  {
   "cell_type": "code",
   "execution_count": 391,
   "metadata": {},
   "outputs": [
    {
     "data": {
      "text/plain": [
       "P106       36.944444\n",
       "start      34.166667\n",
       "P607       14.333333\n",
       "P361        6.111111\n",
       "P463        3.666667\n",
       "end         2.444444\n",
       "P577        1.333333\n",
       "creator     0.555556\n",
       "P149        0.444444\n",
       "Name: type, dtype: float64"
      ]
     },
     "execution_count": 391,
     "metadata": {},
     "output_type": "execute_result"
    }
   ],
   "source": [
    "test.type.value_counts() * 100 / test.shape[0]"
   ]
  },
  {
   "cell_type": "code",
   "execution_count": 28,
   "metadata": {},
   "outputs": [],
   "source": [
    "# testSR = test.groupby('rel', as_index=False).count().sort_values(by=['open_q'], ascending=False)\n",
    "# # df.sort_values(by=['col1'])"
   ]
  },
  {
   "cell_type": "code",
   "execution_count": 36,
   "metadata": {},
   "outputs": [],
   "source": [
    "# testSR"
   ]
  },
  {
   "cell_type": "code",
   "execution_count": 144,
   "metadata": {},
   "outputs": [],
   "source": [
    "# names rel_r\n",
    "testSRR = test.groupby('rel_r', as_index=False).count().sort_values(by=['open_q'], ascending=False)\n",
    "# df.sort_values(by=['col1'])"
   ]
  },
  {
   "cell_type": "code",
   "execution_count": 145,
   "metadata": {},
   "outputs": [
    {
     "data": {
      "text/html": [
       "<div>\n",
       "<style scoped>\n",
       "    .dataframe tbody tr th:only-of-type {\n",
       "        vertical-align: middle;\n",
       "    }\n",
       "\n",
       "    .dataframe tbody tr th {\n",
       "        vertical-align: top;\n",
       "    }\n",
       "\n",
       "    .dataframe thead th {\n",
       "        text-align: right;\n",
       "    }\n",
       "</style>\n",
       "<table border=\"1\" class=\"dataframe\">\n",
       "  <thead>\n",
       "    <tr style=\"text-align: right;\">\n",
       "      <th></th>\n",
       "      <th>rel_r</th>\n",
       "      <th>type</th>\n",
       "      <th>open_q</th>\n",
       "      <th>rel</th>\n",
       "    </tr>\n",
       "  </thead>\n",
       "  <tbody>\n",
       "    <tr>\n",
       "      <th>13</th>\n",
       "      <td>род занятий (P106)</td>\n",
       "      <td>665</td>\n",
       "      <td>665</td>\n",
       "      <td>665</td>\n",
       "    </tr>\n",
       "    <tr>\n",
       "      <th>8</th>\n",
       "      <td>дата рождения (P569)</td>\n",
       "      <td>334</td>\n",
       "      <td>334</td>\n",
       "      <td>334</td>\n",
       "    </tr>\n",
       "    <tr>\n",
       "      <th>2</th>\n",
       "      <td>война/сражение (P607)</td>\n",
       "      <td>258</td>\n",
       "      <td>258</td>\n",
       "      <td>258</td>\n",
       "    </tr>\n",
       "    <tr>\n",
       "      <th>10</th>\n",
       "      <td>момент времени (P585)</td>\n",
       "      <td>143</td>\n",
       "      <td>143</td>\n",
       "      <td>143</td>\n",
       "    </tr>\n",
       "    <tr>\n",
       "      <th>16</th>\n",
       "      <td>часть от (P361)</td>\n",
       "      <td>110</td>\n",
       "      <td>110</td>\n",
       "      <td>110</td>\n",
       "    </tr>\n",
       "    <tr>\n",
       "      <th>5</th>\n",
       "      <td>дата основания/создания/возникновения (P571)</td>\n",
       "      <td>83</td>\n",
       "      <td>83</td>\n",
       "      <td>83</td>\n",
       "    </tr>\n",
       "    <tr>\n",
       "      <th>15</th>\n",
       "      <td>участник организации или клуба (P463)</td>\n",
       "      <td>66</td>\n",
       "      <td>66</td>\n",
       "      <td>66</td>\n",
       "    </tr>\n",
       "    <tr>\n",
       "      <th>3</th>\n",
       "      <td>дата начала (P580)</td>\n",
       "      <td>54</td>\n",
       "      <td>54</td>\n",
       "      <td>54</td>\n",
       "    </tr>\n",
       "    <tr>\n",
       "      <th>6</th>\n",
       "      <td>дата прекращения существования (P576)</td>\n",
       "      <td>40</td>\n",
       "      <td>40</td>\n",
       "      <td>40</td>\n",
       "    </tr>\n",
       "    <tr>\n",
       "      <th>7</th>\n",
       "      <td>дата публикации (P577)</td>\n",
       "      <td>24</td>\n",
       "      <td>24</td>\n",
       "      <td>24</td>\n",
       "    </tr>\n",
       "    <tr>\n",
       "      <th>1</th>\n",
       "      <td>архитектурный стиль (P149)</td>\n",
       "      <td>8</td>\n",
       "      <td>8</td>\n",
       "      <td>8</td>\n",
       "    </tr>\n",
       "    <tr>\n",
       "      <th>14</th>\n",
       "      <td>создатель (P170)</td>\n",
       "      <td>7</td>\n",
       "      <td>7</td>\n",
       "      <td>7</td>\n",
       "    </tr>\n",
       "    <tr>\n",
       "      <th>9</th>\n",
       "      <td>дата смерти (P570)</td>\n",
       "      <td>3</td>\n",
       "      <td>3</td>\n",
       "      <td>3</td>\n",
       "    </tr>\n",
       "    <tr>\n",
       "      <th>12</th>\n",
       "      <td>режиссёр (P57)</td>\n",
       "      <td>2</td>\n",
       "      <td>2</td>\n",
       "      <td>2</td>\n",
       "    </tr>\n",
       "    <tr>\n",
       "      <th>4</th>\n",
       "      <td>дата окончания (P582)</td>\n",
       "      <td>1</td>\n",
       "      <td>1</td>\n",
       "      <td>1</td>\n",
       "    </tr>\n",
       "    <tr>\n",
       "      <th>11</th>\n",
       "      <td>первое письменное упоминание (P1249)</td>\n",
       "      <td>1</td>\n",
       "      <td>1</td>\n",
       "      <td>1</td>\n",
       "    </tr>\n",
       "    <tr>\n",
       "      <th>0</th>\n",
       "      <td>автор (P50)</td>\n",
       "      <td>1</td>\n",
       "      <td>1</td>\n",
       "      <td>1</td>\n",
       "    </tr>\n",
       "  </tbody>\n",
       "</table>\n",
       "</div>"
      ],
      "text/plain": [
       "                                           rel_r  type  open_q  rel\n",
       "13                            род занятий (P106)   665     665  665\n",
       "8                           дата рождения (P569)   334     334  334\n",
       "2                          война/сражение (P607)   258     258  258\n",
       "10                         момент времени (P585)   143     143  143\n",
       "16                               часть от (P361)   110     110  110\n",
       "5   дата основания/создания/возникновения (P571)    83      83   83\n",
       "15         участник организации или клуба (P463)    66      66   66\n",
       "3                             дата начала (P580)    54      54   54\n",
       "6          дата прекращения существования (P576)    40      40   40\n",
       "7                         дата публикации (P577)    24      24   24\n",
       "1                     архитектурный стиль (P149)     8       8    8\n",
       "14                              создатель (P170)     7       7    7\n",
       "9                             дата смерти (P570)     3       3    3\n",
       "12                                режиссёр (P57)     2       2    2\n",
       "4                          дата окончания (P582)     1       1    1\n",
       "11          первое письменное упоминание (P1249)     1       1    1\n",
       "0                                    автор (P50)     1       1    1"
      ]
     },
     "execution_count": 145,
     "metadata": {},
     "output_type": "execute_result"
    }
   ],
   "source": [
    "testSRR"
   ]
  },
  {
   "cell_type": "code",
   "execution_count": 141,
   "metadata": {},
   "outputs": [
    {
     "data": {
      "text/plain": [
       "род занятий (P106)                              36.944444\n",
       "дата рождения (P569)                            18.555556\n",
       "война/сражение (P607)                           14.333333\n",
       "момент времени (P585)                            7.944444\n",
       "часть от (P361)                                  6.111111\n",
       "дата основания/создания/возникновения (P571)     4.611111\n",
       "участник организации или клуба (P463)            3.666667\n",
       "дата начала (P580)                               3.000000\n",
       "дата прекращения существования (P576)            2.222222\n",
       "дата публикации (P577)                           1.333333\n",
       "архитектурный стиль (P149)                       0.444444\n",
       "создатель (P170)                                 0.388889\n",
       "дата смерти (P570)                               0.166667\n",
       "режиссёр (P57)                                   0.111111\n",
       "дата окончания (P582)                            0.055556\n",
       "первое письменное упоминание (P1249)             0.055556\n",
       "автор (P50)                                      0.055556\n",
       "Name: rel_r, dtype: float64"
      ]
     },
     "execution_count": 141,
     "metadata": {},
     "output_type": "execute_result"
    }
   ],
   "source": [
    "test.rel_r.value_counts() * 100 / test.shape[0]"
   ]
  },
  {
   "cell_type": "code",
   "execution_count": null,
   "metadata": {},
   "outputs": [],
   "source": [
    "# момент времени (P585) 0.3490566037735849\n",
    "# война/сражение (P607) 0.205607476635514\n",
    "# дата рождения (P569) 0.3522267206477733\n",
    "# род занятий (P106) 0.11952861952861953\n",
    "# дата прекращения существования (P576) 0.08108108108108109\n",
    "# дата основания/создания/возникновения (P571) 0.25757575757575757\n",
    "# участник организации или клуба (P463) 0.17857142857142858\n",
    "# часть от (P361) 0.2222222222222222\n",
    "# дата начала (P580) 0.17391304347826086\n",
    "# создатель (P170) 0.75\n",
    "# дата публикации (P577) 0.2631578947368421\n",
    "# архитектурный стиль (P149) 0.14285714285714285\n",
    "# division by zero дата окончания (P582) 1"
   ]
  },
  {
   "cell_type": "markdown",
   "metadata": {},
   "source": [
    "# MultinomialNB"
   ]
  },
  {
   "cell_type": "code",
   "execution_count": 410,
   "metadata": {},
   "outputs": [],
   "source": [
    "from sklearn.naive_bayes import MultinomialNB\n",
    "from sklearn.metrics import f1_score\n",
    "from sklearn.metrics import accuracy_score\n",
    "from sklearn.feature_extraction.text import TfidfVectorizer, CountVectorizer"
   ]
  },
  {
   "cell_type": "code",
   "execution_count": 411,
   "metadata": {},
   "outputs": [],
   "source": [
    "from nltk.corpus import stopwords\n",
    "\n",
    "mystoplemmas = ['который','прошлый','сей', 'свой', 'наш', 'мочь', 'такой', 'год', 'время', 'день', 'весь']\n",
    "mystopwords = stopwords.words('russian') + mystoplemmas + ['это', 'наш' , 'тыс', 'млн', 'млрд', 'также',  'т', 'д', 'г']\n",
    "   "
   ]
  },
  {
   "cell_type": "code",
   "execution_count": 412,
   "metadata": {},
   "outputs": [],
   "source": [
    "count_vect = CountVectorizer(ngram_range = [3,3], analyzer = 'word',  min_df = 2, stop_words=mystopwords)\n",
    "X_train = count_vect.fit_transform(train.open_q)\n",
    "y_train = train['rel'].values\n",
    "\n",
    "X_test = count_vect.transform(test.open_q)\n",
    "y_test = test['rel'].values\n"
   ]
  },
  {
   "cell_type": "code",
   "execution_count": 413,
   "metadata": {},
   "outputs": [
    {
     "data": {
      "text/plain": [
       "MultinomialNB(alpha=0.01, class_prior=None, fit_prior=True)"
      ]
     },
     "execution_count": 413,
     "metadata": {},
     "output_type": "execute_result"
    }
   ],
   "source": [
    "classifier = MultinomialNB(alpha=0.01)\n",
    "classifier.fit(X_train, y_train)"
   ]
  },
  {
   "cell_type": "code",
   "execution_count": 421,
   "metadata": {},
   "outputs": [],
   "source": [
    "y_predict = classifier.predict(X_test)"
   ]
  },
  {
   "cell_type": "code",
   "execution_count": 422,
   "metadata": {},
   "outputs": [
    {
     "name": "stdout",
     "output_type": "stream",
     "text": [
      "Accuracy score: 0.7927777777777778\n",
      "F1-measure (micro): 0.7927777777777778\n",
      "F1-measure (macro): 0.5620032177297979\n"
     ]
    },
    {
     "name": "stderr",
     "output_type": "stream",
     "text": [
      "/Library/Frameworks/Python.framework/Versions/3.6/lib/python3.6/site-packages/sklearn/metrics/classification.py:1143: UndefinedMetricWarning: F-score is ill-defined and being set to 0.0 in labels with no predicted samples.\n",
      "  'precision', 'predicted', average, warn_for)\n"
     ]
    }
   ],
   "source": [
    "print('Accuracy score:', accuracy_score(y_test, y_predict))\n",
    "print('F1-measure (micro):', f1_score(y_test, y_predict, average='micro'))\n",
    "print('F1-measure (macro):', f1_score(y_test, y_predict, average='macro'))"
   ]
  },
  {
   "cell_type": "code",
   "execution_count": 423,
   "metadata": {},
   "outputs": [
    {
     "data": {
      "text/plain": [
       "array(['P569', 'P106', 'P607', ..., 'P106', 'P106', 'P106'], dtype='<U5')"
      ]
     },
     "execution_count": 423,
     "metadata": {},
     "output_type": "execute_result"
    }
   ],
   "source": [
    "y_predict"
   ]
  },
  {
   "cell_type": "code",
   "execution_count": 438,
   "metadata": {},
   "outputs": [],
   "source": [
    "cat_mapper = {cat: n for n, cat in enumerate(test_.eng.unique())}"
   ]
  },
  {
   "cell_type": "code",
   "execution_count": null,
   "metadata": {},
   "outputs": [],
   "source": []
  },
  {
   "cell_type": "code",
   "execution_count": 425,
   "metadata": {},
   "outputs": [
    {
     "data": {
      "image/png": "[encoded data removed]",
      "text/plain": [
       "<Figure size 432x288 with 1 Axes>"
      ]
     },
     "metadata": {
      "needs_background": "light"
     },
     "output_type": "display_data"
    }
   ],
   "source": [
    "import seaborn as sns\n",
    "import matplotlib.pyplot as plt\n",
    "from sklearn.metrics import confusion_matrix\n",
    "%matplotlib inline\n",
    "\n",
    "confusion_matrix = confusion_matrix(y_test, y_predict)\n",
    "conf_mat_normalized = confusion_matrix / confusion_matrix.sum(axis=1)\n",
    "ax = sns.heatmap(data=conf_mat_normalized, annot=True, cbar=False, xticklabels=cat_mapper, yticklabels=cat_mapper)\n",
    "plt.title('Confusion matrix')\n",
    "bottom, top = ax.get_ylim()\n",
    "ax.set_ylim(bottom + 0.5, top - 0.5)\n",
    "plt.show()"
   ]
  },
  {
   "cell_type": "markdown",
   "metadata": {},
   "source": [
    "# MultinomialNB without stopwords"
   ]
  },
  {
   "cell_type": "code",
   "execution_count": 439,
   "metadata": {},
   "outputs": [],
   "source": [
    "count_vect = CountVectorizer(ngram_range = [3,3], analyzer = 'word',  min_df = 2)\n",
    "X_train = count_vect.fit_transform(train.open_q)\n",
    "y_train = train['rel_r'].values\n",
    "\n",
    "X_test = count_vect.transform(test.open_q)\n",
    "y_test = test['rel_r'].values\n"
   ]
  },
  {
   "cell_type": "code",
   "execution_count": 440,
   "metadata": {},
   "outputs": [
    {
     "data": {
      "text/plain": [
       "MultinomialNB(alpha=0.2, class_prior=None, fit_prior=True)"
      ]
     },
     "execution_count": 440,
     "metadata": {},
     "output_type": "execute_result"
    }
   ],
   "source": [
    "classifier = MultinomialNB(alpha=0.2) # best parameter: 0.2\n",
    "classifier.fit(X_train, y_train)"
   ]
  },
  {
   "cell_type": "code",
   "execution_count": 441,
   "metadata": {},
   "outputs": [],
   "source": [
    "y_predict = classifier.predict(X_test)"
   ]
  },
  {
   "cell_type": "code",
   "execution_count": 442,
   "metadata": {},
   "outputs": [
    {
     "name": "stdout",
     "output_type": "stream",
     "text": [
      "Accuracy score: 0.8788888888888889\n",
      "F1-measure (micro): 0.8788888888888889\n",
      "F1-measure (macro): 0.6391611788485703\n"
     ]
    },
    {
     "name": "stderr",
     "output_type": "stream",
     "text": [
      "/Library/Frameworks/Python.framework/Versions/3.6/lib/python3.6/site-packages/sklearn/metrics/classification.py:1143: UndefinedMetricWarning: F-score is ill-defined and being set to 0.0 in labels with no predicted samples.\n",
      "  'precision', 'predicted', average, warn_for)\n"
     ]
    }
   ],
   "source": [
    "print('Accuracy score:', accuracy_score(y_test, y_predict))\n",
    "print('F1-measure (micro):', f1_score(y_test, y_predict, average='micro'))\n",
    "print('F1-measure (macro):', f1_score(y_test, y_predict, average='macro'))"
   ]
  },
  {
   "cell_type": "code",
   "execution_count": 443,
   "metadata": {},
   "outputs": [],
   "source": [
    "# cat_mapper = {cat: n for n, cat in enumerate(test.rel_r.unique())}"
   ]
  },
  {
   "cell_type": "code",
   "execution_count": 444,
   "metadata": {},
   "outputs": [
    {
     "data": {
      "image/png": "[encoded data removed]",
      "text/plain": [
       "<Figure size 432x288 with 1 Axes>"
      ]
     },
     "metadata": {
      "needs_background": "light"
     },
     "output_type": "display_data"
    }
   ],
   "source": [
    "import seaborn as sns\n",
    "import matplotlib.pyplot as plt\n",
    "from sklearn.metrics import confusion_matrix\n",
    "%matplotlib inline\n",
    "\n",
    "confusion_matrix = confusion_matrix(y_test, y_predict)\n",
    "conf_mat_normalized = confusion_matrix / confusion_matrix.sum(axis=1)\n",
    "ax = sns.heatmap(data=conf_mat_normalized, annot=True, cbar=False, xticklabels=cat_mapper, yticklabels=cat_mapper)\n",
    "plt.title('Confusion matrix')\n",
    "bottom, top = ax.get_ylim()\n",
    "ax.set_ylim(bottom + 0.5, top - 0.5)\n",
    "plt.show()"
   ]
  },
  {
   "cell_type": "markdown",
   "metadata": {},
   "source": [
    "# tf-idf"
   ]
  },
  {
   "cell_type": "code",
   "execution_count": 451,
   "metadata": {},
   "outputs": [],
   "source": [
    "tfidf_vect = TfidfVectorizer()\n",
    "X_train = tfidf_vect.fit_transform(train.open_q)\n",
    "y_train = train['rel_r'].values\n",
    "\n",
    "X_test = tfidf_vect.transform(test.open_q)\n",
    "y_test = test['rel_r'].values"
   ]
  },
  {
   "cell_type": "code",
   "execution_count": 484,
   "metadata": {},
   "outputs": [
    {
     "data": {
      "text/plain": [
       "MultinomialNB(alpha=0.0001, class_prior=None, fit_prior=True)"
      ]
     },
     "execution_count": 484,
     "metadata": {},
     "output_type": "execute_result"
    }
   ],
   "source": [
    "classifier = MultinomialNB(alpha=0.0001) #001\n",
    "classifier.fit(X_train, y_train)"
   ]
  },
  {
   "cell_type": "code",
   "execution_count": 485,
   "metadata": {},
   "outputs": [],
   "source": [
    "y_predict = classifier.predict(X_test)"
   ]
  },
  {
   "cell_type": "code",
   "execution_count": 486,
   "metadata": {},
   "outputs": [],
   "source": [
    "# try probabilities\n",
    "\n",
    "\n",
    "# probs_pred = predict_log_proba(self, X)"
   ]
  },
  {
   "cell_type": "code",
   "execution_count": 487,
   "metadata": {},
   "outputs": [
    {
     "name": "stdout",
     "output_type": "stream",
     "text": [
      "Accuracy score: 0.9766666666666667\n",
      "F1-measure (micro): 0.9766666666666667\n",
      "F1-measure (macro): 0.9735864259993923\n"
     ]
    }
   ],
   "source": [
    "print('Accuracy score:', accuracy_score(y_test, y_predict))\n",
    "print('F1-measure (micro):', f1_score(y_test, y_predict, average='micro'))\n",
    "print('F1-measure (macro):', f1_score(y_test, y_predict, average='macro'))"
   ]
  },
  {
   "cell_type": "code",
   "execution_count": 488,
   "metadata": {},
   "outputs": [
    {
     "data": {
      "image/png": "[encoded data removed]",
      "text/plain": [
       "<Figure size 432x288 with 1 Axes>"
      ]
     },
     "metadata": {
      "needs_background": "light"
     },
     "output_type": "display_data"
    }
   ],
   "source": [
    "import seaborn as sns\n",
    "import matplotlib.pyplot as plt\n",
    "from sklearn.metrics import confusion_matrix\n",
    "%matplotlib inline\n",
    "\n",
    "confusion_matrix = confusion_matrix(y_test, y_predict)\n",
    "conf_mat_normalized = confusion_matrix / confusion_matrix.sum(axis=1)\n",
    "ax = sns.heatmap(data=conf_mat_normalized, annot=True, cbar=False, xticklabels=cat_mapper, yticklabels=cat_mapper)\n",
    "plt.title('Confusion matrix')\n",
    "bottom, top = ax.get_ylim()\n",
    "ax.set_ylim(bottom + 0.5, top - 0.5)\n",
    "plt.show()"
   ]
  },
  {
   "cell_type": "code",
   "execution_count": 489,
   "metadata": {},
   "outputs": [],
   "source": [
    "# y_predict = y_predict.tolist()\n",
    "# with open(\"class_rels97.json\", \"w\", encoding=\"utf-8\") as f:\n",
    "#         json.dump(y_predict, f, ensure_ascii=False, indent=4)"
   ]
  },
  {
   "cell_type": "markdown",
   "metadata": {},
   "source": [
    "# Linear SVM"
   ]
  },
  {
   "cell_type": "code",
   "execution_count": 297,
   "metadata": {},
   "outputs": [],
   "source": [
    "from sklearn.svm import LinearSVC"
   ]
  },
  {
   "cell_type": "code",
   "execution_count": 298,
   "metadata": {},
   "outputs": [],
   "source": [
    "tfidf_vect = TfidfVectorizer(ngram_range = [3,3], analyzer = 'word',  min_df = 2)\n",
    "X_train = tfidf_vect.fit_transform(train.open_q)\n",
    "y_train = train['rel_r'].values\n",
    "\n",
    "X_test = tfidf_vect.transform(test.open_q)\n",
    "y_test = test['rel_r'].values"
   ]
  },
  {
   "cell_type": "code",
   "execution_count": 299,
   "metadata": {},
   "outputs": [],
   "source": [
    "count_vect = CountVectorizer(ngram_range = [3,3], analyzer = 'word',  min_df = 2)\n",
    "X_train = count_vect.fit_transform(train.open_q)\n",
    "y_train = train['rel_r'].values\n",
    "\n",
    "X_test = count_vect.transform(test.open_q)\n",
    "y_test = test['rel_r'].values\n"
   ]
  },
  {
   "cell_type": "code",
   "execution_count": 300,
   "metadata": {},
   "outputs": [
    {
     "data": {
      "text/plain": [
       "LinearSVC(C=1.0, class_weight=None, dual=True, fit_intercept=True,\n",
       "     intercept_scaling=1, loss='squared_hinge', max_iter=1000,\n",
       "     multi_class='ovr', penalty='l2', random_state=None, tol=0.0001,\n",
       "     verbose=0)"
      ]
     },
     "execution_count": 300,
     "metadata": {},
     "output_type": "execute_result"
    }
   ],
   "source": [
    "classifier = LinearSVC() #class_weight=\"balanced\"\n",
    "classifier.fit(X_train, y_train)"
   ]
  },
  {
   "cell_type": "code",
   "execution_count": 301,
   "metadata": {},
   "outputs": [],
   "source": [
    "y_predict = classifier.predict(X_test)"
   ]
  },
  {
   "cell_type": "code",
   "execution_count": 302,
   "metadata": {},
   "outputs": [
    {
     "name": "stdout",
     "output_type": "stream",
     "text": [
      "Accuracy score: 0.9211111111111111\n",
      "F1-measure (micro): 0.9211111111111111\n",
      "F1-measure (macro): 0.7160387539961598\n"
     ]
    },
    {
     "name": "stderr",
     "output_type": "stream",
     "text": [
      "/Library/Frameworks/Python.framework/Versions/3.6/lib/python3.6/site-packages/sklearn/metrics/classification.py:1143: UndefinedMetricWarning: F-score is ill-defined and being set to 0.0 in labels with no predicted samples.\n",
      "  'precision', 'predicted', average, warn_for)\n"
     ]
    }
   ],
   "source": [
    "print('Accuracy score:', accuracy_score(y_test, y_predict))\n",
    "print('F1-measure (micro):', f1_score(y_test, y_predict, average='micro'))\n",
    "print('F1-measure (macro):', f1_score(y_test, y_predict, average='macro'))"
   ]
  },
  {
   "cell_type": "code",
   "execution_count": 72,
   "metadata": {},
   "outputs": [
    {
     "data": {
      "image/png": "[encoded data removed]",
      "text/plain": [
       "<Figure size 432x288 with 1 Axes>"
      ]
     },
     "metadata": {
      "needs_background": "light"
     },
     "output_type": "display_data"
    }
   ],
   "source": [
    "import seaborn as sns\n",
    "import matplotlib.pyplot as plt\n",
    "from sklearn.metrics import confusion_matrix\n",
    "%matplotlib inline\n",
    "\n",
    "confusion_matrix = confusion_matrix(y_test, y_predict)\n",
    "conf_mat_normalized = confusion_matrix / confusion_matrix.sum(axis=1)\n",
    "ax = sns.heatmap(data=conf_mat_normalized, annot=True, cbar=False, xticklabels=cat_mapper, yticklabels=cat_mapper)\n",
    "plt.title('Confusion matrix')\n",
    "bottom, top = ax.get_ylim()\n",
    "ax.set_ylim(bottom + 0.5, top - 0.5)\n",
    "plt.show()"
   ]
  },
  {
   "cell_type": "code",
   "execution_count": 73,
   "metadata": {},
   "outputs": [],
   "source": [
    "y_predict = y_predict.tolist()"
   ]
  },
  {
   "cell_type": "code",
   "execution_count": 74,
   "metadata": {},
   "outputs": [],
   "source": [
    "test_['rel_pred'] = pd.Series(y_predict)"
   ]
  },
  {
   "cell_type": "code",
   "execution_count": 75,
   "metadata": {},
   "outputs": [
    {
     "data": {
      "text/html": [
       "<div>\n",
       "<style scoped>\n",
       "    .dataframe tbody tr th:only-of-type {\n",
       "        vertical-align: middle;\n",
       "    }\n",
       "\n",
       "    .dataframe tbody tr th {\n",
       "        vertical-align: top;\n",
       "    }\n",
       "\n",
       "    .dataframe thead th {\n",
       "        text-align: right;\n",
       "    }\n",
       "</style>\n",
       "<table border=\"1\" class=\"dataframe\">\n",
       "  <thead>\n",
       "    <tr style=\"text-align: right;\">\n",
       "      <th></th>\n",
       "      <th>Q</th>\n",
       "      <th>answer_dp</th>\n",
       "      <th>answer_open</th>\n",
       "      <th>atr</th>\n",
       "      <th>ent</th>\n",
       "      <th>open_q</th>\n",
       "      <th>rel</th>\n",
       "      <th>rel_r</th>\n",
       "      <th>type</th>\n",
       "      <th>type_pred</th>\n",
       "      <th>what</th>\n",
       "      <th>rel_pred</th>\n",
       "    </tr>\n",
       "  </thead>\n",
       "  <tbody>\n",
       "    <tr>\n",
       "      <th>0</th>\n",
       "      <td>Q4409522</td>\n",
       "      <td>В 1978 году</td>\n",
       "      <td>1910</td>\n",
       "      <td>date</td>\n",
       "      <td>Сахнин, Аркадий Яковлевич</td>\n",
       "      <td>В каком году родился Аркадий Яковлевич Сахнин?</td>\n",
       "      <td>P569</td>\n",
       "      <td>дата рождения (P569)</td>\n",
       "      <td>start</td>\n",
       "      <td>start</td>\n",
       "      <td>человек</td>\n",
       "      <td>дата рождения (P569)</td>\n",
       "    </tr>\n",
       "    <tr>\n",
       "      <th>1</th>\n",
       "      <td>Q4265116</td>\n",
       "      <td>начальником конструкторского бюро цеха</td>\n",
       "      <td>инженер</td>\n",
       "      <td>Q81096</td>\n",
       "      <td>Логинов, Фёдор Георгиевич</td>\n",
       "      <td>Кем по профессии был Фёдор Георгиевич Логинов?</td>\n",
       "      <td>P106</td>\n",
       "      <td>род занятий (P106)</td>\n",
       "      <td>P106</td>\n",
       "      <td>P106</td>\n",
       "      <td>человек</td>\n",
       "      <td>род занятий (P106)</td>\n",
       "    </tr>\n",
       "    <tr>\n",
       "      <th>2</th>\n",
       "      <td>Q4102324</td>\n",
       "      <td>в Бородинском сражении</td>\n",
       "      <td>Русско-шведская война</td>\n",
       "      <td>Q736268</td>\n",
       "      <td>Вадковский, Яков Егорович</td>\n",
       "      <td>В каком вооружённом конфликте участвовал Яков ...</td>\n",
       "      <td>P607</td>\n",
       "      <td>война/сражение (P607)</td>\n",
       "      <td>P607</td>\n",
       "      <td>P607</td>\n",
       "      <td>человек</td>\n",
       "      <td>война/сражение (P607)</td>\n",
       "    </tr>\n",
       "    <tr>\n",
       "      <th>3</th>\n",
       "      <td>Q21391909</td>\n",
       "      <td>педагогом Ленинградского университета</td>\n",
       "      <td>психолог</td>\n",
       "      <td>Q212980</td>\n",
       "      <td>Люблинская, Анна Александровна</td>\n",
       "      <td>Кем по профессии была Анна Александровна Любли...</td>\n",
       "      <td>P106</td>\n",
       "      <td>род занятий (P106)</td>\n",
       "      <td>P106</td>\n",
       "      <td>P106</td>\n",
       "      <td>человек</td>\n",
       "      <td>род занятий (P106)</td>\n",
       "    </tr>\n",
       "    <tr>\n",
       "      <th>4</th>\n",
       "      <td>Q4240145</td>\n",
       "      <td>в советско-японской войне 1945 года</td>\n",
       "      <td>Курская битва</td>\n",
       "      <td>Q130861</td>\n",
       "      <td>Кремер, Симон Давидович</td>\n",
       "      <td>В какой войне участвовал Симон Давидович Кремер?</td>\n",
       "      <td>P607</td>\n",
       "      <td>война/сражение (P607)</td>\n",
       "      <td>P607</td>\n",
       "      <td>P607</td>\n",
       "      <td>человек</td>\n",
       "      <td>война/сражение (P607)</td>\n",
       "    </tr>\n",
       "  </tbody>\n",
       "</table>\n",
       "</div>"
      ],
      "text/plain": [
       "           Q                               answer_dp            answer_open  \\\n",
       "0   Q4409522                             В 1978 году                   1910   \n",
       "1   Q4265116  начальником конструкторского бюро цеха                инженер   \n",
       "2   Q4102324                  в Бородинском сражении  Русско-шведская война   \n",
       "3  Q21391909   педагогом Ленинградского университета               психолог   \n",
       "4   Q4240145     в советско-японской войне 1945 года          Курская битва   \n",
       "\n",
       "       atr                             ent  \\\n",
       "0     date       Сахнин, Аркадий Яковлевич   \n",
       "1   Q81096       Логинов, Фёдор Георгиевич   \n",
       "2  Q736268       Вадковский, Яков Егорович   \n",
       "3  Q212980  Люблинская, Анна Александровна   \n",
       "4  Q130861         Кремер, Симон Давидович   \n",
       "\n",
       "                                              open_q   rel  \\\n",
       "0     В каком году родился Аркадий Яковлевич Сахнин?  P569   \n",
       "1     Кем по профессии был Фёдор Георгиевич Логинов?  P106   \n",
       "2  В каком вооружённом конфликте участвовал Яков ...  P607   \n",
       "3  Кем по профессии была Анна Александровна Любли...  P106   \n",
       "4   В какой войне участвовал Симон Давидович Кремер?  P607   \n",
       "\n",
       "                   rel_r   type type_pred     what               rel_pred  \n",
       "0   дата рождения (P569)  start     start  человек   дата рождения (P569)  \n",
       "1     род занятий (P106)   P106      P106  человек     род занятий (P106)  \n",
       "2  война/сражение (P607)   P607      P607  человек  война/сражение (P607)  \n",
       "3     род занятий (P106)   P106      P106  человек     род занятий (P106)  \n",
       "4  война/сражение (P607)   P607      P607  человек  война/сражение (P607)  "
      ]
     },
     "execution_count": 75,
     "metadata": {},
     "output_type": "execute_result"
    }
   ],
   "source": [
    "test_.head()"
   ]
  },
  {
   "cell_type": "code",
   "execution_count": null,
   "metadata": {},
   "outputs": [],
   "source": []
  },
  {
   "cell_type": "code",
   "execution_count": null,
   "metadata": {},
   "outputs": [],
   "source": []
  }
 ],
 "metadata": {
  "kernelspec": {
   "display_name": "Python 3",
   "language": "python",
   "name": "python3"
  },
  "language_info": {
   "codemirror_mode": {
    "name": "ipython",
    "version": 3
   },
   "file_extension": ".py",
   "mimetype": "text/x-python",
   "name": "python",
   "nbconvert_exporter": "python",
   "pygments_lexer": "ipython3",
   "version": "3.6.8"
  }
 },
 "nbformat": 4,
 "nbformat_minor": 2
}
