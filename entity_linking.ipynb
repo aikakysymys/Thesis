{
 "cells": [
  {
   "cell_type": "code",
   "execution_count": 19,
   "metadata": {
    "colab": {
     "base_uri": "https://localhost:8080/",
     "height": 34
    },
    "colab_type": "code",
    "id": "kjrGopBRiN2W",
    "outputId": "f758073a-d9ad-447d-ceef-6f4ed07a30c8"
   },
   "outputs": [
    {
     "name": "stdout",
     "output_type": "stream",
     "text": [
      "Mounted at /gdrive\n"
     ]
    }
   ],
   "source": [
    "## To use Google Colab\n",
    "\n",
    "# from google.colab import drive\n",
    "# drive.mount(\"/gdrive\", force_remount=True)\n",
    "# # drive.mount('/gdrive')\n"
   ]
  },
  {
   "cell_type": "code",
   "execution_count": 1,
   "metadata": {
    "colab": {
     "base_uri": "https://localhost:8080/",
     "height": 912
    },
    "colab_type": "code",
    "id": "sbKMJLGJnLeU",
    "outputId": "b7aa7e32-30c0-476f-97db-8f31784aba0e"
   },
   "outputs": [],
   "source": [
    "# %cd /gdrive\n",
    "# %cd 'My Drive'\n",
    "# # %cd Maga\n",
    "# %cd Diploma"
   ]
  },
  {
   "cell_type": "code",
   "execution_count": 3,
   "metadata": {
    "colab": {
     "base_uri": "https://localhost:8080/",
     "height": 34
    },
    "colab_type": "code",
    "id": "DAG_nHIsnIvG",
    "outputId": "8281cfcf-1083-4ade-f60c-97a3384eb40a"
   },
   "outputs": [
    {
     "name": "stdout",
     "output_type": "stream",
     "text": [
      "morewiki_1456.json  morewiki_50.json\r\n",
      "morewiki_20.json    ranking_experiments.ipynb\r\n"
     ]
    }
   ],
   "source": [
    "!ls"
   ]
  },
  {
   "cell_type": "code",
   "execution_count": 0,
   "metadata": {
    "colab": {},
    "colab_type": "code",
    "id": "W2y9PwtujJ4-"
   },
   "outputs": [],
   "source": [
    "# !git clone https://github.com/huggingface/transformers.git\n",
    "# # !git clone https://github.com/huggingface/transformers --branch quickstart-model2model\n",
    "# %cd transformers\n",
    "# !pip3 install .\n",
    "# !git pull\n",
    "# !pip3 install --upgrade ."
   ]
  },
  {
   "cell_type": "code",
   "execution_count": 0,
   "metadata": {
    "colab": {},
    "colab_type": "code",
    "id": "SPNv7EQ2Ea_0"
   },
   "outputs": [],
   "source": [
    "# ! pip3 uninstall transformers"
   ]
  },
  {
   "cell_type": "code",
   "execution_count": 2,
   "metadata": {
    "colab": {
     "base_uri": "https://localhost:8080/",
     "height": 523
    },
    "colab_type": "code",
    "id": "tHXkXSCNC0bh",
    "outputId": "5b2837bc-d335-44cb-d721-de9bc428bbf4"
   },
   "outputs": [],
   "source": [
    "# # !git clone https://github.com/huggingface/transformers\n",
    "# %cd transformers\n",
    "# !pip3 install ."
   ]
  },
  {
   "cell_type": "code",
   "execution_count": 24,
   "metadata": {
    "colab": {},
    "colab_type": "code",
    "id": "QdO0bjzojMS7"
   },
   "outputs": [],
   "source": [
    "import json\n",
    "from transformers import BertModel, BertTokenizer\n",
    "import torch\n",
    "from sklearn.metrics.pairwise import cosine_similarity\n",
    "import numpy as np"
   ]
  },
  {
   "cell_type": "code",
   "execution_count": 25,
   "metadata": {
    "colab": {},
    "colab_type": "code",
    "id": "he4IQoaTy8mC"
   },
   "outputs": [],
   "source": [
    "# !tar -xzf rubert_cased_L-12_H-768_A-12_pt.tar.gz"
   ]
  },
  {
   "cell_type": "code",
   "execution_count": 26,
   "metadata": {
    "colab": {},
    "colab_type": "code",
    "id": "1y-Z_kB6774Z"
   },
   "outputs": [],
   "source": [
    "# import os\n",
    "# os.chdir(\"../\")"
   ]
  },
  {
   "cell_type": "code",
   "execution_count": 27,
   "metadata": {
    "colab": {
     "base_uri": "https://localhost:8080/",
     "height": 121
    },
    "colab_type": "code",
    "id": "jhILE0DH8Oq6",
    "outputId": "f55db0e1-e016-4fba-cd46-4edddd191062"
   },
   "outputs": [],
   "source": [
    "# !ls\n",
    "# !cd rubert_cased_L-12_H-768_A-12_pt"
   ]
  },
  {
   "cell_type": "code",
   "execution_count": 28,
   "metadata": {
    "colab": {},
    "colab_type": "code",
    "id": "B_b-RpD0iN2w"
   },
   "outputs": [],
   "source": [
    "# ru_bert_path = \"rubert_cased_L-12_H-768_A-12_pt\"\n",
    "ru_bert_path = \"/datadrive/axon/something_reasoning/models/rubert_cased_L-12_H-768_A-12_pt/\""
   ]
  },
  {
   "cell_type": "code",
   "execution_count": 29,
   "metadata": {
    "colab": {},
    "colab_type": "code",
    "id": "x0vdLOZLiN2_"
   },
   "outputs": [],
   "source": [
    "relations = [\"синонимы\", \"labels\", \"sitelinks\", \"summary\", \"content\"]"
   ]
  },
  {
   "cell_type": "code",
   "execution_count": 30,
   "metadata": {
    "colab": {},
    "colab_type": "code",
    "id": "Sm2FUNaciN3N"
   },
   "outputs": [],
   "source": [
    "tokenizer = BertTokenizer.from_pretrained(ru_bert_path)"
   ]
  },
  {
   "cell_type": "code",
   "execution_count": 31,
   "metadata": {
    "colab": {},
    "colab_type": "code",
    "id": "Nj4mlzdhiN3V"
   },
   "outputs": [],
   "source": [
    "model = BertModel.from_pretrained(ru_bert_path)"
   ]
  },
  {
   "cell_type": "code",
   "execution_count": 32,
   "metadata": {
    "colab": {},
    "colab_type": "code",
    "id": "bKYHjkEsiN3g"
   },
   "outputs": [],
   "source": [
    "model = model.eval()"
   ]
  },
  {
   "cell_type": "code",
   "execution_count": 33,
   "metadata": {
    "colab": {},
    "colab_type": "code",
    "id": "fIgldCbBiN3y"
   },
   "outputs": [],
   "source": [
    "from tqdm import tqdm"
   ]
  },
  {
   "cell_type": "code",
   "execution_count": 34,
   "metadata": {
    "colab": {},
    "colab_type": "code",
    "id": "eS0u1DKaiN3_"
   },
   "outputs": [],
   "source": [
    "def default_collate(batch):\n",
    "    return {k: torch.LongTensor(v) for k, v in batch.items()}"
   ]
  },
  {
   "cell_type": "code",
   "execution_count": 35,
   "metadata": {
    "colab": {},
    "colab_type": "code",
    "id": "wzx52hy9iN4O"
   },
   "outputs": [],
   "source": [
    "def get_vec(text):\n",
    "\n",
    "    # print(\"text\", text)\n",
    "\n",
    "    b = default_collate(tokenizer.batch_encode_plus([text]))\n",
    "    out = model(**b)\n",
    "\n",
    "    # print(\"b\", b)\n",
    "    # print(\"out\", out)\n",
    "    \n",
    "    vec = out[1][0]\n",
    "\n",
    "    # print(\"vec\", vec)\n",
    "\n",
    "    return vec.detach().numpy()"
   ]
  },
  {
   "cell_type": "code",
   "execution_count": 36,
   "metadata": {
    "colab": {},
    "colab_type": "code",
    "id": "gQAYnJbUiN4b"
   },
   "outputs": [],
   "source": [
    "def get_cosins(query_text, info):\n",
    "    query = get_vec(query_text)\n",
    "    \n",
    "    example = []\n",
    "    \n",
    "    # count = 0\n",
    "\n",
    "    for q in info[\"ranking_candidates\"]:\n",
    "\n",
    "        vectors = []\n",
    "\n",
    "        for val in q[\"graph\"]: # TypeError: string indices must be integers\n",
    "\n",
    "            if val[\"relation\"] in relations:\n",
    "                text = val[\"value\"] if isinstance(val[\"value\"], str) else \" \".join(val[\"value\"])\n",
    "                text = text[:256]\n",
    "                val_vec = get_vec(text)\n",
    "                vectors.append(val_vec)\n",
    "        # for doc in q[\"documents\"]:\n",
    "        #     text = doc[\"document\"][:256]\n",
    "        #     val_vec = get_vec(text)\n",
    "        #     vectors.append(val_vec)\n",
    "        v = np.vstack(vectors)\n",
    "        qv = np.vstack([query] * len(v))\n",
    "\n",
    "        # print(\"cosine_similarity(v, qv)[:, 0]\", cosine_similarity(v, qv)[:, 0])\n",
    "        # print(\"cosine_similarity(v, qv)\", cosine_similarity(v, qv))\n",
    "\n",
    "        example.append({\"id\": q[\"Q\"], \"cosins\": cosine_similarity(v, qv)[:, 0]})\n",
    "    return example"
   ]
  },
  {
   "cell_type": "code",
   "execution_count": 37,
   "metadata": {
    "colab": {},
    "colab_type": "code",
    "id": "TSI2eZuyiN40"
   },
   "outputs": [],
   "source": [
    "# # wikilink_final/morewiki_20.json\n",
    "# with open(\"morewiki_1456.json\", \"r\") as file:\n",
    "#     data = json.load(file)"
   ]
  },
  {
   "cell_type": "code",
   "execution_count": 38,
   "metadata": {},
   "outputs": [],
   "source": [
    "with open(\"all_wiki_1810r21rubert_nerdp.json\", \"r\") as file:\n",
    "    data = json.load(file)"
   ]
  },
  {
   "cell_type": "code",
   "execution_count": 39,
   "metadata": {
    "colab": {},
    "colab_type": "code",
    "id": "AmYYQmiaiN47"
   },
   "outputs": [],
   "source": [
    "from tqdm import tqdm_notebook"
   ]
  },
  {
   "cell_type": "code",
   "execution_count": 40,
   "metadata": {
    "colab": {},
    "colab_type": "code",
    "id": "o5ijho-3iN5E"
   },
   "outputs": [],
   "source": [
    "def get_cosins_all(data):\n",
    "    lines = []\n",
    "    y_trues = []\n",
    "    questions = [] # for getting ranked Qs\n",
    "    \n",
    "    for query_text in tqdm_notebook(data, total=len(data), leave=False):\n",
    "        info = data[query_text]\n",
    "        y_trues.append(info.get(\"y_gold\"))\n",
    "\n",
    "        # change for NER\n",
    "        ner = data[query_text][\"nerdp\"]\n",
    "        lines.append(get_cosins(ner, info))\n",
    "        \n",
    "#         lines.append(get_cosins(query_text, info))\n",
    "\n",
    "        questions.append(query_text) # for Qs\n",
    "    \n",
    "    return lines, y_trues, questions"
   ]
  },
  {
   "cell_type": "code",
   "execution_count": 41,
   "metadata": {
    "colab": {},
    "colab_type": "code",
    "id": "aP6Frz8SiN5P"
   },
   "outputs": [],
   "source": [
    "def get_scores(lines, y_trues, top_n=2):\n",
    "    answers = 0\n",
    "    all_counter = 0\n",
    "    zero_counts = 0\n",
    "    lens_ranking = []\n",
    "\n",
    "    for line, y_true in zip(lines, y_trues):\n",
    "        cosins = []\n",
    "        ids = []\n",
    "        for q in line:\n",
    "            cosins.append(max(q[\"cosins\"]))\n",
    "            ids.append(q[\"id\"])\n",
    "        lens_ranking.append(len(cosins))\n",
    "        if cosins:\n",
    "            idx = np.argsort(cosins)[-top_n:] # ?\n",
    "            if y_true is not None:\n",
    "                all_counter += 1\n",
    "                if y_true in np.array(ids)[idx]:\n",
    "                    answers += 1\n",
    "        else:\n",
    "            zero_counts += 1\n",
    "    return answers, all_counter, zero_counts, lens_ranking"
   ]
  },
  {
   "cell_type": "code",
   "execution_count": 42,
   "metadata": {
    "colab": {},
    "colab_type": "code",
    "id": "8qmWbMWeAQ5_"
   },
   "outputs": [],
   "source": [
    "def get_top_5(lines, y_trues, questions, top_n=2):\n",
    "    answers = 0\n",
    "    all_counter = 0\n",
    "    zero_counts = 0\n",
    "    lens_ranking = []\n",
    "    question_candidates = {}\n",
    "\n",
    "    for line, y_true, question in zip(lines, y_trues, questions):\n",
    "        cosins = []\n",
    "        ids = []\n",
    "        for q in line:\n",
    "            cosins.append(max(q[\"cosins\"]))\n",
    "            ids.append(q[\"id\"])\n",
    "        lens_ranking.append(len(cosins))\n",
    "        if cosins:\n",
    "            idx = np.argsort(cosins)[-top_n:]\n",
    "            if y_true is not None:\n",
    "                all_counter += 1\n",
    "                top_Q = np.array(ids)[idx]\n",
    "                question_candidates[question] = top_Q\n",
    "                if y_true in np.array(ids)[idx]:\n",
    "                    answers += 1\n",
    "        else:\n",
    "            zero_counts += 1\n",
    "    return answers, all_counter, zero_counts, lens_ranking, question_candidates"
   ]
  },
  {
   "cell_type": "code",
   "execution_count": 43,
   "metadata": {
    "colab": {},
    "colab_type": "code",
    "id": "GREqARkTiN5V"
   },
   "outputs": [],
   "source": [
    "# with open(\"ranking_data_v1-1.json\", \"r\") as file:\n",
    "#     data = json.load(file)"
   ]
  },
  {
   "cell_type": "code",
   "execution_count": 44,
   "metadata": {
    "colab": {},
    "colab_type": "code",
    "id": "V4J6e22_iN5c"
   },
   "outputs": [],
   "source": [
    "# with open(\"res4_wikidata.json\", \"r\") as file:\n",
    "#     data = json.load(file)"
   ]
  },
  {
   "cell_type": "code",
   "execution_count": 45,
   "metadata": {
    "colab": {
     "base_uri": "https://localhost:8080/",
     "height": 121
    },
    "colab_type": "code",
    "id": "zI05ReSdHnrC",
    "outputId": "bd55243f-f019-4e3a-a3b2-d5ad19cb137f"
   },
   "outputs": [],
   "source": [
    "# !ls"
   ]
  },
  {
   "cell_type": "code",
   "execution_count": 19,
   "metadata": {
    "colab": {
     "base_uri": "https://localhost:8080/",
     "height": 1000,
     "referenced_widgets": [
      "a22a410584cc49feb645e886daab32c9",
      "381c94f44ee34e399e167d64f5b24c3c",
      "a416a52c367e46e7a731f3862e9200f0",
      "739a510fa2214edfa24d1530fe258666",
      "c65be04cb3da4f2087826819df28a7d2",
      "7b43d8797c6641fbbb02114324049cd0",
      "cf5b66b3ce64496cafc89f4d2d93dd6d",
      "3b7607403bb448d29a49683aa76940ed"
     ]
    },
    "colab_type": "code",
    "id": "FnvGNrzGiN5i",
    "outputId": "14568b98-ae90-477a-d4ac-410746b32394"
   },
   "outputs": [
    {
     "data": {
      "application/vnd.jupyter.widget-view+json": {
       "model_id": "",
       "version_major": 2,
       "version_minor": 0
      },
      "text/plain": [
       "HBox(children=(IntProgress(value=0, max=1810), HTML(value='')))"
      ]
     },
     "metadata": {},
     "output_type": "display_data"
    },
    {
     "name": "stdout",
     "output_type": "stream",
     "text": [
      "\r"
     ]
    }
   ],
   "source": [
    "lines, y_trues, questions = get_cosins_all(data)"
   ]
  },
  {
   "cell_type": "code",
   "execution_count": 22,
   "metadata": {},
   "outputs": [],
   "source": [
    "answers, all_counter, zero_counts, lens_ranking, question_candidates = get_top_5(lines, y_trues, questions, top_n=21)\n"
   ]
  },
  {
   "cell_type": "code",
   "execution_count": 23,
   "metadata": {},
   "outputs": [],
   "source": [
    "for q in question_candidates:\n",
    "    if type(question_candidates[q]) == list:\n",
    "        continue\n",
    "    question_candidates[q] = question_candidates[q].tolist()\n",
    "#     print(question_candidates[q])\n",
    "#     break"
   ]
  },
  {
   "cell_type": "code",
   "execution_count": 46,
   "metadata": {},
   "outputs": [],
   "source": [
    "import json\n",
    "\n",
    "with open(\"Q_for_gr_ranked_ner_dp.json\", \"w\", encoding=\"utf-8\") as f:\n",
    "        json.dump(question_candidates, f, ensure_ascii=False, indent=4)"
   ]
  },
  {
   "cell_type": "markdown",
   "metadata": {},
   "source": [
    "## For 1800 questions, 1-21 Qs per question to rank -- with Deep Pavlov NER "
   ]
  },
  {
   "cell_type": "code",
   "execution_count": 47,
   "metadata": {},
   "outputs": [],
   "source": [
    "answers, all_counter, zero_counts, lens_ranking = get_scores(lines, y_trues, top_n=1)"
   ]
  },
  {
   "cell_type": "code",
   "execution_count": 48,
   "metadata": {},
   "outputs": [
    {
     "data": {
      "text/plain": [
       "0.6812154696132596"
      ]
     },
     "execution_count": 48,
     "metadata": {},
     "output_type": "execute_result"
    }
   ],
   "source": [
    "answers / len(lines)"
   ]
  },
  {
   "cell_type": "code",
   "execution_count": 49,
   "metadata": {},
   "outputs": [],
   "source": [
    "answers, all_counter, zero_counts, lens_ranking = get_scores(lines, y_trues, top_n=2)"
   ]
  },
  {
   "cell_type": "code",
   "execution_count": 50,
   "metadata": {},
   "outputs": [
    {
     "data": {
      "text/plain": [
       "0.8259668508287292"
      ]
     },
     "execution_count": 50,
     "metadata": {},
     "output_type": "execute_result"
    }
   ],
   "source": [
    "answers / len(lines)"
   ]
  },
  {
   "cell_type": "code",
   "execution_count": 51,
   "metadata": {},
   "outputs": [],
   "source": [
    "answers, all_counter, zero_counts, lens_ranking = get_scores(lines, y_trues, top_n=3)"
   ]
  },
  {
   "cell_type": "code",
   "execution_count": 52,
   "metadata": {},
   "outputs": [
    {
     "data": {
      "text/plain": [
       "0.8740331491712707"
      ]
     },
     "execution_count": 52,
     "metadata": {},
     "output_type": "execute_result"
    }
   ],
   "source": [
    "answers / len(lines)"
   ]
  },
  {
   "cell_type": "markdown",
   "metadata": {},
   "source": [
    "### For 1810 questions, 1-21 Qs per question to rank -- NER ranked"
   ]
  },
  {
   "cell_type": "code",
   "execution_count": 116,
   "metadata": {},
   "outputs": [],
   "source": [
    "answers, all_counter, zero_counts, lens_ranking = get_scores(lines, y_trues, top_n=1)"
   ]
  },
  {
   "cell_type": "code",
   "execution_count": 117,
   "metadata": {},
   "outputs": [
    {
     "data": {
      "text/plain": [
       "0.9788888888888889"
      ]
     },
     "execution_count": 117,
     "metadata": {},
     "output_type": "execute_result"
    }
   ],
   "source": [
    "answers / len(lines)"
   ]
  },
  {
   "cell_type": "code",
   "execution_count": 118,
   "metadata": {},
   "outputs": [],
   "source": [
    "answers, all_counter, zero_counts, lens_ranking = get_scores(lines, y_trues, top_n=2)"
   ]
  },
  {
   "cell_type": "code",
   "execution_count": 119,
   "metadata": {},
   "outputs": [
    {
     "data": {
      "text/plain": [
       "0.9905555555555555"
      ]
     },
     "execution_count": 119,
     "metadata": {},
     "output_type": "execute_result"
    }
   ],
   "source": [
    "answers / len(lines)"
   ]
  },
  {
   "cell_type": "code",
   "execution_count": 120,
   "metadata": {},
   "outputs": [],
   "source": [
    "answers, all_counter, zero_counts, lens_ranking = get_scores(lines, y_trues, top_n=3)"
   ]
  },
  {
   "cell_type": "code",
   "execution_count": 121,
   "metadata": {},
   "outputs": [
    {
     "data": {
      "text/plain": [
       "0.9944444444444445"
      ]
     },
     "execution_count": 121,
     "metadata": {},
     "output_type": "execute_result"
    }
   ],
   "source": [
    "answers / len(lines)"
   ]
  },
  {
   "cell_type": "code",
   "execution_count": 122,
   "metadata": {},
   "outputs": [],
   "source": [
    "answers, all_counter, zero_counts, lens_ranking = get_scores(lines, y_trues, top_n=5)"
   ]
  },
  {
   "cell_type": "code",
   "execution_count": 123,
   "metadata": {},
   "outputs": [
    {
     "data": {
      "text/plain": [
       "0.9977777777777778"
      ]
     },
     "execution_count": 123,
     "metadata": {},
     "output_type": "execute_result"
    }
   ],
   "source": [
    "answers / len(lines)"
   ]
  },
  {
   "cell_type": "markdown",
   "metadata": {},
   "source": [
    "### For 1810 questions, 1-21 Qs per question to rank"
   ]
  },
  {
   "cell_type": "code",
   "execution_count": 81,
   "metadata": {},
   "outputs": [],
   "source": [
    "answers, all_counter, zero_counts, lens_ranking = get_scores(lines, y_trues, top_n=1)"
   ]
  },
  {
   "cell_type": "code",
   "execution_count": 82,
   "metadata": {},
   "outputs": [
    {
     "data": {
      "text/plain": [
       "0.48066298342541436"
      ]
     },
     "execution_count": 82,
     "metadata": {},
     "output_type": "execute_result"
    }
   ],
   "source": [
    "answers / len(lines)"
   ]
  },
  {
   "cell_type": "code",
   "execution_count": 83,
   "metadata": {},
   "outputs": [],
   "source": [
    "answers, all_counter, zero_counts, lens_ranking = get_scores(lines, y_trues, top_n=2)"
   ]
  },
  {
   "cell_type": "code",
   "execution_count": 84,
   "metadata": {},
   "outputs": [
    {
     "data": {
      "text/plain": [
       "0.6591160220994475"
      ]
     },
     "execution_count": 84,
     "metadata": {},
     "output_type": "execute_result"
    }
   ],
   "source": [
    "answers / len(lines)"
   ]
  },
  {
   "cell_type": "code",
   "execution_count": 85,
   "metadata": {},
   "outputs": [],
   "source": [
    "answers, all_counter, zero_counts, lens_ranking = get_scores(lines, y_trues, top_n=3)"
   ]
  },
  {
   "cell_type": "code",
   "execution_count": 86,
   "metadata": {},
   "outputs": [
    {
     "data": {
      "text/plain": [
       "0.7828729281767955"
      ]
     },
     "execution_count": 86,
     "metadata": {},
     "output_type": "execute_result"
    }
   ],
   "source": [
    "answers / len(lines)"
   ]
  },
  {
   "cell_type": "code",
   "execution_count": 87,
   "metadata": {},
   "outputs": [],
   "source": [
    "answers, all_counter, zero_counts, lens_ranking = get_scores(lines, y_trues, top_n=5)"
   ]
  },
  {
   "cell_type": "code",
   "execution_count": 88,
   "metadata": {},
   "outputs": [
    {
     "data": {
      "text/plain": [
       "0.8823204419889503"
      ]
     },
     "execution_count": 88,
     "metadata": {},
     "output_type": "execute_result"
    }
   ],
   "source": [
    "answers / len(lines)"
   ]
  },
  {
   "cell_type": "markdown",
   "metadata": {
    "colab": {
     "base_uri": "https://localhost:8080/",
     "height": 1000
    },
    "colab_type": "code",
    "id": "sDQe3mNzCNe8",
    "outputId": "9ba5d629-95a8-4d57-debf-fde7d7e494e0"
   },
   "source": [
    "### For 1456 questions, 2-21 Qs per question to rank\n",
    "(morewiki_1456.json)"
   ]
  },
  {
   "cell_type": "code",
   "execution_count": 38,
   "metadata": {
    "colab": {},
    "colab_type": "code",
    "id": "RLLOCrLgiN5w"
   },
   "outputs": [],
   "source": [
    "answers, all_counter, zero_counts, lens_ranking = get_scores(lines, y_trues, top_n=1)"
   ]
  },
  {
   "cell_type": "code",
   "execution_count": 39,
   "metadata": {
    "colab": {
     "base_uri": "https://localhost:8080/",
     "height": 34
    },
    "colab_type": "code",
    "id": "1VVR9hNfiN5_",
    "outputId": "9d5ba665-2d24-46b2-98d6-5c69dd3b0f41"
   },
   "outputs": [
    {
     "data": {
      "text/plain": [
       "0.3543956043956044"
      ]
     },
     "execution_count": 39,
     "metadata": {},
     "output_type": "execute_result"
    }
   ],
   "source": [
    "answers / len(lines)"
   ]
  },
  {
   "cell_type": "code",
   "execution_count": 40,
   "metadata": {
    "colab": {},
    "colab_type": "code",
    "id": "u8kc6gKHiN6I"
   },
   "outputs": [],
   "source": [
    "answers, all_counter, zero_counts, lens_ranking = get_scores(lines, y_trues, top_n=2)"
   ]
  },
  {
   "cell_type": "code",
   "execution_count": 41,
   "metadata": {
    "colab": {
     "base_uri": "https://localhost:8080/",
     "height": 34
    },
    "colab_type": "code",
    "id": "Wmxrn9J7iN6n",
    "outputId": "ee27ec3d-7e49-4e72-aca3-1be1597b0aa1"
   },
   "outputs": [
    {
     "data": {
      "text/plain": [
       "0.5762362637362637"
      ]
     },
     "execution_count": 41,
     "metadata": {},
     "output_type": "execute_result"
    }
   ],
   "source": [
    "answers / len(lines)"
   ]
  },
  {
   "cell_type": "code",
   "execution_count": 42,
   "metadata": {
    "colab": {},
    "colab_type": "code",
    "id": "K7csyhn1iN60"
   },
   "outputs": [],
   "source": [
    "answers, all_counter, zero_counts, lens_ranking = get_scores(lines, y_trues, top_n=3)"
   ]
  },
  {
   "cell_type": "code",
   "execution_count": 43,
   "metadata": {
    "colab": {
     "base_uri": "https://localhost:8080/",
     "height": 34
    },
    "colab_type": "code",
    "id": "jNJImtkZiN6-",
    "outputId": "bfab714b-c407-406f-fa98-6d18d2ff7d3a"
   },
   "outputs": [
    {
     "data": {
      "text/plain": [
       "0.7300824175824175"
      ]
     },
     "execution_count": 43,
     "metadata": {},
     "output_type": "execute_result"
    }
   ],
   "source": [
    "answers / len(lines)"
   ]
  },
  {
   "cell_type": "code",
   "execution_count": 45,
   "metadata": {},
   "outputs": [],
   "source": [
    "answers, all_counter, zero_counts, lens_ranking = get_scores(lines, y_trues, top_n=5)"
   ]
  },
  {
   "cell_type": "code",
   "execution_count": 46,
   "metadata": {},
   "outputs": [
    {
     "data": {
      "text/plain": [
       "0.8537087912087912"
      ]
     },
     "execution_count": 46,
     "metadata": {},
     "output_type": "execute_result"
    }
   ],
   "source": [
    "answers / len(lines)"
   ]
  },
  {
   "cell_type": "code",
   "execution_count": 47,
   "metadata": {},
   "outputs": [],
   "source": [
    "answers, all_counter, zero_counts, lens_ranking = get_scores(lines, y_trues, top_n=6)"
   ]
  },
  {
   "cell_type": "code",
   "execution_count": 48,
   "metadata": {},
   "outputs": [
    {
     "data": {
      "text/plain": [
       "0.885989010989011"
      ]
     },
     "execution_count": 48,
     "metadata": {},
     "output_type": "execute_result"
    }
   ],
   "source": [
    "answers / len(lines)"
   ]
  },
  {
   "cell_type": "code",
   "execution_count": 59,
   "metadata": {},
   "outputs": [],
   "source": [
    "answers, all_counter, zero_counts, lens_ranking = get_scores(lines, y_trues, top_n=8)"
   ]
  },
  {
   "cell_type": "code",
   "execution_count": 60,
   "metadata": {},
   "outputs": [
    {
     "data": {
      "text/plain": [
       "0.9333791208791209"
      ]
     },
     "execution_count": 60,
     "metadata": {},
     "output_type": "execute_result"
    }
   ],
   "source": [
    "answers / len(lines)"
   ]
  },
  {
   "cell_type": "code",
   "execution_count": 44,
   "metadata": {
    "colab": {
     "base_uri": "https://localhost:8080/",
     "height": 34
    },
    "colab_type": "code",
    "id": "U2djU7hRiN7F",
    "outputId": "9ea34f01-e319-41bf-aeba-64412197358e"
   },
   "outputs": [
    {
     "data": {
      "text/plain": [
       "6.3282967032967035"
      ]
     },
     "execution_count": 44,
     "metadata": {},
     "output_type": "execute_result"
    }
   ],
   "source": [
    "np.mean(lens_ranking)"
   ]
  },
  {
   "cell_type": "code",
   "execution_count": 62,
   "metadata": {
    "colab": {},
    "colab_type": "code",
    "id": "Ea-rTrmuiN7L"
   },
   "outputs": [
    {
     "data": {
      "text/plain": [
       "array([[1, 2, 3],\n",
       "       [4, 5, 6]])"
      ]
     },
     "execution_count": 62,
     "metadata": {},
     "output_type": "execute_result"
    }
   ],
   "source": [
    "import numpy as np\n",
    "np.array([[1,2,3],[4,5,6]])#.tolist()\n",
    "# [[1, 2, 3], [4, 5, 6]]"
   ]
  },
  {
   "cell_type": "code",
   "execution_count": null,
   "metadata": {},
   "outputs": [],
   "source": []
  }
 ],
 "metadata": {
  "colab": {
   "collapsed_sections": [],
   "name": "Copy of ranking_Anton.ipynb",
   "provenance": []
  },
  "kernelspec": {
   "display_name": "Python 3",
   "language": "python",
   "name": "python3"
  },
  "language_info": {
   "codemirror_mode": {
    "name": "ipython",
    "version": 3
   },
   "file_extension": ".py",
   "mimetype": "text/x-python",
   "name": "python",
   "nbconvert_exporter": "python",
   "pygments_lexer": "ipython3",
   "version": "3.7.3"
  },
  "widgets": {
   "application/vnd.jupyter.widget-state+json": {
    "381c94f44ee34e399e167d64f5b24c3c": {
     "model_module": "@jupyter-widgets/base",
     "model_name": "LayoutModel",
     "state": {
      "_model_module": "@jupyter-widgets/base",
      "_model_module_version": "1.2.0",
      "_model_name": "LayoutModel",
      "_view_count": null,
      "_view_module": "@jupyter-widgets/base",
      "_view_module_version": "1.2.0",
      "_view_name": "LayoutView",
      "align_content": null,
      "align_items": null,
      "align_self": null,
      "border": null,
      "bottom": null,
      "display": null,
      "flex": null,
      "flex_flow": null,
      "grid_area": null,
      "grid_auto_columns": null,
      "grid_auto_flow": null,
      "grid_auto_rows": null,
      "grid_column": null,
      "grid_gap": null,
      "grid_row": null,
      "grid_template_areas": null,
      "grid_template_columns": null,
      "grid_template_rows": null,
      "height": null,
      "justify_content": null,
      "justify_items": null,
      "left": null,
      "margin": null,
      "max_height": null,
      "max_width": null,
      "min_height": null,
      "min_width": null,
      "object_fit": null,
      "object_position": null,
      "order": null,
      "overflow": null,
      "overflow_x": null,
      "overflow_y": null,
      "padding": null,
      "right": null,
      "top": null,
      "visibility": null,
      "width": null
     }
    },
    "3b7607403bb448d29a49683aa76940ed": {
     "model_module": "@jupyter-widgets/base",
     "model_name": "LayoutModel",
     "state": {
      "_model_module": "@jupyter-widgets/base",
      "_model_module_version": "1.2.0",
      "_model_name": "LayoutModel",
      "_view_count": null,
      "_view_module": "@jupyter-widgets/base",
      "_view_module_version": "1.2.0",
      "_view_name": "LayoutView",
      "align_content": null,
      "align_items": null,
      "align_self": null,
      "border": null,
      "bottom": null,
      "display": null,
      "flex": null,
      "flex_flow": null,
      "grid_area": null,
      "grid_auto_columns": null,
      "grid_auto_flow": null,
      "grid_auto_rows": null,
      "grid_column": null,
      "grid_gap": null,
      "grid_row": null,
      "grid_template_areas": null,
      "grid_template_columns": null,
      "grid_template_rows": null,
      "height": null,
      "justify_content": null,
      "justify_items": null,
      "left": null,
      "margin": null,
      "max_height": null,
      "max_width": null,
      "min_height": null,
      "min_width": null,
      "object_fit": null,
      "object_position": null,
      "order": null,
      "overflow": null,
      "overflow_x": null,
      "overflow_y": null,
      "padding": null,
      "right": null,
      "top": null,
      "visibility": null,
      "width": null
     }
    },
    "739a510fa2214edfa24d1530fe258666": {
     "model_module": "@jupyter-widgets/controls",
     "model_name": "HTMLModel",
     "state": {
      "_dom_classes": [],
      "_model_module": "@jupyter-widgets/controls",
      "_model_module_version": "1.5.0",
      "_model_name": "HTMLModel",
      "_view_count": null,
      "_view_module": "@jupyter-widgets/controls",
      "_view_module_version": "1.5.0",
      "_view_name": "HTMLView",
      "description": "",
      "description_tooltip": null,
      "layout": "IPY_MODEL_3b7607403bb448d29a49683aa76940ed",
      "placeholder": "​",
      "style": "IPY_MODEL_cf5b66b3ce64496cafc89f4d2d93dd6d",
      "value": " 1456/1456 [2:08:12&lt;00:00,  7.31s/it]"
     }
    },
    "7b43d8797c6641fbbb02114324049cd0": {
     "model_module": "@jupyter-widgets/base",
     "model_name": "LayoutModel",
     "state": {
      "_model_module": "@jupyter-widgets/base",
      "_model_module_version": "1.2.0",
      "_model_name": "LayoutModel",
      "_view_count": null,
      "_view_module": "@jupyter-widgets/base",
      "_view_module_version": "1.2.0",
      "_view_name": "LayoutView",
      "align_content": null,
      "align_items": null,
      "align_self": null,
      "border": null,
      "bottom": null,
      "display": null,
      "flex": null,
      "flex_flow": null,
      "grid_area": null,
      "grid_auto_columns": null,
      "grid_auto_flow": null,
      "grid_auto_rows": null,
      "grid_column": null,
      "grid_gap": null,
      "grid_row": null,
      "grid_template_areas": null,
      "grid_template_columns": null,
      "grid_template_rows": null,
      "height": null,
      "justify_content": null,
      "justify_items": null,
      "left": null,
      "margin": null,
      "max_height": null,
      "max_width": null,
      "min_height": null,
      "min_width": null,
      "object_fit": null,
      "object_position": null,
      "order": null,
      "overflow": null,
      "overflow_x": null,
      "overflow_y": null,
      "padding": null,
      "right": null,
      "top": null,
      "visibility": null,
      "width": null
     }
    },
    "a22a410584cc49feb645e886daab32c9": {
     "model_module": "@jupyter-widgets/controls",
     "model_name": "HBoxModel",
     "state": {
      "_dom_classes": [],
      "_model_module": "@jupyter-widgets/controls",
      "_model_module_version": "1.5.0",
      "_model_name": "HBoxModel",
      "_view_count": null,
      "_view_module": "@jupyter-widgets/controls",
      "_view_module_version": "1.5.0",
      "_view_name": "HBoxView",
      "box_style": "",
      "children": [
       "IPY_MODEL_a416a52c367e46e7a731f3862e9200f0",
       "IPY_MODEL_739a510fa2214edfa24d1530fe258666"
      ],
      "layout": "IPY_MODEL_381c94f44ee34e399e167d64f5b24c3c"
     }
    },
    "a416a52c367e46e7a731f3862e9200f0": {
     "model_module": "@jupyter-widgets/controls",
     "model_name": "FloatProgressModel",
     "state": {
      "_dom_classes": [],
      "_model_module": "@jupyter-widgets/controls",
      "_model_module_version": "1.5.0",
      "_model_name": "FloatProgressModel",
      "_view_count": null,
      "_view_module": "@jupyter-widgets/controls",
      "_view_module_version": "1.5.0",
      "_view_name": "ProgressView",
      "bar_style": "",
      "description": "100%",
      "description_tooltip": null,
      "layout": "IPY_MODEL_7b43d8797c6641fbbb02114324049cd0",
      "max": 1456,
      "min": 0,
      "orientation": "horizontal",
      "style": "IPY_MODEL_c65be04cb3da4f2087826819df28a7d2",
      "value": 1456
     }
    },
    "c65be04cb3da4f2087826819df28a7d2": {
     "model_module": "@jupyter-widgets/controls",
     "model_name": "ProgressStyleModel",
     "state": {
      "_model_module": "@jupyter-widgets/controls",
      "_model_module_version": "1.5.0",
      "_model_name": "ProgressStyleModel",
      "_view_count": null,
      "_view_module": "@jupyter-widgets/base",
      "_view_module_version": "1.2.0",
      "_view_name": "StyleView",
      "bar_color": null,
      "description_width": "initial"
     }
    },
    "cf5b66b3ce64496cafc89f4d2d93dd6d": {
     "model_module": "@jupyter-widgets/controls",
     "model_name": "DescriptionStyleModel",
     "state": {
      "_model_module": "@jupyter-widgets/controls",
      "_model_module_version": "1.5.0",
      "_model_name": "DescriptionStyleModel",
      "_view_count": null,
      "_view_module": "@jupyter-widgets/base",
      "_view_module_version": "1.2.0",
      "_view_name": "StyleView",
      "description_width": ""
     }
    }
   }
  }
 },
 "nbformat": 4,
 "nbformat_minor": 1
}
