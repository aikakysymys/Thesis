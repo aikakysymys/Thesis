{
 "cells": [
  {
   "cell_type": "code",
   "execution_count": 727,
   "metadata": {},
   "outputs": [],
   "source": [
    "import json\n",
    "\n",
    "dl = json.load(open(\"OPEN_test_1810_shortened_final_for_eval.json\", \"r\", encoding=\"utf-8\"))"
   ]
  },
  {
   "cell_type": "code",
   "execution_count": 993,
   "metadata": {},
   "outputs": [
    {
     "name": "stdout",
     "output_type": "stream",
     "text": [
      "1504\n"
     ]
    }
   ],
   "source": [
    "count = 0\n",
    "\n",
    "for di in dl:\n",
    "    count += 1\n",
    "    if di[\"open_q\"] == \"В каком году была заложена Тверь?\":\n",
    "        print(count)"
   ]
  },
  {
   "cell_type": "code",
   "execution_count": 728,
   "metadata": {},
   "outputs": [],
   "source": [
    "eng = []\n",
    "for di in dl:\n",
    "    eng.append(di['rel_r'])"
   ]
  },
  {
   "cell_type": "code",
   "execution_count": 729,
   "metadata": {},
   "outputs": [],
   "source": [
    "eng_set = list(set(eng))\n",
    "# eng_set"
   ]
  },
  {
   "cell_type": "code",
   "execution_count": 730,
   "metadata": {},
   "outputs": [],
   "source": [
    "# For visualization\n",
    "\n",
    "mapper = {\n",
    " 'дата прекращения существования (P576)':'dissolved (P576)',\n",
    " 'создатель (P170)':'creator (P170)',\n",
    " 'момент времени (P585)':'point in time (P585)',\n",
    " 'архитектурный стиль (P149)':'architectural style (P149)',\n",
    " 'дата окончания (P582)':'end time (P582)',\n",
    " 'автор (P50)':'author (P50)',\n",
    " 'дата рождения (P569)':'date of birth (P569)',\n",
    " 'участник организации или клуба (P463)':'member of (P463)',\n",
    " 'война/сражение (P607)':'conflict (P607)',\n",
    " 'дата смерти (P570)':'date of death (P570)',\n",
    " 'первое письменное упоминание (P1249)':'time of earliest written record (P1249)',\n",
    " 'часть от (P361)':'part of (P361)',\n",
    " 'дата начала (P580)':'start time (P580)',\n",
    " 'дата публикации (P577)':'publication date (P577)',\n",
    " 'род занятий (P106)':'occupation (P106)',\n",
    " 'дата основания/создания/возникновения (P571)':'inception (P571)',\n",
    " 'режиссёр (P57)':'director (P57)'\n",
    "}"
   ]
  },
  {
   "cell_type": "code",
   "execution_count": 731,
   "metadata": {},
   "outputs": [],
   "source": [
    "for di in dl:\n",
    "    di['eng'] = mapper[di['rel_r']]\n",
    "#     print(di['eng'])"
   ]
  },
  {
   "cell_type": "code",
   "execution_count": 732,
   "metadata": {},
   "outputs": [],
   "source": [
    "# with open(\"OPEN_test_1810_shortened_final_for_eval---.json\", \"w\", encoding=\"utf-8\") as f:\n",
    "#         json.dump(dl---, f, ensure_ascii=False, indent=4)"
   ]
  },
  {
   "cell_type": "code",
   "execution_count": 222,
   "metadata": {},
   "outputs": [],
   "source": [
    "# 110 not found entities at the initial search step (uncontroled)\n",
    "\n",
    "real_not_found = json.load(open(\"Q_not_found_gr.json\", \"r\", encoding=\"utf-8\"))"
   ]
  },
  {
   "cell_type": "code",
   "execution_count": 266,
   "metadata": {},
   "outputs": [],
   "source": [
    "# rubert answers, ranked answers (bad results)\n",
    "\n",
    "R_rubert_answers = json.load(open(\"R_rubert_answers.json\", \"r\", encoding=\"utf-8\"))"
   ]
  },
  {
   "cell_type": "code",
   "execution_count": 268,
   "metadata": {},
   "outputs": [],
   "source": [
    "# rankibg without NER, Deep Pavlov Reading Comprehension answers\n",
    "R_rubert_answers_gr_ranking = json.load(open(\"R_rubert_answers_graph_ranking.json\", \"r\", encoding=\"utf-8\"))\n"
   ]
  },
  {
   "cell_type": "code",
   "execution_count": 315,
   "metadata": {},
   "outputs": [],
   "source": [
    "R_rubert_answers_ginfo = json.load(open(\"R_rubert_answers_ginfo.json\", \"r\", encoding=\"utf-8\"))\n"
   ]
  },
  {
   "cell_type": "code",
   "execution_count": 269,
   "metadata": {},
   "outputs": [],
   "source": [
    "# multi-bert answers\n",
    "\n",
    "R_bert_answers = json.load(open(\"R_bert_answers.json\", \"r\", encoding=\"utf-8\"))\n"
   ]
  },
  {
   "cell_type": "code",
   "execution_count": 336,
   "metadata": {},
   "outputs": [],
   "source": [
    "# graph answers without ner \n",
    "g1800 = json.load(open(\"answers_gr1800.json\", \"r\", encoding=\"utf-8\"))"
   ]
  },
  {
   "cell_type": "code",
   "execution_count": 458,
   "metadata": {},
   "outputs": [],
   "source": [
    "# graph answers without ner + classification by relations (70F1)\n",
    "gr_rel70 = json.load(open(\"answers_gr1800_rels_no_type1.json\", \"r\", encoding=\"utf-8\"))\n"
   ]
  },
  {
   "cell_type": "code",
   "execution_count": 503,
   "metadata": {},
   "outputs": [],
   "source": [
    "# graph answers with ner + classification by relations (70F1)\n",
    "g_ner70 = json.load(open(\"answers_gr1800_rels_no_type_NER.json\", \"r\", encoding=\"utf-8\"))\n"
   ]
  },
  {
   "cell_type": "code",
   "execution_count": 504,
   "metadata": {},
   "outputs": [],
   "source": [
    "# graph answers with NER\n",
    "g_ner_t = json.load(open(\"answers_gr1800_type_NER.json\", \"r\", encoding=\"utf-8\"))\n"
   ]
  },
  {
   "cell_type": "code",
   "execution_count": 847,
   "metadata": {},
   "outputs": [],
   "source": [
    "# answers_gr1800_type_NER_dp\n",
    "g_ner_dp_t = json.load(open(\"answers_gr1800_type_NER_dp.json\", \"r\", encoding=\"utf-8\"))"
   ]
  },
  {
   "cell_type": "code",
   "execution_count": 882,
   "metadata": {},
   "outputs": [],
   "source": [
    "# answers_gr1800_type_NER_dp_hyb\n",
    "g_ner_dp_t_hyb = json.load(open(\"answers_gr1800_type_NER_dp_hyb.json\", \"r\", encoding=\"utf-8\"))"
   ]
  },
  {
   "cell_type": "code",
   "execution_count": 902,
   "metadata": {},
   "outputs": [],
   "source": [
    "# answers_gr1800_type_NER_dp_hyb50\n",
    "\n",
    "g_ner_dp_t50 = json.load(open(\"answers_gr1800_type_NER_dp_hyb50.json\", \"r\", encoding=\"utf-8\"))"
   ]
  },
  {
   "cell_type": "code",
   "execution_count": 910,
   "metadata": {},
   "outputs": [],
   "source": [
    "# dp ranking rubert\n",
    "\n",
    "\n",
    "dp_rubert = json.load(open(\"R_rubert_answers_ner_dp.json\", \"r\", encoding=\"utf-8\"))"
   ]
  },
  {
   "cell_type": "code",
   "execution_count": 944,
   "metadata": {},
   "outputs": [],
   "source": [
    "# 50 not hybryd G\n",
    "# answers_gr1800_type_NER_dp_50_not_hyb\n",
    "\n",
    "not_h50 = json.load(open(\"answers_gr1800_type_NER_dp_50_not_hyb.json\", \"r\", encoding=\"utf-8\"))"
   ]
  },
  {
   "cell_type": "code",
   "execution_count": 830,
   "metadata": {},
   "outputs": [
    {
     "data": {
      "text/plain": [
       "0.021111111111111112"
      ]
     },
     "execution_count": 830,
     "metadata": {},
     "output_type": "execute_result"
    }
   ],
   "source": [
    "with open(\"answers_KGQA.txt\") as f:\n",
    "    content = f.readlines()\n",
    "KGQA = [x.strip() for x in content] \n",
    "KGQA = [\"\" if x==\"Not Found\" else x for x in KGQA]\n",
    "\n",
    "count = 0\n",
    "for di in KGQA:\n",
    "    if di == \"\":\n",
    "        count +=1\n",
    "count/1800"
   ]
  },
  {
   "cell_type": "code",
   "execution_count": null,
   "metadata": {},
   "outputs": [],
   "source": [
    "# xx = json.load(open(\"answers_gr1800_rels_no_type_NER.json\", \"r\", encoding=\"utf-8\"))\n"
   ]
  },
  {
   "cell_type": "code",
   "execution_count": 980,
   "metadata": {},
   "outputs": [],
   "source": [
    "# answers_wikidata_check\n",
    "\n",
    "rubert_gold = json.load(open(\"R_rubert_answers_for_gold.json\", \"r\", encoding=\"utf-8\"))"
   ]
  },
  {
   "cell_type": "code",
   "execution_count": 981,
   "metadata": {},
   "outputs": [],
   "source": [
    "\n",
    "# answers_97_50_nothyb\n",
    "\n",
    "a9750not = json.load(open(\"answers_97_50_nothyb.json\", \"r\", encoding=\"utf-8\"))"
   ]
  },
  {
   "cell_type": "code",
   "execution_count": 982,
   "metadata": {},
   "outputs": [],
   "source": [
    "for i,di in enumerate(dl):\n",
    "    di['rubert'] = R_rubert_answers[di['open_q']]\n",
    "    di['rubert_gold'] = rubert_gold[di['open_q']]\n",
    "    di['rubert_grr'] = R_rubert_answers_gr_ranking[di['open_q']]\n",
    "    di['bert'] = R_bert_answers[di['open_q']]\n",
    "    di['rubert_gi'] = R_rubert_answers_ginfo[di['open_q']]\n",
    "    di['g1800'] = g1800[i]\n",
    "    di['gr_rel70'] = gr_rel70[i]\n",
    "    di['g_ner70'] = g_ner70[i]\n",
    "    di['g_ner_t'] = g_ner_t[i]\n",
    "    di['KGQA'] = KGQA[i]\n",
    "    di['scODQA'] =scODQA[i]\n",
    "    di['g_ner_dp_t'] = g_ner_dp_t[i]\n",
    "    di['g_ner_dp_t_h'] = g_ner_dp_t_hyb[i]\n",
    "    di['g_ner_dp_t50'] = g_ner_dp_t50[i]\n",
    "    di['dp_rubert'] = dp_rubert[di['open_q']]\n",
    "    di['not_h50'] = not_h50[i]\n",
    "    di['a9750not'] = a9750not[i]\n",
    "    "
   ]
  },
  {
   "cell_type": "code",
   "execution_count": null,
   "metadata": {},
   "outputs": [],
   "source": []
  },
  {
   "cell_type": "code",
   "execution_count": 342,
   "metadata": {},
   "outputs": [
    {
     "data": {
      "text/plain": [
       "{'Q': 'Q4409522',\n",
       " 'answer_dp': 'В 1978 году',\n",
       " 'answer_open': '1910',\n",
       " 'atr': 'date',\n",
       " 'ent': 'Сахнин, Аркадий Яковлевич',\n",
       " 'open_q': 'В каком году родился Аркадий Яковлевич Сахнин?',\n",
       " 'rel': 'P569',\n",
       " 'rel_r': 'дата рождения (P569)',\n",
       " 'type': 'start',\n",
       " 'what': 'человек',\n",
       " 'type_pred': 'start',\n",
       " 'rubert': '5 октября 1910',\n",
       " 'rubert_gold': '5 октября 1910',\n",
       " 'rubert_grr': '5 октября 1910',\n",
       " 'bert': '5 октября 1910',\n",
       " 'rubert_gi': '5 октября 1910',\n",
       " 'g1800': '1910'}"
      ]
     },
     "execution_count": 342,
     "metadata": {},
     "output_type": "execute_result"
    }
   ],
   "source": [
    "dl[0]"
   ]
  },
  {
   "cell_type": "markdown",
   "metadata": {},
   "source": [
    "# Preprocessing"
   ]
  },
  {
   "cell_type": "code",
   "execution_count": 211,
   "metadata": {},
   "outputs": [],
   "source": [
    "#lemmatize\n",
    "\n",
    "from pymystem3 import Mystem\n",
    "\n",
    "m = Mystem()\n",
    "\n",
    "def lemmatize(text, mystem=m):\n",
    "    try:\n",
    "        return \"\".join(m.lemmatize(text)).strip()\n",
    "    except:\n",
    "        return \" \""
   ]
  },
  {
   "cell_type": "code",
   "execution_count": 983,
   "metadata": {},
   "outputs": [],
   "source": [
    "from collections import Counter\n",
    "import re \n",
    "\n",
    "\n",
    "def prepare(di, pred):\n",
    "    \n",
    "    \n",
    "    di['answer_dpc'] = ''\n",
    "    \n",
    "    \n",
    "#     di['answer_dp'] = di['answer_dp'][0]\n",
    "    if 'start' in di['type'] or 'end' in di['type']:\n",
    "#         print(di['answer_dp'])\n",
    "        cl = re.findall(r'\\d+', di[pred])\n",
    "        di['answer_dpc'] = ''\n",
    "        if len(cl) == 1:\n",
    "            di['answer_dpc'] = str(cl[0])\n",
    "        else:\n",
    "            for el in cl:\n",
    "                if len(el) == len(di['answer_open']):\n",
    "                    di['answer_dpc'] = str(el)\n",
    "                    \n",
    "        di['answer_openc'] = di['answer_open']\n",
    "        \n",
    "    else:\n",
    "#         di['answer_dpc'] = di['answer_dp']\n",
    "        di['answer_dpc'] = lemmatize(di[pred], mystem=m)\n",
    "        di['answer_openc'] = lemmatize(di['answer_open'])\n",
    "        \n",
    "#         # preprocessing, remove extra words AS IF YOU KNOW WHAT IS EXTRA\n",
    "#         common = Counter(di['answer_dpc'].split()) & Counter(di['answer_openc'].split())\n",
    "#         if ' '.join(common.keys()) != 'война': # 'война' is not informative\n",
    "#             di['answer_dpc'] = ' '.join(common.keys())\n",
    "#         else:\n",
    "# #             di['answer_dpc'] = ''\n",
    "            \n",
    "#         # !answer from Reader instead of '' in graph!\n",
    "#         if ''.join(di['answer_dpc'].split()) == '':\n",
    "#             di['answer_dpc'] = lemmatize(di['answer_dp'], mystem=m)\n",
    "\n",
    "        # preprocessing, remove extra words\n",
    "        common = Counter(di['answer_dpc'].split()) & Counter(di['answer_openc'].split())\n",
    "        if ' '.join(common.keys()) != 'война': # 'война' is not informative\n",
    "            di['answer_dpc'] = ' '.join(common.keys())\n",
    "        else:\n",
    "            di['answer_dpc'] = ''\n",
    "            \n",
    "    # exclude 110 not found in the first (all-graph) round of ranking\n",
    "    if di['open_q'] in real_not_found:\n",
    "        di['answer_dpc'] = ''\n"
   ]
  },
  {
   "cell_type": "code",
   "execution_count": 984,
   "metadata": {},
   "outputs": [],
   "source": [
    "#  'g1800'\n",
    "pred = 'a9750not' #g_ner_dp_t\n",
    "count_help = 0\n",
    "for di in dl:\n",
    "    prepare(di, pred)"
   ]
  },
  {
   "cell_type": "code",
   "execution_count": 985,
   "metadata": {},
   "outputs": [
    {
     "data": {
      "text/plain": [
       "1800"
      ]
     },
     "execution_count": 985,
     "metadata": {},
     "output_type": "execute_result"
    }
   ],
   "source": [
    "len(dl)"
   ]
  },
  {
   "cell_type": "code",
   "execution_count": 986,
   "metadata": {},
   "outputs": [
    {
     "data": {
      "text/html": [
       "<div>\n",
       "<style scoped>\n",
       "    .dataframe tbody tr th:only-of-type {\n",
       "        vertical-align: middle;\n",
       "    }\n",
       "\n",
       "    .dataframe tbody tr th {\n",
       "        vertical-align: top;\n",
       "    }\n",
       "\n",
       "    .dataframe thead th {\n",
       "        text-align: right;\n",
       "    }\n",
       "</style>\n",
       "<table border=\"1\" class=\"dataframe\">\n",
       "  <thead>\n",
       "    <tr style=\"text-align: right;\">\n",
       "      <th></th>\n",
       "      <th>KGQA</th>\n",
       "      <th>Q</th>\n",
       "      <th>a9750not</th>\n",
       "      <th>answer_dp</th>\n",
       "      <th>answer_dpc</th>\n",
       "      <th>answer_open</th>\n",
       "      <th>answer_openc</th>\n",
       "      <th>atr</th>\n",
       "      <th>bert</th>\n",
       "      <th>dp_rubert</th>\n",
       "      <th>...</th>\n",
       "      <th>rel</th>\n",
       "      <th>rel_r</th>\n",
       "      <th>rubert</th>\n",
       "      <th>rubert_gi</th>\n",
       "      <th>rubert_gold</th>\n",
       "      <th>rubert_grr</th>\n",
       "      <th>scODQA</th>\n",
       "      <th>type</th>\n",
       "      <th>type_pred</th>\n",
       "      <th>what</th>\n",
       "    </tr>\n",
       "  </thead>\n",
       "  <tbody>\n",
       "    <tr>\n",
       "      <th>0</th>\n",
       "      <td>1910-10-05</td>\n",
       "      <td>Q4409522</td>\n",
       "      <td></td>\n",
       "      <td>В 1978 году</td>\n",
       "      <td></td>\n",
       "      <td>1910</td>\n",
       "      <td>1910</td>\n",
       "      <td>date</td>\n",
       "      <td>5 октября 1910</td>\n",
       "      <td>5 октября 1910</td>\n",
       "      <td>...</td>\n",
       "      <td>P569</td>\n",
       "      <td>дата рождения (P569)</td>\n",
       "      <td>5 октября 1910</td>\n",
       "      <td>5 октября 1910</td>\n",
       "      <td>5 октября 1910</td>\n",
       "      <td>5 октября 1910</td>\n",
       "      <td>дата рождения (P569)0</td>\n",
       "      <td>start</td>\n",
       "      <td>start</td>\n",
       "      <td>человек</td>\n",
       "    </tr>\n",
       "    <tr>\n",
       "      <th>1</th>\n",
       "      <td>футболист</td>\n",
       "      <td>Q4265116</td>\n",
       "      <td>Писатель Поэт Драматург Переводчик</td>\n",
       "      <td>начальником конструкторского бюро цеха</td>\n",
       "      <td></td>\n",
       "      <td>инженер</td>\n",
       "      <td>инженер</td>\n",
       "      <td>Q81096</td>\n",
       "      <td>криминальным журналистом</td>\n",
       "      <td>портного</td>\n",
       "      <td>...</td>\n",
       "      <td>P106</td>\n",
       "      <td>род занятий (P106)</td>\n",
       "      <td>криминальным журналистом</td>\n",
       "      <td>криминальным журналистом</td>\n",
       "      <td>мастером в архитектурной и бондарной мастерски...</td>\n",
       "      <td>криминальным журналистом</td>\n",
       "      <td>род занятий (P106)0</td>\n",
       "      <td>P106</td>\n",
       "      <td>P106</td>\n",
       "      <td>человек</td>\n",
       "    </tr>\n",
       "    <tr>\n",
       "      <th>2</th>\n",
       "      <td>Русско-турецкая война 1877—1878 годов</td>\n",
       "      <td>Q4102324</td>\n",
       "      <td></td>\n",
       "      <td>в Бородинском сражении</td>\n",
       "      <td></td>\n",
       "      <td>Русско-шведская война</td>\n",
       "      <td>русско-шведский война</td>\n",
       "      <td>Q736268</td>\n",
       "      <td>в Приднестровье</td>\n",
       "      <td>в Приднестровье</td>\n",
       "      <td>...</td>\n",
       "      <td>P607</td>\n",
       "      <td>война/сражение (P607)</td>\n",
       "      <td>Русско-шведской войны</td>\n",
       "      <td>в Приднестровье</td>\n",
       "      <td>Русско-шведской войны</td>\n",
       "      <td>в Приднестровье</td>\n",
       "      <td>война/сражение (P607)0</td>\n",
       "      <td>P607</td>\n",
       "      <td>P607</td>\n",
       "      <td>человек</td>\n",
       "    </tr>\n",
       "    <tr>\n",
       "      <th>3</th>\n",
       "      <td>психолог</td>\n",
       "      <td>Q21391909</td>\n",
       "      <td>психолог</td>\n",
       "      <td>педагогом Ленинградского университета</td>\n",
       "      <td>психолог</td>\n",
       "      <td>психолог</td>\n",
       "      <td>психолог</td>\n",
       "      <td>Q212980</td>\n",
       "      <td>советский психолог</td>\n",
       "      <td>советский психолог</td>\n",
       "      <td>...</td>\n",
       "      <td>P106</td>\n",
       "      <td>род занятий (P106)</td>\n",
       "      <td>– ис­то­рик-ме­дие­вист</td>\n",
       "      <td>– ис­то­рик-ме­дие­вист</td>\n",
       "      <td>советский психолог</td>\n",
       "      <td>– ис­то­рик-ме­дие­вист</td>\n",
       "      <td>род занятий (P106)0</td>\n",
       "      <td>P106</td>\n",
       "      <td>P106</td>\n",
       "      <td>человек</td>\n",
       "    </tr>\n",
       "    <tr>\n",
       "      <th>4</th>\n",
       "      <td>Гражданская война в России</td>\n",
       "      <td>Q4240145</td>\n",
       "      <td></td>\n",
       "      <td>в советско-японской войне 1945 года</td>\n",
       "      <td></td>\n",
       "      <td>Курская битва</td>\n",
       "      <td>курская битва</td>\n",
       "      <td>Q130861</td>\n",
       "      <td>Втора́я конголе́зская война</td>\n",
       "      <td>в Курской битве, Орловской, Черниговско-Полтав...</td>\n",
       "      <td>...</td>\n",
       "      <td>P607</td>\n",
       "      <td>война/сражение (P607)</td>\n",
       "      <td>Втора́я конголе́зская война</td>\n",
       "      <td>гражданская война</td>\n",
       "      <td>в Курской битве, Орловской, Черниговско-Полтав...</td>\n",
       "      <td>гражданская война</td>\n",
       "      <td>война/сражение (P607)0</td>\n",
       "      <td>P607</td>\n",
       "      <td>P607</td>\n",
       "      <td>человек</td>\n",
       "    </tr>\n",
       "  </tbody>\n",
       "</table>\n",
       "<p>5 rows × 31 columns</p>\n",
       "</div>"
      ],
      "text/plain": [
       "                                    KGQA          Q  \\\n",
       "0                             1910-10-05   Q4409522   \n",
       "1                              футболист   Q4265116   \n",
       "2  Русско-турецкая война 1877—1878 годов   Q4102324   \n",
       "3                               психолог  Q21391909   \n",
       "4             Гражданская война в России   Q4240145   \n",
       "\n",
       "                             a9750not                               answer_dp  \\\n",
       "0                                                                 В 1978 году   \n",
       "1  Писатель Поэт Драматург Переводчик  начальником конструкторского бюро цеха   \n",
       "2                                                      в Бородинском сражении   \n",
       "3                            психолог   педагогом Ленинградского университета   \n",
       "4                                         в советско-японской войне 1945 года   \n",
       "\n",
       "  answer_dpc            answer_open           answer_openc      atr  \\\n",
       "0                              1910                   1910     date   \n",
       "1                           инженер                инженер   Q81096   \n",
       "2             Русско-шведская война  русско-шведский война  Q736268   \n",
       "3   психолог               психолог               психолог  Q212980   \n",
       "4                     Курская битва          курская битва  Q130861   \n",
       "\n",
       "                          bert  \\\n",
       "0               5 октября 1910   \n",
       "1     криминальным журналистом   \n",
       "2              в Приднестровье   \n",
       "3           советский психолог   \n",
       "4  Втора́я конголе́зская война   \n",
       "\n",
       "                                           dp_rubert   ...      rel  \\\n",
       "0                                     5 октября 1910   ...     P569   \n",
       "1                                           портного   ...     P106   \n",
       "2                                    в Приднестровье   ...     P607   \n",
       "3                                 советский психолог   ...     P106   \n",
       "4  в Курской битве, Орловской, Черниговско-Полтав...   ...     P607   \n",
       "\n",
       "                   rel_r                       rubert  \\\n",
       "0   дата рождения (P569)               5 октября 1910   \n",
       "1     род занятий (P106)     криминальным журналистом   \n",
       "2  война/сражение (P607)        Русско-шведской войны   \n",
       "3     род занятий (P106)      – ис­то­рик-ме­дие­вист   \n",
       "4  война/сражение (P607)  Втора́я конголе́зская война   \n",
       "\n",
       "                  rubert_gi  \\\n",
       "0            5 октября 1910   \n",
       "1  криминальным журналистом   \n",
       "2           в Приднестровье   \n",
       "3   – ис­то­рик-ме­дие­вист   \n",
       "4         гражданская война   \n",
       "\n",
       "                                         rubert_gold  \\\n",
       "0                                     5 октября 1910   \n",
       "1  мастером в архитектурной и бондарной мастерски...   \n",
       "2                              Русско-шведской войны   \n",
       "3                                 советский психолог   \n",
       "4  в Курской битве, Орловской, Черниговско-Полтав...   \n",
       "\n",
       "                 rubert_grr                  scODQA   type type_pred     what  \n",
       "0            5 октября 1910   дата рождения (P569)0  start     start  человек  \n",
       "1  криминальным журналистом     род занятий (P106)0   P106      P106  человек  \n",
       "2           в Приднестровье  война/сражение (P607)0   P607      P607  человек  \n",
       "3   – ис­то­рик-ме­дие­вист     род занятий (P106)0   P106      P106  человек  \n",
       "4         гражданская война  война/сражение (P607)0   P607      P607  человек  \n",
       "\n",
       "[5 rows x 31 columns]"
      ]
     },
     "execution_count": 986,
     "metadata": {},
     "output_type": "execute_result"
    }
   ],
   "source": [
    "import pandas as pd\n",
    "df = pd.DataFrame(dl)\n",
    "df.head()"
   ]
  },
  {
   "cell_type": "code",
   "execution_count": 998,
   "metadata": {},
   "outputs": [
    {
     "data": {
      "text/plain": [
       "'2000'"
      ]
     },
     "execution_count": 998,
     "metadata": {},
     "output_type": "execute_result"
    }
   ],
   "source": [
    "df.rubert_gold[1503]"
   ]
  },
  {
   "cell_type": "code",
   "execution_count": 987,
   "metadata": {},
   "outputs": [
    {
     "data": {
      "text/plain": [
       "род занятий (P106)0                              593\n",
       "дата рождения (P569)0                            244\n",
       "война/сражение (P607)0                           209\n",
       "момент времени (P585)0                           104\n",
       "дата рождения (P569)1                             90\n",
       "часть от (P361)0                                  89\n",
       "род занятий (P106)1                               72\n",
       "дата основания/создания/возникновения (P571)0     64\n",
       "участник организации или клуба (P463)0            56\n",
       "война/сражение (P607)1                            49\n",
       "дата начала (P580)0                               45\n",
       "момент времени (P585)1                            39\n",
       "дата прекращения существования (P576)0            37\n",
       "часть от (P361)1                                  21\n",
       "дата публикации (P577)0                           19\n",
       "дата основания/создания/возникновения (P571)1     19\n",
       "участник организации или клуба (P463)1            10\n",
       "дата начала (P580)1                                9\n",
       "архитектурный стиль (P149)0                        7\n",
       "дата публикации (P577)1                            5\n",
       "создатель (P170)0                                  4\n",
       "дата прекращения существования (P576)1             3\n",
       "дата смерти (P570)0                                3\n",
       "создатель (P170)1                                  3\n",
       "режиссёр (P57)0                                    2\n",
       "автор (P50)0                                       1\n",
       "дата окончания (P582)1                             1\n",
       "архитектурный стиль (P149)1                        1\n",
       "первое письменное упоминание (P1249)0              1\n",
       "Name: scODQA, dtype: int64"
      ]
     },
     "execution_count": 987,
     "metadata": {},
     "output_type": "execute_result"
    }
   ],
   "source": [
    "df.scODQA.value_counts() #* 100 / df.shape[0]"
   ]
  },
  {
   "cell_type": "code",
   "execution_count": 495,
   "metadata": {},
   "outputs": [],
   "source": [
    "# for di in dl:\n",
    "#     di['answer_dp'] = di['answer_dp'][0]\n",
    "#     print(',',di['answer_dpc'],',')"
   ]
  },
  {
   "cell_type": "code",
   "execution_count": 119,
   "metadata": {},
   "outputs": [],
   "source": [
    "# # check F1\n",
    "\n",
    "# from collections import Counter\n",
    "\n",
    "\n",
    "# prediction_tokens = \"normalize prediction\".split()\n",
    "# ground_truth_tokens = \"normalize p\".split()\n",
    "# common = Counter(prediction_tokens) & Counter(ground_truth_tokens)\n",
    "# num_same = sum(common.values())\n",
    "# print(num_same)\n",
    "\n",
    "# # my_str = \"Welcome to Guru99 Tutorials!\"\n",
    "# # print(Counter(my_str))\n",
    "# ' '.join(common.keys())"
   ]
  },
  {
   "cell_type": "code",
   "execution_count": null,
   "metadata": {},
   "outputs": [],
   "source": []
  },
  {
   "cell_type": "code",
   "execution_count": 423,
   "metadata": {},
   "outputs": [],
   "source": [
    "from collections import Counter\n",
    "import string\n",
    "import re\n",
    "import json\n",
    "import logging\n",
    "import tqdm\n",
    "import pandas\n",
    "import numpy as np\n",
    "import pandas as pd\n",
    "\n",
    "logger = logging.getLogger(__name__)\n",
    "PAR_ID = 'paragraph_id'\n",
    "Q_ID = 'question_id'\n",
    "\n",
    "\n",
    "def normalize_answer1(text):\n",
    "    \"\"\"Lower text and remove punctuation and extra whitespace.\"\"\"\n",
    "    return ' '.join(re.findall(r\"\\w+\", text)).lower()\n",
    "\n",
    "def normalize_answer(s):\n",
    "    \"\"\"Lower text and remove punctuation, articles and extra whitespace.\"\"\"\n",
    "\n",
    "    def white_space_fix(text):\n",
    "        return ' '.join(text.split())\n",
    "\n",
    "    def remove_punc(text):\n",
    "        exclude = set(string.punctuation)\n",
    "        return ''.join(ch for ch in text if ch not in exclude)\n",
    "\n",
    "    def lower(text):\n",
    "        return text.lower()\n",
    "\n",
    "    return white_space_fix(remove_punc(lower(s)))\n",
    "\n",
    "\n",
    "def f1_score(prediction, ground_truth):\n",
    "    prediction_tokens = normalize_answer(prediction).split()\n",
    "    ground_truth_tokens = normalize_answer(ground_truth).split()\n",
    "    common = Counter(prediction_tokens) & Counter(ground_truth_tokens)\n",
    "    num_same = sum(common.values())\n",
    "    if num_same == 0:\n",
    "        return 0\n",
    "    precision = 1.0 * num_same / len(prediction_tokens)\n",
    "    recall = 1.0 * num_same / len(ground_truth_tokens)\n",
    "    f1 = (2 * precision * recall) / (precision + recall)\n",
    "    return f1\n",
    "\n",
    "def quality(df): #, prediction_file\n",
    "    df_solution = df['answer_openc'] #pandas.read_csv(data_file) , index_col=[PAR_ID, Q_ID]\n",
    "    df_predictions = df['answer_dpc']#pandas.read_csv(data_file), index_col=[PAR_ID, Q_ID])\n",
    "\n",
    "    df_solution, df_predictions = df_solution.align(df_predictions, join='left')\n",
    "    df_predictions = df_predictions.fillna('')\n",
    "    score = {\n",
    "        'f1': np.mean([f1_score(pred, gt) for gt, pred in zip(df_solution.values, df_predictions.values)]),\n",
    "    }\n",
    "    \n",
    "    return score\n",
    "\n",
    "def quality_individual(df): #, prediction_file\n",
    "    df_solution = df['answer_openc'] #pandas.read_csv(data_file) , index_col=[PAR_ID, Q_ID]\n",
    "    df_predictions = df['answer_dpc']#pandas.read_csv(data_file), index_col=[PAR_ID, Q_ID])\n",
    "\n",
    "    df_solution, df_predictions = df_solution.align(df_predictions, join='left')\n",
    "    df_predictions = df_predictions.fillna('')\n",
    "    f1s = [f1_score(pred, gt) for gt, pred in zip(df_solution.values, df_predictions.values)]\n",
    "    \n",
    "    return f1s\n",
    "\n",
    "\n",
    "\n",
    "def exact_match_score(prediction, ground_truth):\n",
    "    return (normalize_answer(prediction) == normalize_answer(ground_truth))"
   ]
  },
  {
   "cell_type": "code",
   "execution_count": 121,
   "metadata": {},
   "outputs": [
    {
     "data": {
      "text/plain": [
       "0"
      ]
     },
     "execution_count": 121,
     "metadata": {},
     "output_type": "execute_result"
    }
   ],
   "source": [
    "# def f(n):\n",
    "#     return f1_score(dl[n]['answer_dp'], dl[n]['answer_open'])\n",
    "# f(14)"
   ]
  },
  {
   "cell_type": "code",
   "execution_count": 816,
   "metadata": {},
   "outputs": [
    {
     "data": {
      "text/plain": [
       "{'f1': 0.16938888888888887}"
      ]
     },
     "execution_count": 816,
     "metadata": {},
     "output_type": "execute_result"
    }
   ],
   "source": [
    "quality(df)"
   ]
  },
  {
   "cell_type": "code",
   "execution_count": 815,
   "metadata": {},
   "outputs": [],
   "source": [
    "def get_rels_success(f1s):\n",
    "    rels = []\n",
    "    for i, di in enumerate(f1s):\n",
    "        if di > 0:\n",
    "            rels.append(dl[i][\"rel_r\"])\n",
    "    return rels\n",
    "\n",
    "def get_rels_fail(f1s):\n",
    "    rels = []\n",
    "    for i, di in enumerate(f1s):\n",
    "        if di == 0:\n",
    "            rels.append(dl[i][\"rel_r\"])\n",
    "    return rels\n",
    "\n",
    "def get_rel_bool(f1s):\n",
    "    rel_bool = []\n",
    "    for i, di in enumerate(f1s):\n",
    "        if di == 0:\n",
    "            score = \"0\"\n",
    "            rel_bool.append(dl[i][\"rel_r\"] + score)\n",
    "        else:\n",
    "            score = \"1\"\n",
    "            rel_bool.append(dl[i][\"rel_r\"] + score) \n",
    "    return rel_bool"
   ]
  },
  {
   "cell_type": "markdown",
   "metadata": {},
   "source": [
    "# Visualisation"
   ]
  },
  {
   "cell_type": "code",
   "execution_count": 418,
   "metadata": {},
   "outputs": [
    {
     "data": {
      "text/plain": [
       "494"
      ]
     },
     "execution_count": 418,
     "metadata": {},
     "output_type": "execute_result"
    }
   ],
   "source": [
    "# Rubert\n",
    "\n",
    "f1sRubert = quality_individual(df)\n",
    "\n",
    "relsRubert = get_rels_success(f1sRubert)\n",
    "\n",
    "len(relsRubert)"
   ]
  },
  {
   "cell_type": "code",
   "execution_count": 419,
   "metadata": {},
   "outputs": [
    {
     "name": "stdout",
     "output_type": "stream",
     "text": [
      "Counter({'дата рождения (P569)': 162, 'род занятий (P106)': 150, 'момент времени (P585)': 75, 'война/сражение (P607)': 23, 'дата начала (P580)': 21, 'дата основания/создания/возникновения (P571)': 17, 'участник организации или клуба (P463)': 15, 'дата публикации (P577)': 9, 'часть от (P361)': 8, 'дата прекращения существования (P576)': 7, 'создатель (P170)': 4, 'архитектурный стиль (P149)': 2, 'дата смерти (P570)': 1})\n"
     ]
    }
   ],
   "source": [
    "from collections import Counter\n",
    "\n",
    "print(Counter(relsRubert))"
   ]
  },
  {
   "cell_type": "code",
   "execution_count": 761,
   "metadata": {},
   "outputs": [
    {
     "data": {
      "text/plain": [
       "685"
      ]
     },
     "execution_count": 761,
     "metadata": {},
     "output_type": "execute_result"
    }
   ],
   "source": [
    "# Graph\n",
    "\n",
    "f1sGraph = quality_individual(df)\n",
    "\n",
    "relsGraph = get_rels_success(f1sGraph)\n",
    "\n",
    "len(relsGraph)"
   ]
  },
  {
   "cell_type": "code",
   "execution_count": 412,
   "metadata": {},
   "outputs": [
    {
     "name": "stdout",
     "output_type": "stream",
     "text": [
      "Counter({'род занятий (P106)': 459, 'война/сражение (P607)': 210, 'дата рождения (P569)': 199, 'момент времени (P585)': 97, 'участник организации или клуба (P463)': 60, 'дата основания/создания/возникновения (P571)': 28, 'дата прекращения существования (P576)': 18, 'часть от (P361)': 17, 'дата начала (P580)': 17, 'дата публикации (P577)': 15, 'архитектурный стиль (P149)': 6, 'создатель (P170)': 3, 'автор (P50)': 1, 'дата смерти (P570)': 1})\n"
     ]
    }
   ],
   "source": [
    "from collections import Counter\n",
    "\n",
    "print(Counter(relsGraph))"
   ]
  },
  {
   "cell_type": "code",
   "execution_count": 817,
   "metadata": {},
   "outputs": [
    {
     "data": {
      "text/plain": [
       "322"
      ]
     },
     "execution_count": 817,
     "metadata": {},
     "output_type": "execute_result"
    }
   ],
   "source": [
    "# ODQA -- anything\n",
    "\n",
    "f1sODQA = quality_individual(df)\n",
    "\n",
    "\n",
    "\n",
    "len(relsODQA) #307/1800"
   ]
  },
  {
   "cell_type": "code",
   "execution_count": 818,
   "metadata": {},
   "outputs": [],
   "source": [
    "scODQA = get_rel_bool(f1sODQA)"
   ]
  },
  {
   "cell_type": "code",
   "execution_count": 819,
   "metadata": {},
   "outputs": [
    {
     "data": {
      "text/plain": [
       "'дата рождения (P569)0'"
      ]
     },
     "execution_count": 819,
     "metadata": {},
     "output_type": "execute_result"
    }
   ],
   "source": [
    "len(scODQA)\n",
    "scODQA[0]"
   ]
  },
  {
   "cell_type": "code",
   "execution_count": 820,
   "metadata": {},
   "outputs": [
    {
     "name": "stdout",
     "output_type": "stream",
     "text": [
      "Counter({'род занятий (P106)': 593, 'дата рождения (P569)': 244, 'война/сражение (P607)': 209, 'момент времени (P585)': 104, 'часть от (P361)': 89, 'дата основания/создания/возникновения (P571)': 64, 'участник организации или клуба (P463)': 56, 'дата начала (P580)': 45, 'дата прекращения существования (P576)': 37, 'дата публикации (P577)': 19, 'архитектурный стиль (P149)': 7, 'создатель (P170)': 4, 'дата смерти (P570)': 3, 'режиссёр (P57)': 2, 'автор (P50)': 1, 'первое письменное упоминание (P1249)': 1})\n"
     ]
    }
   ],
   "source": [
    "# misODQA = [x for x in f1sODQA if x not in relsODQA]\n",
    "\n",
    "misODQA = get_rels_fail(f1sODQA)\n",
    "misco = Counter(misODQA)\n",
    "print(Counter(misODQA))"
   ]
  },
  {
   "cell_type": "code",
   "execution_count": 821,
   "metadata": {},
   "outputs": [
    {
     "name": "stdout",
     "output_type": "stream",
     "text": [
      "Counter({'дата рождения (P569)': 90, 'род занятий (P106)': 72, 'война/сражение (P607)': 49, 'момент времени (P585)': 39, 'часть от (P361)': 21, 'дата основания/создания/возникновения (P571)': 19, 'участник организации или клуба (P463)': 10, 'дата начала (P580)': 9, 'дата публикации (P577)': 5, 'дата прекращения существования (P576)': 3, 'создатель (P170)': 3, 'архитектурный стиль (P149)': 1, 'дата окончания (P582)': 1})\n"
     ]
    }
   ],
   "source": [
    "# посчитай процент от всех отношений такого типа в трейне\n",
    "\n",
    "from collections import Counter\n",
    "relsODQA = get_rels_success(f1sODQA)\n",
    "odqaco = Counter(relsODQA)\n",
    "print(Counter(relsODQA))"
   ]
  },
  {
   "cell_type": "code",
   "execution_count": 822,
   "metadata": {},
   "outputs": [
    {
     "data": {
      "text/plain": [
       "[[36.0, 'occupation (P106) (36%)', 0.11],\n",
       " [18.0, 'date of birth (P569) (18%)', 0.27],\n",
       " [14.0, 'conflict (P607) (14%)', 0.19],\n",
       " [7.0, 'point in time (P585) (7%)', 0.27],\n",
       " [6.0, 'part of (P361) (6%)', 0.19],\n",
       " [4.0, 'inception (P571) (4%)', 0.23],\n",
       " [3.0, 'start time (P580) (3%)', 0.17],\n",
       " [3.0, 'member of (P463) (3%)', 0.15],\n",
       " [2.0, 'dissolved (P576) (2%)', 0.07],\n",
       " [1.0, 'publication date (P577) (1%)', 0.21],\n",
       " [0.0, 'end time (P582) (0%)', 1.0],\n",
       " [0.0, 'creator (P170) (0%)', 0.43],\n",
       " [0.0, 'architectural style (P149) (0%)', 0.12]]"
      ]
     },
     "execution_count": 822,
     "metadata": {},
     "output_type": "execute_result"
    }
   ],
   "source": [
    "def digits_percent(digits):\n",
    "    return round(digits, 2)\n",
    "\n",
    "# for di in misODQA:\n",
    "def print_percento(odqaco, misco):\n",
    "    info = []\n",
    "#     names = []\n",
    "#     values = []\n",
    "    for di in odqaco:\n",
    "        number = (odqaco[di] + misco[di])*100//len(df)#len(odqaco)\n",
    "        of_whole = number#digits_percent(number)\n",
    "        try:\n",
    "            percento_r = odqaco[di]/(misco[di] + odqaco[di])\n",
    "            percento_r = digits_percent(percento_r)\n",
    "            name = mapper[di] + \" (\" + str(of_whole) + \"%)\"\n",
    "            info.append([float(of_whole), name, percento_r])\n",
    "#             names.append(name)\n",
    "#             values.append(percento_r)\n",
    "#             print(of_whole, \"\\t\", di, \"r\", percento_r)#, \"w\", percento_w)\n",
    "        except:\n",
    "            print(\"division by zero\", di, odqaco[di])\n",
    "\n",
    "#     print(info)\n",
    "    return info\n",
    "\n",
    "for_plot = print_percento(odqaco, misco)\n",
    "for_plot_sorted = sorted(for_plot, reverse=True)\n",
    "for_plot_sorted"
   ]
  },
  {
   "cell_type": "code",
   "execution_count": 823,
   "metadata": {},
   "outputs": [],
   "source": [
    "names = []\n",
    "values = []\n",
    "\n",
    "for di in for_plot_sorted:\n",
    "    names.append(di[1])\n",
    "    values.append(di[2])"
   ]
  },
  {
   "cell_type": "code",
   "execution_count": 824,
   "metadata": {},
   "outputs": [],
   "source": [
    "def difference(est, net):\n",
    "    return list(set(est.keys()) - set(net.keys()))"
   ]
  },
  {
   "cell_type": "code",
   "execution_count": 825,
   "metadata": {},
   "outputs": [
    {
     "data": {
      "text/plain": [
       "['первое письменное упоминание (P1249)',\n",
       " 'автор (P50)',\n",
       " 'дата смерти (P570)',\n",
       " 'режиссёр (P57)']"
      ]
     },
     "execution_count": 825,
     "metadata": {},
     "output_type": "execute_result"
    }
   ],
   "source": [
    "# difference(odqaco, misco)\n",
    "difference(misco, odqaco)"
   ]
  },
  {
   "cell_type": "code",
   "execution_count": 826,
   "metadata": {},
   "outputs": [
    {
     "data": {
      "image/png": "[encoded data removed]",
      "text/plain": [
       "<Figure size 640x480 with 1 Axes>"
      ]
     },
     "metadata": {},
     "output_type": "display_data"
    }
   ],
   "source": [
    "import matplotlib.pyplot as plt; plt.rcdefaults()\n",
    "import numpy as np\n",
    "import matplotlib.pyplot as plt\n",
    "\n",
    "objects = ('PythonPythonPythonPython', 'C++', 'Java', 'Perl', 'Scala', 'Lisp')\n",
    "y_pos = np.arange(len(names))\n",
    "performance = [10,8,6,4,2,1]\n",
    "\n",
    "plt.barh(y_pos, values, align='center', alpha=0.5)\n",
    "plt.yticks(y_pos, names)\n",
    "# plt.xlabel('Fraction')\n",
    "# plt.title('Percentage of true answers by relations')\n",
    "\n",
    "plt.show()"
   ]
  },
  {
   "cell_type": "markdown",
   "metadata": {},
   "source": [
    "# Qualities"
   ]
  },
  {
   "cell_type": "code",
   "execution_count": 374,
   "metadata": {},
   "outputs": [
    {
     "data": {
      "text/plain": [
       "{'f1': 0.1618148148148148}"
      ]
     },
     "execution_count": 374,
     "metadata": {},
     "output_type": "execute_result"
    }
   ],
   "source": [
    "# ODQA\n",
    "quality(df)"
   ]
  },
  {
   "cell_type": "code",
   "execution_count": 370,
   "metadata": {},
   "outputs": [
    {
     "data": {
      "text/plain": [
       "{'f1': 0.5391084656084656}"
      ]
     },
     "execution_count": 370,
     "metadata": {},
     "output_type": "execute_result"
    }
   ],
   "source": [
    "# rubert gold Qs\n",
    "quality(df)"
   ]
  },
  {
   "cell_type": "code",
   "execution_count": 429,
   "metadata": {},
   "outputs": [
    {
     "data": {
      "text/plain": [
       "{'f1': 0.280531746031746}"
      ]
     },
     "execution_count": 429,
     "metadata": {},
     "output_type": "execute_result"
    }
   ],
   "source": [
    "# rubert + g info in answer ranking\n",
    "quality(df)"
   ]
  },
  {
   "cell_type": "code",
   "execution_count": 361,
   "metadata": {},
   "outputs": [
    {
     "data": {
      "text/plain": [
       "{'f1': 0.2714259259259259}"
      ]
     },
     "execution_count": 361,
     "metadata": {},
     "output_type": "execute_result"
    }
   ],
   "source": [
    "# rubert\n",
    "quality(df)"
   ]
  },
  {
   "cell_type": "code",
   "execution_count": 357,
   "metadata": {},
   "outputs": [
    {
     "data": {
      "text/plain": [
       "{'f1': 0.6276111111111111}"
      ]
     },
     "execution_count": 357,
     "metadata": {},
     "output_type": "execute_result"
    }
   ],
   "source": [
    "# Graph + rubert\n",
    "quality(df)"
   ]
  },
  {
   "cell_type": "code",
   "execution_count": 353,
   "metadata": {},
   "outputs": [
    {
     "data": {
      "text/plain": [
       "{'f1': 0.6322592592592592}"
      ]
     },
     "execution_count": 353,
     "metadata": {},
     "output_type": "execute_result"
    }
   ],
   "source": [
    "# Graph + ODQA\n",
    "quality(df)"
   ]
  },
  {
   "cell_type": "code",
   "execution_count": 349,
   "metadata": {},
   "outputs": [
    {
     "data": {
      "text/plain": [
       "{'f1': 0.6261666666666668}"
      ]
     },
     "execution_count": 349,
     "metadata": {},
     "output_type": "execute_result"
    }
   ],
   "source": [
    "# Graph (rel_types 1800)\n",
    "quality(df)"
   ]
  },
  {
   "cell_type": "code",
   "execution_count": 435,
   "metadata": {},
   "outputs": [
    {
     "data": {
      "text/plain": [
       "{'f1': 0.3586111111111111}"
      ]
     },
     "execution_count": 435,
     "metadata": {},
     "output_type": "execute_result"
    }
   ],
   "source": [
    "# Graph rel_no_types gr_rel70 - wrong\n",
    "quality(df)"
   ]
  },
  {
   "cell_type": "code",
   "execution_count": 448,
   "metadata": {},
   "outputs": [
    {
     "data": {
      "text/plain": [
       "{'f1': 0.3771666666666667}"
      ]
     },
     "execution_count": 448,
     "metadata": {},
     "output_type": "execute_result"
    }
   ],
   "source": [
    "# Graph rel_no_types gr_rel70 + ODQA - wrong\n",
    "quality(df)"
   ]
  },
  {
   "cell_type": "code",
   "execution_count": 439,
   "metadata": {},
   "outputs": [
    {
     "data": {
      "text/plain": [
       "{'f1': 0.3720555555555556}"
      ]
     },
     "execution_count": 439,
     "metadata": {},
     "output_type": "execute_result"
    }
   ],
   "source": [
    "# Graph rel_no_types gr_rel70 + rubert - wrong \n",
    "quality(df)"
   ]
  },
  {
   "cell_type": "code",
   "execution_count": 463,
   "metadata": {},
   "outputs": [
    {
     "data": {
      "text/plain": [
       "{'f1': 0.6172777777777778}"
      ]
     },
     "execution_count": 463,
     "metadata": {},
     "output_type": "execute_result"
    }
   ],
   "source": [
    "# Graph rel_no_types gr_rel70 - retried rel-rels ??????????\n",
    "quality(df)"
   ]
  },
  {
   "cell_type": "code",
   "execution_count": 473,
   "metadata": {},
   "outputs": [
    {
     "data": {
      "text/plain": [
       "{'f1': 0.6259444444444444}"
      ]
     },
     "execution_count": 473,
     "metadata": {},
     "output_type": "execute_result"
    }
   ],
   "source": [
    "# Graph rel_no_types gr_rel70 + ODQA \n",
    "quality(df)"
   ]
  },
  {
   "cell_type": "code",
   "execution_count": 469,
   "metadata": {},
   "outputs": [
    {
     "data": {
      "text/plain": [
       "{'f1': 0.6187222222222223}"
      ]
     },
     "execution_count": 469,
     "metadata": {},
     "output_type": "execute_result"
    }
   ],
   "source": [
    "# Graph rel_no_types gr_rel70 + rubert\n",
    "quality(df)"
   ]
  },
  {
   "cell_type": "code",
   "execution_count": 481,
   "metadata": {},
   "outputs": [
    {
     "data": {
      "text/plain": [
       "{'f1': 0.8727037037037038}"
      ]
     },
     "execution_count": 481,
     "metadata": {},
     "output_type": "execute_result"
    }
   ],
   "source": [
    "# Graph (Q)ner + class relrel 70 (g_ner70)\n",
    "quality(df)"
   ]
  },
  {
   "cell_type": "code",
   "execution_count": 496,
   "metadata": {},
   "outputs": [
    {
     "data": {
      "text/plain": [
       "{'f1': 0.8769444444444444}"
      ]
     },
     "execution_count": 496,
     "metadata": {},
     "output_type": "execute_result"
    }
   ],
   "source": [
    "# Graph (Q)ner + class relrel 70 (g_ner70) + ODQA\n",
    "quality(df)"
   ]
  },
  {
   "cell_type": "code",
   "execution_count": 490,
   "metadata": {},
   "outputs": [
    {
     "data": {
      "text/plain": [
       "{'f1': 0.8732592592592593}"
      ]
     },
     "execution_count": 490,
     "metadata": {},
     "output_type": "execute_result"
    }
   ],
   "source": [
    "# Graph (Q)ner + class relrel 70 (g_ner70) + rubert\n",
    "quality(df)"
   ]
  },
  {
   "cell_type": "code",
   "execution_count": 510,
   "metadata": {},
   "outputs": [
    {
     "data": {
      "text/plain": [
       "{'f1': 0.8827037037037038}"
      ]
     },
     "execution_count": 510,
     "metadata": {},
     "output_type": "execute_result"
    }
   ],
   "source": [
    "# Graph (Q)ner + class types (g_ner_t)\n",
    "quality(df)"
   ]
  },
  {
   "cell_type": "code",
   "execution_count": 520,
   "metadata": {},
   "outputs": [
    {
     "data": {
      "text/plain": [
       "{'f1': 0.8863888888888889}"
      ]
     },
     "execution_count": 520,
     "metadata": {},
     "output_type": "execute_result"
    }
   ],
   "source": [
    "# Graph (Q)ner + class types (g_ner_t) + ODQA\n",
    "quality(df)"
   ]
  },
  {
   "cell_type": "code",
   "execution_count": 515,
   "metadata": {},
   "outputs": [
    {
     "data": {
      "text/plain": [
       "{'f1': 0.8832592592592593}"
      ]
     },
     "execution_count": 515,
     "metadata": {},
     "output_type": "execute_result"
    }
   ],
   "source": [
    "# Graph (Q)ner + class types 70 (g_ner_t) + rubert\n",
    "quality(df)"
   ]
  },
  {
   "cell_type": "code",
   "execution_count": 759,
   "metadata": {},
   "outputs": [
    {
     "data": {
      "text/plain": [
       "{'f1': 0.3732592592592593}"
      ]
     },
     "execution_count": 759,
     "metadata": {},
     "output_type": "execute_result"
    }
   ],
   "source": [
    "# KGQA\n",
    "\n",
    "quality(df)"
   ]
  },
  {
   "cell_type": "code",
   "execution_count": 550,
   "metadata": {},
   "outputs": [
    {
     "data": {
      "text/plain": [
       "{'f1': 0.37548148148148147}"
      ]
     },
     "execution_count": 550,
     "metadata": {},
     "output_type": "execute_result"
    }
   ],
   "source": [
    "# KGQA + ODQA\n",
    "quality(df)"
   ]
  },
  {
   "cell_type": "code",
   "execution_count": 555,
   "metadata": {},
   "outputs": [
    {
     "data": {
      "text/plain": [
       "{'f1': 0.374962962962963}"
      ]
     },
     "execution_count": 555,
     "metadata": {},
     "output_type": "execute_result"
    }
   ],
   "source": [
    "# KGQA + rubert\n",
    "quality(df)"
   ]
  },
  {
   "cell_type": "code",
   "execution_count": 565,
   "metadata": {},
   "outputs": [
    {
     "data": {
      "text/plain": [
       "{'f1': 0.42411111111111116}"
      ]
     },
     "execution_count": 565,
     "metadata": {},
     "output_type": "execute_result"
    }
   ],
   "source": [
    "# If KGQA knew about its mistakes (first checked, then Text added to empty places) + ODQA\n",
    "\n",
    "quality(df)"
   ]
  },
  {
   "cell_type": "code",
   "execution_count": 560,
   "metadata": {},
   "outputs": [
    {
     "data": {
      "text/plain": [
       "{'f1': 0.4402962962962963}"
      ]
     },
     "execution_count": 560,
     "metadata": {},
     "output_type": "execute_result"
    }
   ],
   "source": [
    "# If KGQA knew about its mistakes (firts checked, then Text added to empty places) + rubert(bad ranking)\n",
    "\n",
    "quality(df)"
   ]
  },
  {
   "cell_type": "code",
   "execution_count": 858,
   "metadata": {},
   "outputs": [
    {
     "data": {
      "text/plain": [
       "{'f1': 0.7366111111111112}"
      ]
     },
     "execution_count": 858,
     "metadata": {},
     "output_type": "execute_result"
    }
   ],
   "source": [
    "# !!! ner dp Graph types - это хорошее ранжирование Deep Pavlov ner\n",
    "quality(df)"
   ]
  },
  {
   "cell_type": "code",
   "execution_count": 842,
   "metadata": {},
   "outputs": [
    {
     "data": {
      "text/plain": [
       "{'f1': 0.6261666666666668}"
      ]
     },
     "execution_count": 842,
     "metadata": {},
     "output_type": "execute_result"
    }
   ],
   "source": [
    "quality(df) # это было плохое ранжирование"
   ]
  },
  {
   "cell_type": "code",
   "execution_count": 864,
   "metadata": {},
   "outputs": [
    {
     "data": {
      "text/plain": [
       "{'f1': 0.6509814814814815}"
      ]
     },
     "execution_count": 864,
     "metadata": {},
     "output_type": "execute_result"
    }
   ],
   "source": [
    "# g_ner_dp_t_h\n",
    "\n",
    "quality(df) # "
   ]
  },
  {
   "cell_type": "code",
   "execution_count": 968,
   "metadata": {},
   "outputs": [
    {
     "data": {
      "text/plain": [
       "{'f1': 0.6700555555555555}"
      ]
     },
     "execution_count": 968,
     "metadata": {},
     "output_type": "execute_result"
    }
   ],
   "source": [
    "# g_ner_dp_t_h + ODQA\n",
    "\n",
    "quality(df) # "
   ]
  },
  {
   "cell_type": "code",
   "execution_count": 962,
   "metadata": {},
   "outputs": [
    {
     "data": {
      "text/plain": [
       "{'f1': 0.6578148148148147}"
      ]
     },
     "execution_count": 962,
     "metadata": {},
     "output_type": "execute_result"
    }
   ],
   "source": [
    "# g_ner_dp_t_h + rubert\n",
    "\n",
    "quality(df) # "
   ]
  },
  {
   "cell_type": "code",
   "execution_count": null,
   "metadata": {},
   "outputs": [],
   "source": [
    "# g_ner_dp_t_h + rubert !! found right answers in wrong texts !! - check where\n",
    "\n",
    "quality(df) # "
   ]
  },
  {
   "cell_type": "code",
   "execution_count": 908,
   "metadata": {},
   "outputs": [
    {
     "data": {
      "text/plain": [
       "{'f1': 0.3309814814814815}"
      ]
     },
     "execution_count": 908,
     "metadata": {},
     "output_type": "execute_result"
    }
   ],
   "source": [
    "#50 part of G\n",
    "quality(df) # "
   ]
  },
  {
   "cell_type": "code",
   "execution_count": 922,
   "metadata": {},
   "outputs": [
    {
     "data": {
      "text/plain": [
       "{'f1': 0.4231005291005291}"
      ]
     },
     "execution_count": 922,
     "metadata": {},
     "output_type": "execute_result"
    }
   ],
   "source": [
    "#50 G + rubert\n",
    "quality(df) # "
   ]
  },
  {
   "cell_type": "code",
   "execution_count": 942,
   "metadata": {},
   "outputs": [
    {
     "data": {
      "text/plain": [
       "{'f1': 0.43002645502645503}"
      ]
     },
     "execution_count": 942,
     "metadata": {},
     "output_type": "execute_result"
    }
   ],
   "source": [
    "#50 G + rubert + 110\n",
    "quality(df) # "
   ]
  },
  {
   "cell_type": "code",
   "execution_count": 932,
   "metadata": {},
   "outputs": [
    {
     "data": {
      "text/plain": [
       "{'f1': 0.3743148148148148}"
      ]
     },
     "execution_count": 932,
     "metadata": {},
     "output_type": "execute_result"
    }
   ],
   "source": [
    "#50 G + ODQA\n",
    "quality(df) # "
   ]
  },
  {
   "cell_type": "code",
   "execution_count": null,
   "metadata": {},
   "outputs": [],
   "source": []
  },
  {
   "cell_type": "code",
   "execution_count": 917,
   "metadata": {},
   "outputs": [
    {
     "data": {
      "text/plain": [
       "{'f1': 0.3865529100529101}"
      ]
     },
     "execution_count": 917,
     "metadata": {},
     "output_type": "execute_result"
    }
   ],
   "source": [
    "# DeepPavlov RuBert\n",
    "quality(df)"
   ]
  },
  {
   "cell_type": "code",
   "execution_count": 951,
   "metadata": {},
   "outputs": [
    {
     "data": {
      "text/plain": [
       "{'f1': 0.37916666666666665}"
      ]
     },
     "execution_count": 951,
     "metadata": {},
     "output_type": "execute_result"
    }
   ],
   "source": [
    "# 50 G with rotation, not hybrid not_h50\n",
    "\n",
    "quality(df)"
   ]
  },
  {
   "cell_type": "code",
   "execution_count": null,
   "metadata": {},
   "outputs": [],
   "source": [
    "------------------"
   ]
  },
  {
   "cell_type": "code",
   "execution_count": 333,
   "metadata": {},
   "outputs": [
    {
     "data": {
      "text/plain": [
       "{'f1': 0.9750644567219153}"
      ]
     },
     "execution_count": 333,
     "metadata": {},
     "output_type": "execute_result"
    }
   ],
   "source": [
    "# wikidata results if relation and entity are right !\n",
    "\n",
    "quality(df)"
   ]
  },
  {
   "cell_type": "code",
   "execution_count": 320,
   "metadata": {},
   "outputs": [
    {
     "data": {
      "text/plain": [
       "{'f1': 0.27842936069455404}"
      ]
     },
     "execution_count": 320,
     "metadata": {},
     "output_type": "execute_result"
    }
   ],
   "source": [
    "# rubert ans ranked with g info only\n",
    "quality(df)"
   ]
  },
  {
   "cell_type": "code",
   "execution_count": 324,
   "metadata": {},
   "outputs": [
    {
     "data": {
      "text/plain": [
       "{'f1': 0.6217311233885819}"
      ]
     },
     "execution_count": 324,
     "metadata": {},
     "output_type": "execute_result"
    }
   ],
   "source": [
    "# rubert ans ranked with g info + graph \n",
    "quality(df)"
   ]
  },
  {
   "cell_type": "code",
   "execution_count": 284,
   "metadata": {},
   "outputs": [
    {
     "data": {
      "text/plain": [
       "{'f1': 0.6261878453038675}"
      ]
     },
     "execution_count": 284,
     "metadata": {},
     "output_type": "execute_result"
    }
   ],
   "source": [
    "# ODQA + graph -110 not_found ('война' excluded)\n",
    "quality(df)"
   ]
  },
  {
   "cell_type": "code",
   "execution_count": null,
   "metadata": {},
   "outputs": [],
   "source": []
  },
  {
   "cell_type": "code",
   "execution_count": 276,
   "metadata": {},
   "outputs": [
    {
     "data": {
      "text/plain": [
       "{'f1': 0.26311233885819524}"
      ]
     },
     "execution_count": 276,
     "metadata": {},
     "output_type": "execute_result"
    }
   ],
   "source": [
    "# bert ranked only -110 not_found('война' excluded)\n",
    "quality(df)"
   ]
  },
  {
   "cell_type": "code",
   "execution_count": 289,
   "metadata": {},
   "outputs": [
    {
     "data": {
      "text/plain": [
       "{'f1': 0.6210128913443831}"
      ]
     },
     "execution_count": 289,
     "metadata": {},
     "output_type": "execute_result"
    }
   ],
   "source": [
    "# bert + graph -110 not_found\n",
    "quality(df)"
   ]
  },
  {
   "cell_type": "code",
   "execution_count": 314,
   "metadata": {},
   "outputs": [
    {
     "data": {
      "text/plain": [
       "{'f1': 0.6468876611418047}"
      ]
     },
     "execution_count": 314,
     "metadata": {},
     "output_type": "execute_result"
    }
   ],
   "source": [
    "# rubert gold + graph -110 not_found\n",
    "quality(df) "
   ]
  },
  {
   "cell_type": "code",
   "execution_count": 239,
   "metadata": {},
   "outputs": [
    {
     "data": {
      "text/plain": [
       "{'f1': 0.6215653775322283}"
      ]
     },
     "execution_count": 239,
     "metadata": {},
     "output_type": "execute_result"
    }
   ],
   "source": [
    "# gr + rubert -110 not_found\n",
    "\n",
    "quality(df)\n"
   ]
  },
  {
   "cell_type": "code",
   "execution_count": 221,
   "metadata": {},
   "outputs": [
    {
     "data": {
      "text/plain": [
       "{'f1': 0.6286187845303869}"
      ]
     },
     "execution_count": 221,
     "metadata": {},
     "output_type": "execute_result"
    }
   ],
   "source": [
    "# rubert with graph ranking + graph \n",
    "\n",
    "quality(df)"
   ]
  },
  {
   "cell_type": "code",
   "execution_count": 217,
   "metadata": {},
   "outputs": [
    {
     "data": {
      "text/plain": [
       "{'f1': 0.2825545908971323}"
      ]
     },
     "execution_count": 217,
     "metadata": {},
     "output_type": "execute_result"
    }
   ],
   "source": [
    "# rubert with graph ranking\n",
    "\n",
    "quality(df)"
   ]
  },
  {
   "cell_type": "code",
   "execution_count": 190,
   "metadata": {},
   "outputs": [
    {
     "data": {
      "text/plain": [
       "{'f1': 0.6257090239410681}"
      ]
     },
     "execution_count": 190,
     "metadata": {},
     "output_type": "execute_result"
    }
   ],
   "source": [
    "# !rubert answers ranked instead of ''! + gragh\n",
    "quality(df) \n"
   ]
  },
  {
   "cell_type": "code",
   "execution_count": 202,
   "metadata": {},
   "outputs": [
    {
     "data": {
      "text/plain": [
       "{'f1': 0.6638858195211786}"
      ]
     },
     "execution_count": 202,
     "metadata": {},
     "output_type": "execute_result"
    }
   ],
   "source": [
    "# gold + graph -110 not_found\n",
    "quality(df) "
   ]
  },
  {
   "cell_type": "code",
   "execution_count": 294,
   "metadata": {},
   "outputs": [
    {
     "data": {
      "text/plain": [
       "{'f1': 0.5355774796106287}"
      ]
     },
     "execution_count": 294,
     "metadata": {},
     "output_type": "execute_result"
    }
   ],
   "source": [
    "# rubert gold only (compare with ODQA dp) ('война' excluded) -110 not_found\n",
    "quality(df)"
   ]
  },
  {
   "cell_type": "code",
   "execution_count": 298,
   "metadata": {},
   "outputs": [
    {
     "data": {
      "text/plain": [
       "{'f1': 0.26937384898710864}"
      ]
     },
     "execution_count": 298,
     "metadata": {},
     "output_type": "execute_result"
    }
   ],
   "source": [
    "# rubert ranked only (110 not found are found here) ('война' excluded) -110 not_found\n",
    "quality(df)"
   ]
  },
  {
   "cell_type": "code",
   "execution_count": 988,
   "metadata": {},
   "outputs": [
    {
     "data": {
      "text/plain": [
       "{'f1': 0.1625}"
      ]
     },
     "execution_count": 988,
     "metadata": {},
     "output_type": "execute_result"
    }
   ],
   "source": [
    "# a9750not\n",
    "quality(df) # di['answer_dp'] in if... '' ('война' excluded)"
   ]
  },
  {
   "cell_type": "code",
   "execution_count": 974,
   "metadata": {},
   "outputs": [
    {
     "data": {
      "text/plain": [
       "{'f1': 0.3865529100529101}"
      ]
     },
     "execution_count": 974,
     "metadata": {},
     "output_type": "execute_result"
    }
   ],
   "source": [
    "# Reader Rubert NER rank\n",
    "\n",
    "quality(df)"
   ]
  }
 ],
 "metadata": {
  "kernelspec": {
   "display_name": "Python 3",
   "language": "python",
   "name": "python3"
  },
  "language_info": {
   "codemirror_mode": {
    "name": "ipython",
    "version": 3
   },
   "file_extension": ".py",
   "mimetype": "text/x-python",
   "name": "python",
   "nbconvert_exporter": "python",
   "pygments_lexer": "ipython3",
   "version": "3.6.8"
  }
 },
 "nbformat": 4,
 "nbformat_minor": 2
}
