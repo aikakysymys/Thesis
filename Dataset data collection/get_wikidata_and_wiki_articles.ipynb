{
 "cells": [
  {
   "cell_type": "code",
   "execution_count": 1,
   "metadata": {},
   "outputs": [],
   "source": [
    "import wptools"
   ]
  },
  {
   "cell_type": "code",
   "execution_count": 34,
   "metadata": {},
   "outputs": [
    {
     "name": "stderr",
     "output_type": "stream",
     "text": [
      "www.wikidata.org (wikidata) Оборона Брестской крепости\n",
      "www.wikidata.org (labels) P646|P361|P910|P582|P585|Q83055|P18|Q96...\n",
      "ru.wikipedia.org (imageinfo) File:BrestFortress7.JPG\n",
      "Оборона Брестской крепости (ru) data\n",
      "{\n",
      "  claims: <dict(12)> P646, P31, P910, P361, P580, P582, P276, P17,...\n",
      "  image: <list(1)> {'file': 'File:BrestFortress7.JPG', 'kind': 'wi...\n",
      "  label: Оборона Брестской крепости\n",
      "  labels: <dict(18)> P646, P361, P910, P582, P585, Q83055, P18, Q9...\n",
      "  modified: <dict(1)> wikidata\n",
      "  requests: <list(3)> wikidata, labels, imageinfo\n",
      "  title: Оборона_Брестской_крепости\n",
      "  what: осада\n",
      "  wikibase: Q611789\n",
      "  wikidata: <dict(12)> код Freebase (P646), это частный случай пон...\n",
      "  wikidata_pageid: 576119\n",
      "  wikidata_url: https://www.wikidata.org/wiki/Q611789\n",
      "}\n"
     ]
    },
    {
     "data": {
      "text/plain": [
       "{'код Freebase (P646)': '/m/03nt1c7',\n",
       " 'это частный случай понятия (P31)': 'осада (Q188055)',\n",
       " 'основная категория по теме (P910)': 'Категория:Оборона Брестской крепости (Q9673501)',\n",
       " 'часть от (P361)': ['Великая Отечественная война (Q189266)',\n",
       "  'операция «Барбаросса» (Q83055)'],\n",
       " 'дата начала (P580)': '+1941-06-22T00:00:00Z',\n",
       " 'дата окончания (P582)': '+1941-06-29T00:00:00Z',\n",
       " 'местонахождение (P276)': 'Брестская крепость (Q23868)',\n",
       " 'государство (P17)': 'Белоруссия (Q184)',\n",
       " 'изображение (P18)': 'BrestFortress7.JPG',\n",
       " 'код LCNAF (P244)': 'sh95001981',\n",
       " 'географические координаты (P625)': {'latitude': 52.083333333333,\n",
       "  'longitude': 23.652777777778,\n",
       "  'altitude': None,\n",
       "  'precision': 1e-05,\n",
       "  'globe': 'http://www.wikidata.org/entity/Q2'},\n",
       " 'момент времени (P585)': '+1941-06-29T00:00:00Z'}"
      ]
     },
     "execution_count": 34,
     "metadata": {},
     "output_type": "execute_result"
    }
   ],
   "source": [
    "#look\n",
    "\n",
    "wiki_ent = wptools.page(\"Оборона Брестской крепости\", lang='ru').get_wikidata()\n",
    "wiki_ent.data['wikidata']#['часть от (P361)']"
   ]
  },
  {
   "cell_type": "code",
   "execution_count": 29,
   "metadata": {},
   "outputs": [],
   "source": [
    "# wiki_ent.data['aliases']"
   ]
  },
  {
   "cell_type": "code",
   "execution_count": 9,
   "metadata": {},
   "outputs": [],
   "source": [
    "# wiki_ent.data['claims']"
   ]
  },
  {
   "cell_type": "code",
   "execution_count": 6,
   "metadata": {},
   "outputs": [
    {
     "data": {
      "text/plain": [
       "'28-й президент США'"
      ]
     },
     "execution_count": 6,
     "metadata": {},
     "output_type": "execute_result"
    }
   ],
   "source": [
    "wiki_ent.data['description']"
   ]
  },
  {
   "cell_type": "code",
   "execution_count": 7,
   "metadata": {},
   "outputs": [
    {
     "data": {
      "text/plain": [
       "'Вудро Вильсон'"
      ]
     },
     "execution_count": 7,
     "metadata": {},
     "output_type": "execute_result"
    }
   ],
   "source": [
    "wiki_ent.data['label']"
   ]
  },
  {
   "cell_type": "code",
   "execution_count": 8,
   "metadata": {},
   "outputs": [
    {
     "data": {
      "text/plain": [
       "'человек'"
      ]
     },
     "execution_count": 8,
     "metadata": {},
     "output_type": "execute_result"
    }
   ],
   "source": [
    "wiki_ent.data['what']"
   ]
  },
  {
   "cell_type": "markdown",
   "metadata": {},
   "source": [
    "# Get Wikidata"
   ]
  },
  {
   "cell_type": "code",
   "execution_count": 1,
   "metadata": {},
   "outputs": [],
   "source": [
    "import wptools\n",
    "\n",
    "def get_info(ent):\n",
    "    try:\n",
    "        wiki_ent = wptools.page(ent, lang='ru').get_wikidata()\n",
    "    except(LookupError, ValueError):\n",
    "        return {'LookupError':ent}\n",
    "    try:\n",
    "        wiki_ent = wptools.page(ent, lang='ru').get_wikidata()\n",
    "    except(ValueError):\n",
    "        print(ValueError)\n",
    "        return {'ValueError':ent}\n",
    "    infotype = ['wikibase', 'what','wikidata', 'aliases', 'claims', 'description', 'label']\n",
    "    \n",
    "    info_d = {}\n",
    "    info_d.update({'ent':ent})\n",
    "    \n",
    "    for t in infotype:\n",
    "        try:\n",
    "            inf = wiki_ent.data[t]\n",
    "            info_d.update({t:inf})\n",
    "        except(KeyError):\n",
    "            continue\n",
    "    return info_d"
   ]
  },
  {
   "cell_type": "code",
   "execution_count": 2,
   "metadata": {},
   "outputs": [],
   "source": [
    "def batch(iterable, n=1):\n",
    "    l = len(iterable)\n",
    "    for ndx in range(0, l, n):\n",
    "        yield iterable[ndx:min(ndx + n, l)]\n",
    "\n",
    "# for x in batch(range(0, 10), 3):\n",
    "#     print(x)"
   ]
  },
  {
   "cell_type": "code",
   "execution_count": 3,
   "metadata": {},
   "outputs": [],
   "source": [
    "import json\n",
    "\n",
    "# man_ent_list_30 - downloaded\n",
    "n = json.load(open(\"man_ent_list_30.json\", \"r\", encoding=\"utf-8\"))\n",
    "# n = json.load(open(\"ent_found.json\", \"r\", encoding=\"utf-8\"))\n"
   ]
  },
  {
   "cell_type": "code",
   "execution_count": 4,
   "metadata": {},
   "outputs": [
    {
     "data": {
      "text/html": [
       "<div>\n",
       "<style scoped>\n",
       "    .dataframe tbody tr th:only-of-type {\n",
       "        vertical-align: middle;\n",
       "    }\n",
       "\n",
       "    .dataframe tbody tr th {\n",
       "        vertical-align: top;\n",
       "    }\n",
       "\n",
       "    .dataframe thead th {\n",
       "        text-align: right;\n",
       "    }\n",
       "</style>\n",
       "<table border=\"1\" class=\"dataframe\">\n",
       "  <thead>\n",
       "    <tr style=\"text-align: right;\">\n",
       "      <th></th>\n",
       "      <th>Unnamed: 0</th>\n",
       "      <th>entity</th>\n",
       "      <th>label</th>\n",
       "      <th>to_entity</th>\n",
       "    </tr>\n",
       "  </thead>\n",
       "  <tbody>\n",
       "    <tr>\n",
       "      <th>0</th>\n",
       "      <td>0</td>\n",
       "      <td>Польская украина</td>\n",
       "      <td>1.0</td>\n",
       "      <td>NaN</td>\n",
       "    </tr>\n",
       "    <tr>\n",
       "      <th>1</th>\n",
       "      <td>1</td>\n",
       "      <td>Сражения Второй чеченской войны</td>\n",
       "      <td>1.0</td>\n",
       "      <td>NaN</td>\n",
       "    </tr>\n",
       "    <tr>\n",
       "      <th>2</th>\n",
       "      <td>2</td>\n",
       "      <td>Сражения Кавказской войны</td>\n",
       "      <td>1.0</td>\n",
       "      <td>NaN</td>\n",
       "    </tr>\n",
       "    <tr>\n",
       "      <th>3</th>\n",
       "      <td>3</td>\n",
       "      <td>Сражения Крымской войны</td>\n",
       "      <td>1.0</td>\n",
       "      <td>NaN</td>\n",
       "    </tr>\n",
       "    <tr>\n",
       "      <th>4</th>\n",
       "      <td>4</td>\n",
       "      <td>Морские сражения России</td>\n",
       "      <td>1.0</td>\n",
       "      <td>NaN</td>\n",
       "    </tr>\n",
       "  </tbody>\n",
       "</table>\n",
       "</div>"
      ],
      "text/plain": [
       "   Unnamed: 0                           entity  label to_entity\n",
       "0           0                 Польская украина    1.0       NaN\n",
       "1           1  Сражения Второй чеченской войны    1.0       NaN\n",
       "2           2        Сражения Кавказской войны    1.0       NaN\n",
       "3           3          Сражения Крымской войны    1.0       NaN\n",
       "4           4          Морские сражения России    1.0       NaN"
      ]
     },
     "execution_count": 4,
     "metadata": {},
     "output_type": "execute_result"
    }
   ],
   "source": [
    "import pandas as pd \n",
    " \n",
    "data = pd.read_csv(\"all_entities_90.csv\") \n",
    "data.head()"
   ]
  },
  {
   "cell_type": "code",
   "execution_count": 5,
   "metadata": {},
   "outputs": [
    {
     "data": {
      "text/plain": [
       "97356"
      ]
     },
     "execution_count": 5,
     "metadata": {},
     "output_type": "execute_result"
    }
   ],
   "source": [
    "len(data)"
   ]
  },
  {
   "cell_type": "code",
   "execution_count": 6,
   "metadata": {},
   "outputs": [
    {
     "data": {
      "text/plain": [
       "30704"
      ]
     },
     "execution_count": 6,
     "metadata": {},
     "output_type": "execute_result"
    }
   ],
   "source": [
    "len(n)"
   ]
  },
  {
   "cell_type": "code",
   "execution_count": 7,
   "metadata": {},
   "outputs": [],
   "source": [
    "h = data[\"entity\"].tolist()"
   ]
  },
  {
   "cell_type": "code",
   "execution_count": 8,
   "metadata": {},
   "outputs": [],
   "source": [
    "# get rid of entities done\n",
    "h = [ent for ent in h if ent not in n]"
   ]
  },
  {
   "cell_type": "code",
   "execution_count": null,
   "metadata": {},
   "outputs": [],
   "source": []
  },
  {
   "cell_type": "code",
   "execution_count": 9,
   "metadata": {},
   "outputs": [
    {
     "data": {
      "text/plain": [
       "89349"
      ]
     },
     "execution_count": 9,
     "metadata": {},
     "output_type": "execute_result"
    }
   ],
   "source": [
    "len(h)"
   ]
  },
  {
   "cell_type": "code",
   "execution_count": 48,
   "metadata": {},
   "outputs": [],
   "source": [
    "part1 = h[8580:30000]"
   ]
  },
  {
   "cell_type": "code",
   "execution_count": null,
   "metadata": {},
   "outputs": [
    {
     "name": "stdout",
     "output_type": "stream",
     "text": [
      "Directory  Processed_new_90000  already exists\n"
     ]
    },
    {
     "data": {
      "application/vnd.jupyter.widget-view+json": {
       "model_id": "2bd45c1cf4ba454980a1c60a88484f8d",
       "version_major": 2,
       "version_minor": 0
      },
      "text/plain": [
       "HBox(children=(IntProgress(value=1, bar_style='info', description='a loop', max=1, style=ProgressStyle(descrip…"
      ]
     },
     "metadata": {},
     "output_type": "display_data"
    },
    {
     "name": "stderr",
     "output_type": "stream",
     "text": [
      "www.wikidata.org (wikidata) Восточная армейская группа\n",
      "www.wikidata.org (labels) P17|Q15180|P18\n",
      "Note: Wikidata item Q4126455 missing 'instance of' (P31)\n",
      "ru.wikipedia.org (imageinfo) File:Red Army flag.svg\n",
      "Восточная армейская группа (ru) data\n",
      "{\n",
      "  claims: <dict(2)> P18, P17\n",
      "  image: <list(1)> {'file': 'File:Red Army flag.svg', 'kind': 'wik...\n",
      "  label: Восточная армейская группа\n",
      "  labels: <dict(3)> P17, Q15180, P18\n",
      "  modified: <dict(1)> wikidata\n",
      "  requests: <list(3)> wikidata, labels, imageinfo\n",
      "  title: Восточная_армейская_группа\n",
      "  wikibase: Q4126455\n",
      "  wikidata: <dict(2)> изображение (P18), государство (P17)\n",
      "  wikidata_pageid: 3934374\n",
      "  wikidata_url: https://www.wikidata.org/wiki/Q4126455\n",
      "}\n",
      "www.wikidata.org (wikidata) Восточная армейская группа\n",
      "www.wikidata.org (labels) P17|Q15180|P18\n",
      "Note: Wikidata item Q4126455 missing 'instance of' (P31)\n",
      "ru.wikipedia.org (imageinfo) File:Red Army flag.svg\n",
      "Восточная армейская группа (ru) data\n",
      "{\n",
      "  claims: <dict(2)> P18, P17\n",
      "  image: <list(1)> {'file': 'File:Red Army flag.svg', 'kind': 'wik...\n",
      "  label: Восточная армейская группа\n",
      "  labels: <dict(3)> P17, Q15180, P18\n",
      "  modified: <dict(1)> wikidata\n",
      "  requests: <list(3)> wikidata, labels, imageinfo\n",
      "  title: Восточная_армейская_группа\n",
      "  wikibase: Q4126455\n",
      "  wikidata: <dict(2)> изображение (P18), государство (P17)\n",
      "  wikidata_pageid: 3934374\n",
      "  wikidata_url: https://www.wikidata.org/wiki/Q4126455\n",
      "}\n",
      "www.wikidata.org (wikidata) 300-я стрелковая дивизия (1-го формир...\n",
      "www.wikidata.org (labels) P571|P576|Q1469267|P361|Q176799|P31|Q15...\n",
      "300-я стрелковая дивизия (1-го формирования) (ru) data\n",
      "{\n",
      "  claims: <dict(5)> P31, P17, P571, P576, P361\n",
      "  description: войсковое формирование стрелковых войск РККА\n",
      "  label: 300-я стрелковая дивизия\n",
      "  labels: <dict(9)> P571, P576, Q1469267, P361, Q176799, P31, Q151...\n",
      "  modified: <dict(1)> wikidata\n",
      "  requests: <list(2)> wikidata, labels\n",
      "  title: 300-я_стрелковая_дивизия_(1-го_формирования)\n",
      "  what: воинское формирование\n",
      "  wikibase: Q18234796\n",
      "  wikidata: <dict(5)> это частный случай понятия (P31), государств...\n",
      "  wikidata_pageid: 19763764\n",
      "  wikidata_url: https://www.wikidata.org/wiki/Q18234796\n",
      "}\n",
      "www.wikidata.org (wikidata) 300-я стрелковая дивизия (1-го формир...\n",
      "www.wikidata.org (labels) P571|P576|Q1469267|P361|Q176799|P31|Q15...\n",
      "300-я стрелковая дивизия (1-го формирования) (ru) data\n",
      "{\n",
      "  claims: <dict(5)> P31, P17, P571, P576, P361\n",
      "  description: войсковое формирование стрелковых войск РККА\n",
      "  label: 300-я стрелковая дивизия\n",
      "  labels: <dict(9)> P571, P576, Q1469267, P361, Q176799, P31, Q151...\n",
      "  modified: <dict(1)> wikidata\n",
      "  requests: <list(2)> wikidata, labels\n",
      "  title: 300-я_стрелковая_дивизия_(1-го_формирования)\n",
      "  what: воинское формирование\n",
      "  wikibase: Q18234796\n",
      "  wikidata: <dict(5)> это частный случай понятия (P31), государств...\n",
      "  wikidata_pageid: 19763764\n",
      "  wikidata_url: https://www.wikidata.org/wiki/Q18234796\n",
      "}\n",
      "www.wikidata.org (wikidata) Голицын, Александр Михайлович (вице-к...\n",
      "www.wikidata.org (labels) P373|P569|Q5|Q193391|Q3313682|Q61569871...\n",
      "ru.wikipedia.org (imageinfo) File:Golytsyn 1723—1807.jpg\n",
      "Голицын, Александр Михайлович (вице-канцлер) (ru) data\n",
      "{\n",
      "  aliases: <list(1)> Голицын, Александр Михайлович (вице-канцлер)\n",
      "  claims: <dict(16)> P373, P31, P569, P570, P20, P18, P166, P106, ...\n",
      "  description: вице-канцлер\n",
      "  image: <list(1)> {'file': 'File:Golytsyn 1723—1807.jpg', 'kind':...\n",
      "  label: Александр Михайлович Голицын\n",
      "  labels: <dict(26)> P373, P569, Q5, Q193391, Q3313682, Q61569871,...\n",
      "  modified: <dict(1)> wikidata\n",
      "  requests: <list(3)> wikidata, labels, imageinfo\n",
      "  title: Голицын,_Александр_Михайлович_(вице-канцлер)\n",
      "  what: человек\n",
      "  wikibase: Q2833691\n",
      "  wikidata: <dict(16)> категория на Викискладе (P373), это частный...\n",
      "  wikidata_pageid: 2714025\n",
      "  wikidata_url: https://www.wikidata.org/wiki/Q2833691\n",
      "}\n",
      "www.wikidata.org (wikidata) Голицын, Александр Михайлович (вице-к...\n",
      "www.wikidata.org (labels) P373|P569|Q5|Q193391|Q3313682|Q61569871...\n",
      "ru.wikipedia.org (imageinfo) File:Golytsyn 1723—1807.jpg\n",
      "Голицын, Александр Михайлович (вице-канцлер) (ru) data\n",
      "{\n",
      "  aliases: <list(1)> Голицын, Александр Михайлович (вице-канцлер)\n",
      "  claims: <dict(16)> P373, P31, P569, P570, P20, P18, P166, P106, ...\n",
      "  description: вице-канцлер\n",
      "  image: <list(1)> {'file': 'File:Golytsyn 1723—1807.jpg', 'kind':...\n",
      "  label: Александр Михайлович Голицын\n",
      "  labels: <dict(26)> P373, P569, Q5, Q193391, Q3313682, Q61569871,...\n",
      "  modified: <dict(1)> wikidata\n",
      "  requests: <list(3)> wikidata, labels, imageinfo\n",
      "  title: Голицын,_Александр_Михайлович_(вице-канцлер)\n",
      "  what: человек\n",
      "  wikibase: Q2833691\n",
      "  wikidata: <dict(16)> категория на Викискладе (P373), это частный...\n",
      "  wikidata_pageid: 2714025\n",
      "  wikidata_url: https://www.wikidata.org/wiki/Q2833691\n",
      "}\n",
      "www.wikidata.org (wikidata) Тыркова-Вильямс, Ариадна Владимировна\n",
      "www.wikidata.org (labels) Q656|P1412|P691|P569|Q5|Q1607826|Q19301...\n",
      "Тыркова-Вильямс, Ариадна Владимировна (ru) data\n",
      "{\n",
      "  aliases: <list(9)> Тыркова-Вильямс, Ариадна Тыркова-Вильямс, Тыр...\n",
      "  claims: <dict(35)> P214, P31, P19, P570, P569, P106, P20, P735, ...\n",
      "  label: Тыркова-Вильямс, Ариадна Владимировна\n",
      "  labels: <dict(46)> Q656, P1412, P691, P569, Q5, Q1607826, Q19301...\n",
      "  modified: <dict(1)> wikidata\n",
      "  requests: <list(2)> wikidata, labels\n",
      "  title: Тыркова-Вильямс,_Ариадна_Владимировна\n",
      "  what: человек\n",
      "  wikibase: Q4467117\n",
      "  wikidata: <dict(33)> код VIAF (P214), это частный случай понятия...\n",
      "  wikidata_pageid: 4264943\n",
      "  wikidata_url: https://www.wikidata.org/wiki/Q4467117\n",
      "}\n",
      "www.wikidata.org (wikidata) Тыркова-Вильямс, Ариадна Владимировна\n",
      "www.wikidata.org (labels) Q656|P1412|P691|P569|Q5|Q1607826|Q19301...\n",
      "Тыркова-Вильямс, Ариадна Владимировна (ru) data\n",
      "{\n",
      "  aliases: <list(9)> Тыркова-Вильямс, Ариадна Тыркова-Вильямс, Тыр...\n",
      "  claims: <dict(35)> P214, P31, P19, P570, P569, P106, P20, P735, ...\n",
      "  label: Тыркова-Вильямс, Ариадна Владимировна\n",
      "  labels: <dict(46)> Q656, P1412, P691, P569, Q5, Q1607826, Q19301...\n",
      "  modified: <dict(1)> wikidata\n",
      "  requests: <list(2)> wikidata, labels\n",
      "  title: Тыркова-Вильямс,_Ариадна_Владимировна\n",
      "  what: человек\n",
      "  wikibase: Q4467117\n",
      "  wikidata: <dict(33)> код VIAF (P214), это частный случай понятия...\n",
      "  wikidata_pageid: 4264943\n",
      "  wikidata_url: https://www.wikidata.org/wiki/Q4467117\n",
      "}\n",
      "www.wikidata.org (wikidata) Стоппард, Том\n",
      "www.wikidata.org (labels) P569|Q28389|Q6873434|P2168|P1816|P2519|...\n",
      "www.wikidata.org (labels) P4619|P950|P1207|Q76331684|P3430|P2924|...\n",
      "www.wikidata.org (labels) P2163|P3065|P2019|Q76331686|P7574|Q7633...\n",
      "ru.wikipedia.org (imageinfo) File:Tom Stoppard 1.jpg\n",
      "Стоппард, Том (ru) data\n",
      "{\n",
      "  aliases: <list(5)> Стоппард Т., Стоппард Том, Стоппард, Томаш Шт...\n",
      "  claims: <dict(101)> P106, P244, P214, P227, P213, P373, P345, P3...\n",
      "  description: британский драматург, режиссёр, киносценарист и критик\n",
      "  image: <list(1)> {'file': 'File:Tom Stoppard 1.jpg', 'kind': 'wi...\n",
      "  label: Том Стоппард\n",
      "  labels: <dict(144)> P569, Q28389, Q6873434, P2168, P1816, P2519,...\n",
      "  modified: <dict(1)> wikidata\n",
      "  requests: <list(5)> wikidata, labels, labels, labels, imageinfo\n",
      "  title: Стоппард,_Том\n",
      "  what: человек\n",
      "  wikibase: Q294773\n",
      "  wikidata: <dict(93)> род занятий (P106), код LCNAF (P244), код V...\n",
      "  wikidata_pageid: 284737\n",
      "  wikidata_url: https://www.wikidata.org/wiki/Q294773\n",
      "}\n",
      "www.wikidata.org (wikidata) Стоппард, Том\n",
      "www.wikidata.org (labels) P569|Q28389|Q6873434|P2168|P1816|P2519|...\n",
      "www.wikidata.org (labels) P4619|P950|P1207|Q76331684|P3430|P2924|...\n",
      "www.wikidata.org (labels) P2163|P3065|P2019|Q76331686|P7574|Q7633...\n",
      "ru.wikipedia.org (imageinfo) File:Tom Stoppard 1.jpg\n",
      "Стоппард, Том (ru) data\n",
      "{\n",
      "  aliases: <list(5)> Стоппард Т., Стоппард Том, Стоппард, Томаш Шт...\n",
      "  claims: <dict(101)> P106, P244, P214, P227, P213, P373, P345, P3...\n",
      "  description: британский драматург, режиссёр, киносценарист и критик\n",
      "  image: <list(1)> {'file': 'File:Tom Stoppard 1.jpg', 'kind': 'wi...\n",
      "  label: Том Стоппард\n",
      "  labels: <dict(144)> P569, Q28389, Q6873434, P2168, P1816, P2519,...\n",
      "  modified: <dict(1)> wikidata\n",
      "  requests: <list(5)> wikidata, labels, labels, labels, imageinfo\n",
      "  title: Стоппард,_Том\n",
      "  what: человек\n",
      "  wikibase: Q294773\n",
      "  wikidata: <dict(93)> род занятий (P106), код LCNAF (P244), код V...\n",
      "  wikidata_pageid: 284737\n",
      "  wikidata_url: https://www.wikidata.org/wiki/Q294773\n",
      "}\n",
      "www.wikidata.org (wikidata) Удельное ведомство\n"
     ]
    },
    {
     "name": "stderr",
     "output_type": "stream",
     "text": [
      "Note: Wikidata item Q4469368 missing 'instance of' (P31)\n",
      "Удельное ведомство (ru) data\n",
      "{\n",
      "  aliases: <list(2)> Министерство уделов Российской империи, Удель...\n",
      "  claims: <dict(0)> \n",
      "  label: Удельное ведомство\n",
      "  labels: <dict(0)> \n",
      "  modified: <dict(1)> wikidata\n",
      "  requests: <list(1)> wikidata\n",
      "  title: Удельное_ведомство\n",
      "  wikibase: Q4469368\n",
      "  wikidata: <dict(0)> \n",
      "  wikidata_pageid: 4267094\n",
      "  wikidata_url: https://www.wikidata.org/wiki/Q4469368\n",
      "}\n",
      "www.wikidata.org (wikidata) Удельное ведомство\n",
      "Note: Wikidata item Q4469368 missing 'instance of' (P31)\n",
      "Удельное ведомство (ru) data\n",
      "{\n",
      "  aliases: <list(2)> Министерство уделов Российской империи, Удель...\n",
      "  claims: <dict(0)> \n",
      "  label: Удельное ведомство\n",
      "  labels: <dict(0)> \n",
      "  modified: <dict(1)> wikidata\n",
      "  requests: <list(1)> wikidata\n",
      "  title: Удельное_ведомство\n",
      "  wikibase: Q4469368\n",
      "  wikidata: <dict(0)> \n",
      "  wikidata_pageid: 4267094\n",
      "  wikidata_url: https://www.wikidata.org/wiki/Q4469368\n",
      "}\n",
      "www.wikidata.org (wikidata) Коммерсантъ\n",
      "www.wikidata.org (labels) P127|P373|Q159|P1114|P126|P159|Q4229784...\n",
      "Коммерсантъ (ru) data\n",
      "{\n",
      "  aliases: <list(11)> КоммерсантЪ, Коммерсантъ Деньги, Kommersant....\n",
      "  claims: <dict(15)> P373, P646, P236, P856, P31, P154, P127, P123...\n",
      "  description: российская ежедневная общественно-политическая газета\n",
      "  label: Коммерсантъ\n",
      "  labels: <dict(21)> P127, P373, Q159, P1114, P126, P159, Q4229784...\n",
      "  modified: <dict(1)> wikidata\n",
      "  requests: <list(2)> wikidata, labels\n",
      "  title: Коммерсантъ\n",
      "  what: ежедневная газета\n",
      "  wikibase: Q1780189\n",
      "  wikidata: <dict(15)> категория на Викискладе (P373), код Freebas...\n",
      "  wikidata_pageid: 1712078\n",
      "  wikidata_url: https://www.wikidata.org/wiki/Q1780189\n",
      "}\n",
      "www.wikidata.org (wikidata) Коммерсантъ\n",
      "www.wikidata.org (labels) P127|P373|Q159|P1114|P126|P159|Q4229784...\n",
      "Коммерсантъ (ru) data\n",
      "{\n",
      "  aliases: <list(11)> КоммерсантЪ, Коммерсантъ Деньги, Kommersant....\n",
      "  claims: <dict(15)> P373, P646, P236, P856, P31, P154, P127, P123...\n",
      "  description: российская ежедневная общественно-политическая газета\n",
      "  label: Коммерсантъ\n",
      "  labels: <dict(21)> P127, P373, Q159, P1114, P126, P159, Q4229784...\n",
      "  modified: <dict(1)> wikidata\n",
      "  requests: <list(2)> wikidata, labels\n",
      "  title: Коммерсантъ\n",
      "  what: ежедневная газета\n",
      "  wikibase: Q1780189\n",
      "  wikidata: <dict(15)> категория на Викискладе (P373), код Freebas...\n",
      "  wikidata_pageid: 1712078\n",
      "  wikidata_url: https://www.wikidata.org/wiki/Q1780189\n",
      "}\n",
      "www.wikidata.org (wikidata) Население Адыгеи\n",
      "Note: Wikidata item Q4313631 missing 'instance of' (P31)\n",
      "Население Адыгеи (ru) data\n",
      "{\n",
      "  claims: <dict(0)> \n",
      "  label: Население Адыгеи\n",
      "  labels: <dict(0)> \n",
      "  modified: <dict(1)> wikidata\n",
      "  requests: <list(1)> wikidata\n",
      "  title: Население_Адыгеи\n",
      "  wikibase: Q4313631\n",
      "  wikidata: <dict(0)> \n",
      "  wikidata_pageid: 4123085\n",
      "  wikidata_url: https://www.wikidata.org/wiki/Q4313631\n",
      "}\n",
      "www.wikidata.org (wikidata) Население Адыгеи\n",
      "Note: Wikidata item Q4313631 missing 'instance of' (P31)\n",
      "Население Адыгеи (ru) data\n",
      "{\n",
      "  claims: <dict(0)> \n",
      "  label: Население Адыгеи\n",
      "  labels: <dict(0)> \n",
      "  modified: <dict(1)> wikidata\n",
      "  requests: <list(1)> wikidata\n",
      "  title: Население_Адыгеи\n",
      "  wikibase: Q4313631\n",
      "  wikidata: <dict(0)> \n",
      "  wikidata_pageid: 4123085\n",
      "  wikidata_url: https://www.wikidata.org/wiki/Q4313631\n",
      "}\n",
      "www.wikidata.org (wikidata) Тифлисские ведомости\n",
      "www.wikidata.org (labels) P571|Q7737|Q11032|P31|P18|P407\n",
      "ru.wikipedia.org (imageinfo) File:Тифлисские ведомости. № 34, 1829.jpg\n",
      "Тифлисские ведомости (ru) data\n",
      "{\n",
      "  claims: <dict(4)> P31, P407, P18, P571\n",
      "  image: <list(1)> {'file': 'File:Тифлисские ведомости. № 34, 1829...\n",
      "  label: Тифлисские ведомости\n",
      "  labels: <dict(6)> P571, Q7737, Q11032, P31, P18, P407\n",
      "  modified: <dict(1)> wikidata\n",
      "  requests: <list(3)> wikidata, labels, imageinfo\n",
      "  title: Тифлисские_ведомости\n",
      "  what: газета\n",
      "  wikibase: Q28666636\n",
      "  wikidata: <dict(4)> это частный случай понятия (P31), язык произ...\n",
      "  wikidata_pageid: 30326250\n",
      "  wikidata_url: https://www.wikidata.org/wiki/Q28666636\n",
      "}\n",
      "www.wikidata.org (wikidata) Тифлисские ведомости\n",
      "www.wikidata.org (labels) P571|Q7737|Q11032|P31|P18|P407\n",
      "ru.wikipedia.org (imageinfo) File:Тифлисские ведомости. № 34, 1829.jpg\n",
      "Тифлисские ведомости (ru) data\n",
      "{\n",
      "  claims: <dict(4)> P31, P407, P18, P571\n",
      "  image: <list(1)> {'file': 'File:Тифлисские ведомости. № 34, 1829...\n",
      "  label: Тифлисские ведомости\n",
      "  labels: <dict(6)> P571, Q7737, Q11032, P31, P18, P407\n",
      "  modified: <dict(1)> wikidata\n",
      "  requests: <list(3)> wikidata, labels, imageinfo\n",
      "  title: Тифлисские_ведомости\n",
      "  what: газета\n",
      "  wikibase: Q28666636\n",
      "  wikidata: <dict(4)> это частный случай понятия (P31), язык произ...\n",
      "  wikidata_pageid: 30326250\n",
      "  wikidata_url: https://www.wikidata.org/wiki/Q28666636\n",
      "}\n",
      "www.wikidata.org (wikidata) Волконский, Иван Фёдорович Лось\n",
      "www.wikidata.org (labels) Q21104340|P21|Q186096|Q5|P106|P27|P31|Q...\n",
      "Волконский, Иван Фёдорович Лось (ru) data\n",
      "{\n",
      "  aliases: <list(1)> Иван Фёдорович Лось Волконский\n",
      "  claims: <dict(6)> P31, P21, P27, P570, P106, P735\n",
      "  label: Волконский, Иван Фёдорович Лось\n",
      "  labels: <dict(11)> Q21104340, P21, Q186096, Q5, P106, P27, P31, ...\n",
      "  modified: <dict(1)> wikidata\n",
      "  requests: <list(2)> wikidata, labels\n",
      "  title: Волконский,_Иван_Фёдорович_Лось\n",
      "  what: человек\n",
      "  wikibase: Q16631432\n",
      "  wikidata: <dict(6)> это частный случай понятия (P31), пол или ге...\n",
      "  wikidata_pageid: 18240569\n",
      "  wikidata_url: https://www.wikidata.org/wiki/Q16631432\n",
      "}\n",
      "www.wikidata.org (wikidata) Волконский, Иван Фёдорович Лось\n",
      "www.wikidata.org (labels) Q21104340|P21|Q186096|Q5|P106|P27|P31|Q...\n",
      "Волконский, Иван Фёдорович Лось (ru) data\n",
      "{\n",
      "  aliases: <list(1)> Иван Фёдорович Лось Волконский\n",
      "  claims: <dict(6)> P31, P21, P27, P570, P106, P735\n",
      "  label: Волконский, Иван Фёдорович Лось\n",
      "  labels: <dict(11)> Q21104340, P21, Q186096, Q5, P106, P27, P31, ...\n",
      "  modified: <dict(1)> wikidata\n",
      "  requests: <list(2)> wikidata, labels\n",
      "  title: Волконский,_Иван_Фёдорович_Лось\n",
      "  what: человек\n",
      "  wikibase: Q16631432\n",
      "  wikidata: <dict(6)> это частный случай понятия (P31), пол или ге...\n",
      "  wikidata_pageid: 18240569\n",
      "  wikidata_url: https://www.wikidata.org/wiki/Q16631432\n",
      "}\n",
      "www.wikidata.org (wikidata) Зойкина квартира\n",
      "www.wikidata.org (labels) P50|P571|P953|Q835|P577|Q7737|P1219|P14...\n"
     ]
    }
   ],
   "source": [
    "#  collect keys and wikidata and other wiki data\n",
    "# заводить частями и сохранять частями\n",
    "\n",
    "from tqdm import tnrange, tqdm_notebook # might work\n",
    "from time import sleep\n",
    "import os\n",
    "from datetime import datetime\n",
    "\n",
    "count = 0\n",
    "\n",
    "\n",
    "dirName = 'Processed_new_90000'\n",
    "if not os.path.exists(dirName):\n",
    "    os.mkdir(dirName)\n",
    "    print(\"Directory \" , dirName ,  \" Created \")\n",
    "else:    \n",
    "    print(\"Directory \" , dirName ,  \" already exists\")\n",
    "    \n",
    "\n",
    "for j in tqdm_notebook(batch(part1,30), desc='a loop'):\n",
    "    info = []\n",
    "    errors = []\n",
    "    for i in j:\n",
    "        info.append(get_info(i))\n",
    "        \n",
    "    name = datetime.utcnow().strftime('%Y-%m-%d %H_%M_%S.%f')[:-3]\n",
    "    filename = \"Processed_new_90000/%s.json\"%name\n",
    "    with open(filename, \"w\", encoding=\"utf-8\") as f:\n",
    "        json.dump(info, f, ensure_ascii=False, indent=4)\n",
    "    sleep(0.1)"
   ]
  },
  {
   "cell_type": "code",
   "execution_count": 41,
   "metadata": {},
   "outputs": [
    {
     "data": {
      "text/plain": [
       "20"
      ]
     },
     "execution_count": 41,
     "metadata": {},
     "output_type": "execute_result"
    }
   ],
   "source": [
    "len(info)"
   ]
  },
  {
   "cell_type": "code",
   "execution_count": 70,
   "metadata": {
    "scrolled": false
   },
   "outputs": [
    {
     "data": {
      "text/plain": [
       "[{'ent': 'Приволжский военный округ',\n",
       "  'wikibase': 'Q4377891',\n",
       "  'what': 'военный округ',\n",
       "  'wikidata': {'государство (P17)': 'Россия (Q159)',\n",
       "   'изображение (P18)': 'Приволжский военный округ.jpg',\n",
       "   'часть от (P361)': 'Министерство обороны Российской Федерации (Q1146492)',\n",
       "   'это частный случай понятия (P31)': 'военный округ (Q580112)',\n",
       "   'полученные награды (P166)': 'орден Красного Знамени (Q337463)',\n",
       "   'дата основания/создания/возникновения (P571)': '+1918-05-04T00:00:00Z',\n",
       "   'дата прекращения существования (P576)': '+2001-11-30T00:00:00Z'},\n",
       "  'aliases': ['ПриВО'],\n",
       "  'claims': {'P17': ['Q159'],\n",
       "   'P18': ['Приволжский военный округ.jpg'],\n",
       "   'P361': ['Q1146492'],\n",
       "   'P31': ['Q580112'],\n",
       "   'P166': ['Q337463'],\n",
       "   'P571': ['+1918-05-04T00:00:00Z'],\n",
       "   'P576': ['+2001-11-30T00:00:00Z']},\n",
       "  'description': None,\n",
       "  'label': 'Приволжский военный округ'},\n",
       " {'ent': 'История Смоленска',\n",
       "  'wikibase': 'Q20982807',\n",
       "  'what': 'хронология',\n",
       "  'wikidata': {'это частный случай понятия (P31)': 'хронология (Q186117)',\n",
       "   'основная категория по теме (P910)': 'Категория:История Смоленска (Q7778098)',\n",
       "   'категория на Викискладе (P373)': 'Smolensk'},\n",
       "  'claims': {'P31': ['Q186117'], 'P910': ['Q7778098'], 'P373': ['Smolensk']},\n",
       "  'description': None,\n",
       "  'label': 'история Смоленска'}]"
      ]
     },
     "execution_count": 70,
     "metadata": {},
     "output_type": "execute_result"
    }
   ],
   "source": [
    "info"
   ]
  },
  {
   "cell_type": "markdown",
   "metadata": {},
   "source": [
    "## Get texts"
   ]
  },
  {
   "cell_type": "code",
   "execution_count": 1,
   "metadata": {},
   "outputs": [],
   "source": [
    "import wikipedia\n",
    "import wikipediaapi\n",
    "\n",
    "\n",
    "def init_api():\n",
    "    wikipedia.set_lang(\"ru\")\n",
    "    wiki_api = wikipediaapi.Wikipedia(\"ru\")\n",
    "    \n",
    "    return wiki_api\n",
    "\n",
    "wiki_api = init_api()"
   ]
  },
  {
   "cell_type": "code",
   "execution_count": null,
   "metadata": {},
   "outputs": [],
   "source": []
  },
  {
   "cell_type": "code",
   "execution_count": 7,
   "metadata": {},
   "outputs": [],
   "source": [
    "import wptools\n",
    "\n",
    "def get_info(ent, dirname):\n",
    "    try:\n",
    "        page_Title = wikipedia.page(ent)\n",
    "        title = page_Title.title\n",
    "        wiki_content = wikipedia.page(title).content\n",
    "        \n",
    "        info_d = {}\n",
    "        info_d.update({'ent':ent})\n",
    "        \n",
    "        wiki_ent = wptools.page(title, lang='ru').get_wikidata()\n",
    "        infotype = ['wikibase', 'what','wikidata', 'aliases', 'claims', 'description', 'label']\n",
    "        \n",
    "        for t in infotype:\n",
    "            try:\n",
    "                inf = wiki_ent.data[t]\n",
    "                info_d.update({t:inf})\n",
    "            except(KeyError):\n",
    "                continue\n",
    "                \n",
    "        info_d.update({'w_title':title})\n",
    "        info_d.update({'content':wiki_content})\n",
    "        \n",
    "        if ent != title:\n",
    "            \n",
    "            with open(os.path.join(path, '') + 'not_ent.txt', \"a\", encoding=\"utf-8\") as f:\n",
    "                json.dump(ent + '\\t' + title + '\\n', f, ensure_ascii=False, indent=4)\n",
    "        \n",
    "#         wiki_ent = wptools.page(ent, lang='ru').get_wikidata()\n",
    "#         name = ent\n",
    "#         filename = \"Texts_30/%s.json\"%name\n",
    "        path = \"./\" + dirname + \"/\"\n",
    "#         with open(os.path.join(path, '') + ent + '.txt', \"w\", encoding=\"utf-8\") as f:\n",
    "#             f.write(wiki_content)\n",
    "        with open(os.path.join(path, '') + ent + '.json', \"w\", encoding=\"utf-8\") as f:\n",
    "            json.dump(info_d, f, ensure_ascii=False, indent=4)\n",
    "    \n",
    "#         return info_d\n",
    "    except:#(PageError,LookupError,ValueError):\n",
    "        path = \"./\" + dirname + \"/\"\n",
    "        with open(os.path.join(path, '') + 'not_found.txt', \"a\", encoding=\"utf-8\") as f:\n",
    "            json.dump(ent + '\\n', f, ensure_ascii=False, indent=4)\n"
   ]
  },
  {
   "cell_type": "code",
   "execution_count": 8,
   "metadata": {},
   "outputs": [],
   "source": [
    "def batch(iterable, n=1):\n",
    "    l = len(iterable)\n",
    "    for ndx in range(0, l, n):\n",
    "        yield iterable[ndx:min(ndx + n, l)]\n",
    "\n",
    "# for x in batch(range(0, 10), 3):\n",
    "#     print(x)"
   ]
  },
  {
   "cell_type": "code",
   "execution_count": 9,
   "metadata": {},
   "outputs": [],
   "source": [
    "# jhg = wikipedia.page(\"Мамай\").content"
   ]
  },
  {
   "cell_type": "code",
   "execution_count": 10,
   "metadata": {},
   "outputs": [],
   "source": [
    "import json\n",
    "\n",
    "h = json.load(open(\"man_ent_list_30.json\", \"r\", encoding=\"utf-8\"))"
   ]
  },
  {
   "cell_type": "code",
   "execution_count": 11,
   "metadata": {},
   "outputs": [],
   "source": [
    "part1 = h[307:15000] # 0-15 later"
   ]
  },
  {
   "cell_type": "code",
   "execution_count": null,
   "metadata": {},
   "outputs": [
    {
     "name": "stdout",
     "output_type": "stream",
     "text": [
      "Directory  Texts_30  already exists\n"
     ]
    },
    {
     "data": {
      "application/vnd.jupyter.widget-view+json": {
       "model_id": "2f0f1291b6dc4afea14dfbae923f8c7e",
       "version_major": 2,
       "version_minor": 0
      },
      "text/plain": [
       "HBox(children=(IntProgress(value=1, bar_style='info', description='a loop', max=1, style=ProgressStyle(descrip…"
      ]
     },
     "metadata": {},
     "output_type": "display_data"
    },
    {
     "name": "stderr",
     "output_type": "stream",
     "text": [
      "www.wikidata.org (wikidata) Группа армий «Север»\n",
      "www.wikidata.org (labels) P17|P910|Q6254083|P571|P31|P576|Q208109...\n",
      "Группа армий «Север» (ru) data\n",
      "{\n",
      "  aliases: <list(2)> Группа армий \"Север\", Север\n",
      "  claims: <dict(10)> P155, P31, P646, P571, P576, P361, P910, P373...\n",
      "  description: объединение войск вермахта во Второй мировой войне\n",
      "  label: Группа армий «Север»\n",
      "  labels: <dict(16)> P17, P910, Q6254083, P571, P31, P576, Q208109...\n",
      "  modified: <dict(1)> wikidata\n",
      "  requests: <list(2)> wikidata, labels\n",
      "  title: Группа_армий_«Север»\n",
      "  what: группа армий\n",
      "  wikibase: Q163084\n",
      "  wikidata: <dict(9)> предыдущее по порядку (P155), это частный сл...\n",
      "  wikidata_pageid: 163877\n",
      "  wikidata_url: https://www.wikidata.org/wiki/Q163084\n",
      "}\n",
      "www.wikidata.org (wikidata) Филатов, Леонид Алексеевич\n",
      "www.wikidata.org (labels) P2019|P214|Q5|P950|P910|P569|P463|P2387...\n",
      "www.wikidata.org (labels) Q281859|P106|Q900|Q4453555|P2163|Q7737|...\n",
      "Филатов, Леонид Алексеевич (ru) data\n",
      "{\n",
      "  aliases: <list(1)> Филатов, Леонид Алексеевич\n",
      "  claims: <dict(49)> P214, P213, P434, P345, P31, P19, P569, P570,...\n",
      "  description: советский и российский актёр, режиссёр, поэт, публицист\n",
      "  label: Леонид Алексеевич Филатов\n",
      "  labels: <dict(73)> P2019, P214, Q5, P950, P910, P569, P463, P238...\n",
      "  modified: <dict(1)> wikidata\n",
      "  requests: <list(3)> wikidata, labels, labels\n",
      "  title: Филатов,_Леонид_Алексеевич\n",
      "  what: человек\n",
      "  wikibase: Q782176\n",
      "  wikidata: <dict(49)> код VIAF (P214), код ISNI (P213), код испол...\n",
      "  wikidata_pageid: 735191\n",
      "  wikidata_url: https://www.wikidata.org/wiki/Q782176\n",
      "}\n",
      "www.wikidata.org (wikidata) Сталинская премия\n",
      "www.wikidata.org (labels) P138|P17|P910|P18|P571|Q855|P495|Q75886...\n",
      "ru.wikipedia.org (imageinfo) File:Stalin Medal.png\n",
      "Сталинская премия (ru) data\n",
      "{\n",
      "  aliases: <list(1)> Сталинская премия СССР\n",
      "  claims: <dict(13)> P18, P571, P373, P646, P582, P156, P31, P138,...\n",
      "  description: <str(140)> высшая государственная премия СССР за вы...\n",
      "  image: <list(1)> {'file': 'File:Stalin Medal.png', 'kind': 'wiki...\n",
      "  label: Сталинская премия\n",
      "  labels: <dict(19)> P138, P17, P910, P18, P571, Q855, P495, Q7588...\n",
      "  modified: <dict(1)> wikidata\n",
      "  requests: <list(3)> wikidata, labels, imageinfo\n",
      "  title: Сталинская_премия\n",
      "  what: награда\n",
      "  wikibase: Q2329480\n",
      "  wikidata: <dict(13)> изображение (P18), дата основания/создания/...\n",
      "  wikidata_pageid: 2250392\n",
      "  wikidata_url: https://www.wikidata.org/wiki/Q2329480\n",
      "}\n"
     ]
    }
   ],
   "source": [
    "# collect wiki texts to separate files\n",
    "\n",
    "from tqdm import tnrange, tqdm_notebook # might work\n",
    "from time import sleep\n",
    "import os\n",
    "from datetime import datetime\n",
    "\n",
    "# count = 0\n",
    "\n",
    "\n",
    "dirName = 'Texts_30'\n",
    "if not os.path.exists(dirName):\n",
    "    os.mkdir(dirName)\n",
    "    print(\"Directory \" , dirName ,  \" Created \")\n",
    "else:    \n",
    "    print(\"Directory \" , dirName ,  \" already exists\")\n",
    "    \n",
    "# count = 0\n",
    "    \n",
    "for j in tqdm_notebook(batch(part1,30), desc='a loop'):\n",
    "#     info = []\n",
    "#     count +=30\n",
    "#     print(count)\n",
    "#     errors = []\n",
    "    for i in j:\n",
    "        get_info(i, dirName)\n",
    "        \n",
    "#         name = i\n",
    "#         filename = \"Texts_30/%s.json\"%name\n",
    "#         with open(filename, \"w\", encoding=\"utf-8\") as f:\n",
    "#             f.write(info)\n",
    "        sleep(0.01)"
   ]
  },
  {
   "cell_type": "code",
   "execution_count": null,
   "metadata": {},
   "outputs": [],
   "source": [
    "# collect all small files \n",
    "\n",
    "import os\n",
    "\n",
    "import os\n",
    "\n",
    "os.chdir(\"links\")\n",
    "\n",
    "direc = os.getcwd() # Get current working directory\n",
    "ext = '.json' # Select your file delimiter\n",
    "\n",
    "# Select only files with the ext extension\n",
    "txt_files = [i for i in os.listdir(direc) if os.path.splitext(i)[1] == ext]"
   ]
  },
  {
   "cell_type": "code",
   "execution_count": null,
   "metadata": {},
   "outputs": [],
   "source": [
    "# collect all small files into one dict\n",
    "import json\n",
    "\n",
    "\n",
    "big_dict = {} # Create an empty dict, \n",
    "\n",
    "# Iterate over your txt files\n",
    "for f in txt_files:\n",
    "    # Open them and assign k and v in them to big_dict\n",
    "    with open(os.path.join(direc,f), 'r') as file_object:\n",
    "        for key, value in json.load(file_object).items():\n",
    "            big_dict[key] = value\n",
    "\n",
    "# Iterate over your dict and print the key/val pairs.\n",
    "# for i in big_dict:\n",
    "#     print i, file_dict[i]\n",
    "\n",
    "\n",
    "# import json\n",
    "\n",
    "# with open('SN_5056.json', 'r') as f:\n",
    "#     datastore = json.load(f)"
   ]
  },
  {
   "cell_type": "code",
   "execution_count": 126,
   "metadata": {},
   "outputs": [],
   "source": [
    "with open('filename.txt', 'w', encoding=\"utf-8\") as myfile:\n",
    "    myfile.write(jhg)"
   ]
  },
  {
   "cell_type": "code",
   "execution_count": null,
   "metadata": {},
   "outputs": [],
   "source": []
  },
  {
   "cell_type": "code",
   "execution_count": 6,
   "metadata": {},
   "outputs": [],
   "source": [
    "import json\n",
    "\n",
    "h = json.load(open(\"ege_emp_date_not_date.json\", \"r\", encoding=\"utf-8\"))"
   ]
  },
  {
   "cell_type": "code",
   "execution_count": 20,
   "metadata": {},
   "outputs": [
    {
     "data": {
      "text/plain": [
       "1030"
      ]
     },
     "execution_count": 20,
     "metadata": {},
     "output_type": "execute_result"
    }
   ],
   "source": [
    "len(h['emp'])"
   ]
  },
  {
   "cell_type": "code",
   "execution_count": 10,
   "metadata": {},
   "outputs": [
    {
     "data": {
      "text/plain": [
       "['поместные дворяне',\n",
       " 'право получать оброк с крестьян',\n",
       " 'Дворяне (чин)',\n",
       " 'Q4156092',\n",
       " 'key',\n",
       " 'Оброк',\n",
       " 'Q2371870',\n",
       " 'категориями населения в начале XIX  <век> и их правами, обязанностями']"
      ]
     },
     "execution_count": 10,
     "metadata": {},
     "output_type": "execute_result"
    }
   ],
   "source": [
    "h['emp'][0]"
   ]
  },
  {
   "cell_type": "code",
   "execution_count": 27,
   "metadata": {},
   "outputs": [],
   "source": [
    "hd = json.load(open(\"ege_with_expected_date.json\", \"r\", encoding=\"utf-8\"))"
   ]
  },
  {
   "cell_type": "code",
   "execution_count": 29,
   "metadata": {},
   "outputs": [],
   "source": [
    "hd0 = [di[0] for di in hd]"
   ]
  },
  {
   "cell_type": "code",
   "execution_count": 30,
   "metadata": {},
   "outputs": [],
   "source": [
    "hd1 = [di[1] for di in hd]"
   ]
  },
  {
   "cell_type": "code",
   "execution_count": 31,
   "metadata": {},
   "outputs": [],
   "source": [
    "hnd = json.load(open(\"ege_with_expected_not_date.json\", \"r\", encoding=\"utf-8\"))"
   ]
  },
  {
   "cell_type": "code",
   "execution_count": 32,
   "metadata": {},
   "outputs": [],
   "source": [
    "hnd0 = [di[0] for di in hnd]"
   ]
  },
  {
   "cell_type": "code",
   "execution_count": 33,
   "metadata": {},
   "outputs": [],
   "source": [
    "hnd1 = [di[1] for di in hnd]"
   ]
  },
  {
   "cell_type": "code",
   "execution_count": 35,
   "metadata": {},
   "outputs": [],
   "source": [
    "not_f = []\n",
    "\n",
    "for di in h['emp']:\n",
    "    if (di[0] in hd0 and di[1] in hd1 )\\\n",
    "    or (di[0] in hnd0 and di[1] in hnd1):\n",
    "        continue\n",
    "    else:\n",
    "        not_f.append(di)\n",
    "        \n",
    "        \n",
    "        "
   ]
  },
  {
   "cell_type": "code",
   "execution_count": 36,
   "metadata": {},
   "outputs": [
    {
     "data": {
      "text/plain": [
       "518"
      ]
     },
     "execution_count": 36,
     "metadata": {},
     "output_type": "execute_result"
    }
   ],
   "source": [
    "len(not_f)"
   ]
  },
  {
   "cell_type": "code",
   "execution_count": 41,
   "metadata": {},
   "outputs": [],
   "source": [
    "nfr = [di[-1] for di in not_f]\n",
    "bb=dict(zip(nfr,[nfr.count(i) for i in nfr]))\n",
    "# print(bb)"
   ]
  },
  {
   "cell_type": "code",
   "execution_count": 43,
   "metadata": {},
   "outputs": [],
   "source": [
    "bb=dict(zip(nfr,[nfr.count(i) for i in nfr]))\n",
    "# print(bb)"
   ]
  },
  {
   "cell_type": "code",
   "execution_count": 44,
   "metadata": {},
   "outputs": [
    {
     "name": "stdout",
     "output_type": "stream",
     "text": [
      "категориями населения в начале XIX  <век> и их правами, обязанностями : 4\n",
      "фамилиями отечественных деятелей культуры и науки и их произведениями и достижениями : 4\n",
      " : 33\n",
      "флотоводцами и военными событиями : 4\n",
      "терминами и их определениями : 6\n",
      "определениями и понятиями : 20\n",
      "фамилиями политических деятелей и их деятельностью : 4\n",
      "фамилиями деятелей культуры и науки 1920—1930-х гг и сферами их деятельности : 4\n",
      "партиями и их лидерами : 4\n",
      "процессами (явлениями, событиями) и фактами, ‘относящимися к этим процессам (явлениям, событиям) : 3\n",
      "литературными произведениями и их краткими характеристиками : 4\n",
      "названиями политических партий и фамилиями их руководящих деятелей весной — летом 1917 г : 4\n",
      "памятниками архитектуры и их характеристиками : 10\n",
      "историческими деятелями и фактами их биографий : 4\n",
      "фамилиями советских руководителей и их должностями в годы Гражданской войны : 3\n",
      "фамилиями военачальников и их деятельностью в период Гражданской войны : 7\n",
      "событиями и участниками этих событий : 11\n",
      "реформами и фамилиями руководителей СССР, в период правления которых эти реформы были проведены : 8\n",
      "названиями населённых пунктов и событиями древнерусской истории, с ними связанными : 4\n",
      "сражениями и войнами : 4\n",
      "советскими партийными и государственными деятелями и занимаемыми ими в 1940 1950 х гг постами, ролью в политической жизни страны : 3\n",
      "именами исторических личностей и родом их деятельности : 3\n",
      "произведениями культуры и их создателями (авторами) : 9\n",
      "именами исторических лиц и сферами их деятельности : 4\n",
      "деятелями культуры и краткими характеристиками их деятельности : 4\n",
      "историческими лицами и их современниками : 3\n",
      "партийно-государственными руководителями и историческими событиями : 5\n",
      "участниками событий военной истории и этими событиями : 5\n",
      "фамилиями руководителей СССР и историческими событиями (явлениями) : 4\n",
      "событиями и их участниками : 52\n",
      "историческими деятелями и событиями : 8\n",
      "фамилиями деятелей науки и областями знаний, в которых они себя проявили : 3\n",
      "государственными деятелями и должностями, которые они занимали : 4\n",
      "фамилиями военачальников и их деятельностью : 11\n",
      "памятниками культуры и их краткими характеристиками : 1\n",
      "событиями (явлениями, процессами) и их участниками : 4\n",
      "историческими деятелями и событиями, непосредственно связанными с ними : 3\n",
      "советскими партийными и государственными деятелями и занимаемыми ими в 1940-х гг постами, ролью в политике : 5\n",
      "награждениями войн и военачальниками : 3\n",
      "жанрами древнерусской литературы и относящимися к ним произведениями : 4\n",
      "именами современников СОВРЕМЕННИКИ СОВРЕМЕННИКИ А) Иван III Б) Василий Тёмный В) Дмитрий Донской Г) Иван IV 1) хан Батый2) Марфа Борецкая3) Сергий Радонежский4) Василий Косой5) Елена Глинская Запишите в ответ цифры, расположив их в порядке, соответствующем буквам : 4\n",
      "аббревиатурами органов государственной власти 1918—1930-х гг и их определениями : 5\n",
      "деятелями культуры и произведениями, в создании которых они принимали участие : 4\n",
      "памятниками культуры и их характеристиками : 8\n",
      "терминами, понятиями и именами правителей, с чьим царствованием связано их появление : 4\n",
      "памятниками (произведениями) культуры и их характеристиками : 4\n",
      "названиями течений общественного движения в России XIX  <век> и фамилиями их лидеров : 4\n",
      "именами учёных и сферой их деятельности : 2\n",
      "именами деятелей культуры и фактами их биографии : 4\n",
      "участниками Гражданской войны в России и их деятельностью : 4\n",
      "фамилиями советских государственных и партийных деятелей и их ролью в событиях 1920–1930-х гг : 3\n",
      "научными открытиями, достижениями и историческими деятелями, которым они принадлежат : 5\n",
      "фамилиями государственных деятелей и историческими событиями : 4\n",
      "именами современников : 11\n",
      "именами деятелей культуры XIX — начала ХХ вв : 3\n",
      "общественными силами» течениями и позициями, ими защищаемыми : 4\n",
      "описанием, характерными чертами, особенностями событий Великой Отечественной войны 1941−1945 гг и названиями событий : 4\n",
      "фамилиями деятелей российской культуры XVII—XVIII вв : 4\n",
      "фамилиями отечественных деятелей культуры второй половины XX  <век> — начала XXI  <век> и сферами их творчества : 4\n",
      "понятиями, терминами и их определениями : 4\n",
      "государственными деятелями и историческими событиями : 6\n",
      "фамилиями участников общественного движения XIX  <век> и их принадлежностью к течениям общественной мысли : 4\n",
      "историческими личностями XVIII—XIX вв : 4\n",
      "советскими государственными деятелями и их деятельностью : 4\n",
      "историческими личностями и их деятельностью : 8\n",
      "именами исторических личностей и их деятельностью : 5\n",
      "событиями и годами : 5\n",
      "фамилиями русских ученых и отраслями науки, которыми они занимались : 3\n",
      "войнами, которые вела Россия в XIX  <век> и их результатами : 4\n",
      "деятелями культуры и, науки России XIX  <век> и сферами их деятельности : 4\n",
      "названиями войн и сражениями, происходившими во время этих войн : 4\n",
      "фамилиями представителей культуры и сферами их деятельности : 4\n",
      "деятелями культуры и сферой их творческой деятельности : 4\n",
      "органами государственной власти и их функциями : 6\n",
      "историческими лицами и родом их деятельности : 4\n",
      "именами князей и событиями, связанными с их деятельностью : 4\n",
      "военными конфликтами и событиями, которые к ним относятся : 4\n",
      "памятниками культуры и их авторами : 4\n",
      "фамилиями архитекторов и их сооружениями : 4\n",
      "терминами и временем их появления : 7\n",
      "именами деятелей науки и областями знания : 4\n",
      "названиями произведений и их авторами : 2\n",
      "правителями Российского государства и их современниками : 4\n",
      "политическими партиями начала XX  <век> и политическими направлениями, к которым эти партии относились : 4\n",
      "историческими личностями и их современниками : 2\n",
      "историческими лицами и родом их деятельности, фактами биографий : 4\n",
      "фамилиями государственных деятелей СССР и РФ и их деятельностью : 4\n",
      "событиями отечественной истории и фамилиями лидеров СССР, в период руководства которых эти события произошли : 4\n",
      "именами князей Древней Руси и прозваниями, закрепившимися за ними в истории : 1\n",
      "аббревиатурами, обозначающими названия советских государственных органов и общественных организаций, и их функциями : 2\n",
      "именами деятелей российской истории и их деятельностью : 3\n",
      "деятелями культуры и краткой характеристикой их деятельности : 2\n",
      "государственными деятелями начала XX  <век> и их деятельностью : 3\n",
      "политическими деятелями и историческими событиями : 4\n",
      "событиями отечественной истории и фамилиями руководителей СССР, в период управления которых эти события произошли : 2\n",
      "событиями (процессами, явлениями) и их участниками : 4\n",
      "фамилиями государственных деятелей и историческими событиями ФАМИЛИИ ГОСУДАРСТВЕННЫХ ДЕЯТЕЛЕЙ ИСТОРИЧЕСКИЕ СОБЫТИЯА) Александр III Б) А : 3\n",
      "общественными движениями, направлениями общественной мысли и позициями, идеями, ими защищаемыми : 1\n",
      "событиями культурной жизни и их участниками : 1\n"
     ]
    }
   ],
   "source": [
    "for key, value in bb.items():\n",
    "    print(key, \":\", value)"
   ]
  },
  {
   "cell_type": "code",
   "execution_count": 38,
   "metadata": {},
   "outputs": [],
   "source": [
    "import json\n",
    "\n",
    "with open(\"ege_rel_not_found.json\", \"w\", encoding=\"utf-8\") as f:\n",
    "        json.dump(not_f, f, ensure_ascii=False, indent=4)"
   ]
  },
  {
   "cell_type": "code",
   "execution_count": null,
   "metadata": {},
   "outputs": [],
   "source": []
  }
 ],
 "metadata": {
  "kernelspec": {
   "display_name": "Python 3",
   "language": "python",
   "name": "python3"
  },
  "language_info": {
   "codemirror_mode": {
    "name": "ipython",
    "version": 3
   },
   "file_extension": ".py",
   "mimetype": "text/x-python",
   "name": "python",
   "nbconvert_exporter": "python",
   "pygments_lexer": "ipython3",
   "version": "3.6.8"
  }
 },
 "nbformat": 4,
 "nbformat_minor": 2
}
