{
 "cells": [
  {
   "cell_type": "code",
   "execution_count": 1,
   "metadata": {},
   "outputs": [],
   "source": [
    "from sklearn.feature_extraction.text import *\n",
    "from sklearn.metrics import *\n",
    "from sklearn.pipeline import Pipeline\n",
    "from sklearn.naive_bayes import MultinomialNB\n",
    "from sklearn.linear_model import SGDClassifier, LogisticRegression\n",
    "from sklearn.ensemble import RandomForestClassifier\n",
    "import numpy as np #\n",
    "\n",
    "import matplotlib.pyplot as plt\n",
    "from sklearn.metrics import confusion_matrix\n",
    "import seaborn as sn\n",
    "\n",
    "from sklearn.svm import LinearSVC, SVC\n",
    "from sklearn.feature_extraction.text import TfidfVectorizer\n",
    "\n",
    "from sklearn.utils import shuffle #\n",
    "from sklearn.model_selection import train_test_split"
   ]
  },
  {
   "cell_type": "code",
   "execution_count": 324,
   "metadata": {},
   "outputs": [],
   "source": [
    "from sklearn.utils import shuffle\n",
    "from sklearn.model_selection import train_test_split\n",
    "\n",
    "data_train = shuffle(df)\n",
    "\n",
    "train, test = train_test_split(data_train, test_size=0.2)\n",
    "train_ = train.reset_index(drop=True)\n",
    "test_ = test.reset_index(drop=True)"
   ]
  },
  {
   "cell_type": "code",
   "execution_count": 391,
   "metadata": {},
   "outputs": [],
   "source": [
    "test_ = pd.DataFrame(h)\n",
    "# test_.to_csv('OPEN_test1810----.tsv', index=False, sep=\"\\t\")"
   ]
  },
  {
   "cell_type": "code",
   "execution_count": 344,
   "metadata": {},
   "outputs": [
    {
     "data": {
      "text/plain": [
       "1810"
      ]
     },
     "execution_count": 344,
     "metadata": {},
     "output_type": "execute_result"
    }
   ],
   "source": [
    "len(test_)"
   ]
  },
  {
   "cell_type": "code",
   "execution_count": 322,
   "metadata": {},
   "outputs": [],
   "source": [
    "# train_.to_csv('OPEN_train7443---.tsv', index=False, sep=\"\\t\")"
   ]
  },
  {
   "cell_type": "code",
   "execution_count": 408,
   "metadata": {},
   "outputs": [],
   "source": [
    "import pandas as pd\n",
    "\n",
    "train_ = pd.read_csv('OPEN_train7443.tsv',sep=\"\\t\")\n",
    "test_ = pd.read_csv('OPEN_test1810.tsv',sep=\"\\t\")"
   ]
  },
  {
   "cell_type": "code",
   "execution_count": 393,
   "metadata": {},
   "outputs": [
    {
     "data": {
      "text/html": [
       "<div>\n",
       "<style scoped>\n",
       "    .dataframe tbody tr th:only-of-type {\n",
       "        vertical-align: middle;\n",
       "    }\n",
       "\n",
       "    .dataframe tbody tr th {\n",
       "        vertical-align: top;\n",
       "    }\n",
       "\n",
       "    .dataframe thead th {\n",
       "        text-align: right;\n",
       "    }\n",
       "</style>\n",
       "<table border=\"1\" class=\"dataframe\">\n",
       "  <thead>\n",
       "    <tr style=\"text-align: right;\">\n",
       "      <th></th>\n",
       "      <th>Q</th>\n",
       "      <th>answer_dp</th>\n",
       "      <th>answer_open</th>\n",
       "      <th>atr</th>\n",
       "      <th>ent</th>\n",
       "      <th>open_q</th>\n",
       "      <th>rel</th>\n",
       "      <th>rel_r</th>\n",
       "      <th>type</th>\n",
       "      <th>what</th>\n",
       "    </tr>\n",
       "  </thead>\n",
       "  <tbody>\n",
       "    <tr>\n",
       "      <th>0</th>\n",
       "      <td>Q729846</td>\n",
       "      <td>['барокко']</td>\n",
       "      <td>Французская академия</td>\n",
       "      <td>Q161806</td>\n",
       "      <td>Вуатюр, Венсан</td>\n",
       "      <td>Членом какой организации был Венсан Вуатюр?</td>\n",
       "      <td>P463</td>\n",
       "      <td>участник организации или клуба (P463)</td>\n",
       "      <td>P463</td>\n",
       "      <td>человек</td>\n",
       "    </tr>\n",
       "    <tr>\n",
       "      <th>1</th>\n",
       "      <td>Q4236746</td>\n",
       "      <td>['15 января 1915 года']</td>\n",
       "      <td>1919</td>\n",
       "      <td>date</td>\n",
       "      <td>Кочетов, Александр Васильевич</td>\n",
       "      <td>Александр Васильевич Кочетов — год рождения?</td>\n",
       "      <td>P569</td>\n",
       "      <td>дата рождения (P569)</td>\n",
       "      <td>start</td>\n",
       "      <td>человек</td>\n",
       "    </tr>\n",
       "    <tr>\n",
       "      <th>2</th>\n",
       "      <td>Q4221780</td>\n",
       "      <td>['Указом Президиума Верховного Совета СССР']</td>\n",
       "      <td>генетик</td>\n",
       "      <td>Q3126128</td>\n",
       "      <td>Кирпичников, Валентин Сергеевич</td>\n",
       "      <td>Кем по профессии был Валентин Сергеевич Кирпич...</td>\n",
       "      <td>P106</td>\n",
       "      <td>род занятий (P106)</td>\n",
       "      <td>P106</td>\n",
       "      <td>человек</td>\n",
       "    </tr>\n",
       "    <tr>\n",
       "      <th>3</th>\n",
       "      <td>Q51094830</td>\n",
       "      <td>['Гражданской']</td>\n",
       "      <td>монгольское нашествие на Русь</td>\n",
       "      <td>Q1134220</td>\n",
       "      <td>Битва на реке Воронеж</td>\n",
       "      <td>Частью какой войны была Битва на реке Воронеж?</td>\n",
       "      <td>P361</td>\n",
       "      <td>часть от (P361)</td>\n",
       "      <td>P361</td>\n",
       "      <td>конфликт</td>\n",
       "    </tr>\n",
       "    <tr>\n",
       "      <th>4</th>\n",
       "      <td>Q4264961</td>\n",
       "      <td>['10 марта 1873 года']</td>\n",
       "      <td>1870</td>\n",
       "      <td>date</td>\n",
       "      <td>Ловягин, Александр Михайлович</td>\n",
       "      <td>В каком году родился Александр Михайлович Ловя...</td>\n",
       "      <td>P569</td>\n",
       "      <td>дата рождения (P569)</td>\n",
       "      <td>start</td>\n",
       "      <td>человек</td>\n",
       "    </tr>\n",
       "  </tbody>\n",
       "</table>\n",
       "</div>"
      ],
      "text/plain": [
       "           Q                                     answer_dp  \\\n",
       "0    Q729846                                   ['барокко']   \n",
       "1   Q4236746                       ['15 января 1915 года']   \n",
       "2   Q4221780  ['Указом Президиума Верховного Совета СССР']   \n",
       "3  Q51094830                               ['Гражданской']   \n",
       "4   Q4264961                        ['10 марта 1873 года']   \n",
       "\n",
       "                     answer_open       atr                              ent  \\\n",
       "0           Французская академия   Q161806                   Вуатюр, Венсан   \n",
       "1                           1919      date    Кочетов, Александр Васильевич   \n",
       "2                        генетик  Q3126128  Кирпичников, Валентин Сергеевич   \n",
       "3  монгольское нашествие на Русь  Q1134220            Битва на реке Воронеж   \n",
       "4                           1870      date    Ловягин, Александр Михайлович   \n",
       "\n",
       "                                              open_q   rel  \\\n",
       "0        Членом какой организации был Венсан Вуатюр?  P463   \n",
       "1       Александр Васильевич Кочетов — год рождения?  P569   \n",
       "2  Кем по профессии был Валентин Сергеевич Кирпич...  P106   \n",
       "3     Частью какой войны была Битва на реке Воронеж?  P361   \n",
       "4  В каком году родился Александр Михайлович Ловя...  P569   \n",
       "\n",
       "                                   rel_r   type      what  \n",
       "0  участник организации или клуба (P463)   P463   человек  \n",
       "1                   дата рождения (P569)  start   человек  \n",
       "2                     род занятий (P106)   P106   человек  \n",
       "3                        часть от (P361)   P361  конфликт  \n",
       "4                   дата рождения (P569)  start   человек  "
      ]
     },
     "execution_count": 393,
     "metadata": {},
     "output_type": "execute_result"
    }
   ],
   "source": [
    "train_.head()"
   ]
  },
  {
   "cell_type": "code",
   "execution_count": 394,
   "metadata": {},
   "outputs": [
    {
     "data": {
      "text/html": [
       "<div>\n",
       "<style scoped>\n",
       "    .dataframe tbody tr th:only-of-type {\n",
       "        vertical-align: middle;\n",
       "    }\n",
       "\n",
       "    .dataframe tbody tr th {\n",
       "        vertical-align: top;\n",
       "    }\n",
       "\n",
       "    .dataframe thead th {\n",
       "        text-align: right;\n",
       "    }\n",
       "</style>\n",
       "<table border=\"1\" class=\"dataframe\">\n",
       "  <thead>\n",
       "    <tr style=\"text-align: right;\">\n",
       "      <th></th>\n",
       "      <th>Q</th>\n",
       "      <th>answer_dp</th>\n",
       "      <th>answer_open</th>\n",
       "      <th>atr</th>\n",
       "      <th>ent</th>\n",
       "      <th>open_q</th>\n",
       "      <th>rel</th>\n",
       "      <th>rel_r</th>\n",
       "      <th>type</th>\n",
       "      <th>what</th>\n",
       "    </tr>\n",
       "  </thead>\n",
       "  <tbody>\n",
       "    <tr>\n",
       "      <th>0</th>\n",
       "      <td>Q4409522</td>\n",
       "      <td>В 1978 году</td>\n",
       "      <td>1910</td>\n",
       "      <td>date</td>\n",
       "      <td>Сахнин, Аркадий Яковлевич</td>\n",
       "      <td>В каком году родился Аркадий Яковлевич Сахнин?</td>\n",
       "      <td>P569</td>\n",
       "      <td>дата рождения (P569)</td>\n",
       "      <td>start</td>\n",
       "      <td>человек</td>\n",
       "    </tr>\n",
       "    <tr>\n",
       "      <th>1</th>\n",
       "      <td>Q4265116</td>\n",
       "      <td>начальником конструкторского бюро цеха</td>\n",
       "      <td>инженер</td>\n",
       "      <td>Q81096</td>\n",
       "      <td>Логинов, Фёдор Георгиевич</td>\n",
       "      <td>Кем по профессии был Фёдор Георгиевич Логинов?</td>\n",
       "      <td>P106</td>\n",
       "      <td>род занятий (P106)</td>\n",
       "      <td>P106</td>\n",
       "      <td>человек</td>\n",
       "    </tr>\n",
       "    <tr>\n",
       "      <th>2</th>\n",
       "      <td>Q4102324</td>\n",
       "      <td>в Бородинском сражении</td>\n",
       "      <td>Русско-шведская война</td>\n",
       "      <td>Q736268</td>\n",
       "      <td>Вадковский, Яков Егорович</td>\n",
       "      <td>В каком вооружённом конфликте участвовал Яков ...</td>\n",
       "      <td>P607</td>\n",
       "      <td>война/сражение (P607)</td>\n",
       "      <td>P607</td>\n",
       "      <td>человек</td>\n",
       "    </tr>\n",
       "    <tr>\n",
       "      <th>3</th>\n",
       "      <td>Q21391909</td>\n",
       "      <td>педагогом Ленинградского университета</td>\n",
       "      <td>психолог</td>\n",
       "      <td>Q212980</td>\n",
       "      <td>Люблинская, Анна Александровна</td>\n",
       "      <td>Кем по профессии была Анна Александровна Любли...</td>\n",
       "      <td>P106</td>\n",
       "      <td>род занятий (P106)</td>\n",
       "      <td>P106</td>\n",
       "      <td>человек</td>\n",
       "    </tr>\n",
       "    <tr>\n",
       "      <th>4</th>\n",
       "      <td>Q4240145</td>\n",
       "      <td>в советско-японской войне 1945 года</td>\n",
       "      <td>Курская битва</td>\n",
       "      <td>Q130861</td>\n",
       "      <td>Кремер, Симон Давидович</td>\n",
       "      <td>В какой войне участвовал Симон Давидович Кремер?</td>\n",
       "      <td>P607</td>\n",
       "      <td>война/сражение (P607)</td>\n",
       "      <td>P607</td>\n",
       "      <td>человек</td>\n",
       "    </tr>\n",
       "  </tbody>\n",
       "</table>\n",
       "</div>"
      ],
      "text/plain": [
       "           Q                               answer_dp            answer_open  \\\n",
       "0   Q4409522                             В 1978 году                   1910   \n",
       "1   Q4265116  начальником конструкторского бюро цеха                инженер   \n",
       "2   Q4102324                  в Бородинском сражении  Русско-шведская война   \n",
       "3  Q21391909   педагогом Ленинградского университета               психолог   \n",
       "4   Q4240145     в советско-японской войне 1945 года          Курская битва   \n",
       "\n",
       "       atr                             ent  \\\n",
       "0     date       Сахнин, Аркадий Яковлевич   \n",
       "1   Q81096       Логинов, Фёдор Георгиевич   \n",
       "2  Q736268       Вадковский, Яков Егорович   \n",
       "3  Q212980  Люблинская, Анна Александровна   \n",
       "4  Q130861         Кремер, Симон Давидович   \n",
       "\n",
       "                                              open_q   rel  \\\n",
       "0     В каком году родился Аркадий Яковлевич Сахнин?  P569   \n",
       "1     Кем по профессии был Фёдор Георгиевич Логинов?  P106   \n",
       "2  В каком вооружённом конфликте участвовал Яков ...  P607   \n",
       "3  Кем по профессии была Анна Александровна Любли...  P106   \n",
       "4   В какой войне участвовал Симон Давидович Кремер?  P607   \n",
       "\n",
       "                   rel_r   type     what  \n",
       "0   дата рождения (P569)  start  человек  \n",
       "1     род занятий (P106)   P106  человек  \n",
       "2  война/сражение (P607)   P607  человек  \n",
       "3     род занятий (P106)   P106  человек  \n",
       "4  война/сражение (P607)   P607  человек  "
      ]
     },
     "execution_count": 394,
     "metadata": {},
     "output_type": "execute_result"
    }
   ],
   "source": [
    "test_.head()"
   ]
  },
  {
   "cell_type": "code",
   "execution_count": 395,
   "metadata": {},
   "outputs": [],
   "source": [
    "# # make list of dicts from pandas df\n",
    "# train = train_.to_dict('index')\n",
    "# train = [train[i] for i in train]"
   ]
  },
  {
   "cell_type": "code",
   "execution_count": 352,
   "metadata": {},
   "outputs": [],
   "source": [
    "# # check in incosistance\n",
    "# for di in train:\n",
    "#     if di['rel'] not in di['rel_r']:\n",
    "#         print(di)"
   ]
  },
  {
   "cell_type": "code",
   "execution_count": 134,
   "metadata": {},
   "outputs": [
    {
     "data": {
      "text/plain": [
       "1810"
      ]
     },
     "execution_count": 134,
     "metadata": {},
     "output_type": "execute_result"
    }
   ],
   "source": [
    "len(final)"
   ]
  },
  {
   "cell_type": "code",
   "execution_count": 136,
   "metadata": {},
   "outputs": [],
   "source": [
    "# df = pd.DataFrame(final)\n",
    "# df.to_csv('OPEN_test1810.tsv', index=False, sep=\"\\t\")"
   ]
  },
  {
   "cell_type": "code",
   "execution_count": 77,
   "metadata": {},
   "outputs": [],
   "source": [
    "# make copy of a df\n",
    "df = pd.DataFrame(test)\n",
    "test_copy = df.copy()"
   ]
  },
  {
   "cell_type": "code",
   "execution_count": 79,
   "metadata": {},
   "outputs": [],
   "source": [
    "# # make list from \"['hhh']\" and take the [0] str item from it\n",
    "\n",
    "# import ast\n",
    "\n",
    "# col_one_list = test_copy['answer_dp'].tolist()\n",
    "# col_one_list = [ast.literal_eval(line) for line in col_one_list]\n",
    "# col_one_list = [di[0] for di in col_one_list]"
   ]
  },
  {
   "cell_type": "code",
   "execution_count": 100,
   "metadata": {},
   "outputs": [],
   "source": [
    "# change the column in df\n",
    "\n",
    "# test_copy['answer_dp'] = pd.Series(col_one_list)"
   ]
  },
  {
   "cell_type": "code",
   "execution_count": 108,
   "metadata": {},
   "outputs": [
    {
     "data": {
      "text/plain": [
       "'В 1978 году'"
      ]
     },
     "execution_count": 108,
     "metadata": {},
     "output_type": "execute_result"
    }
   ],
   "source": [
    "# test_copy['answer_dp'][0]"
   ]
  },
  {
   "cell_type": "code",
   "execution_count": 667,
   "metadata": {},
   "outputs": [
    {
     "data": {
      "text/plain": [
       "1800"
      ]
     },
     "execution_count": 667,
     "metadata": {},
     "output_type": "execute_result"
    }
   ],
   "source": [
    "len(test_)"
   ]
  },
  {
   "cell_type": "code",
   "execution_count": 668,
   "metadata": {},
   "outputs": [],
   "source": [
    "import json\n",
    "\n",
    "jsontest = json.load(open(\"OPEN_test_1810_shortened_final_for_eval.json\", \"r\", encoding=\"utf-8\")) # OPEN_test_1810_shortened_final_for_eval\n",
    "# jsontest = json.load(open(\"OPEN_test_1810_shortened_final_for_eval.json\", \"r\", encoding=\"utf-8\"))\n",
    "\n",
    "train_ = pd.read_csv('OPEN_train7443.tsv',sep=\"\\t\")\n",
    "\n",
    "# make list of dicts from pandas df\n",
    "train = train_.to_dict('index')\n",
    "train = [train[i] for i in train]\n",
    "\n",
    "\n",
    "train_ = pd.DataFrame(train)\n",
    "test_ = pd.DataFrame(jsontest)"
   ]
  },
  {
   "cell_type": "code",
   "execution_count": 669,
   "metadata": {},
   "outputs": [
    {
     "data": {
      "text/html": [
       "<div>\n",
       "<style scoped>\n",
       "    .dataframe tbody tr th:only-of-type {\n",
       "        vertical-align: middle;\n",
       "    }\n",
       "\n",
       "    .dataframe tbody tr th {\n",
       "        vertical-align: top;\n",
       "    }\n",
       "\n",
       "    .dataframe thead th {\n",
       "        text-align: right;\n",
       "    }\n",
       "</style>\n",
       "<table border=\"1\" class=\"dataframe\">\n",
       "  <thead>\n",
       "    <tr style=\"text-align: right;\">\n",
       "      <th></th>\n",
       "      <th>Q</th>\n",
       "      <th>answer_dp</th>\n",
       "      <th>answer_open</th>\n",
       "      <th>atr</th>\n",
       "      <th>ent</th>\n",
       "      <th>open_q</th>\n",
       "      <th>rel</th>\n",
       "      <th>rel_r</th>\n",
       "      <th>type</th>\n",
       "      <th>what</th>\n",
       "    </tr>\n",
       "  </thead>\n",
       "  <tbody>\n",
       "    <tr>\n",
       "      <th>0</th>\n",
       "      <td>Q729846</td>\n",
       "      <td>['барокко']</td>\n",
       "      <td>Французская академия</td>\n",
       "      <td>Q161806</td>\n",
       "      <td>Вуатюр, Венсан</td>\n",
       "      <td>Членом какой организации был Венсан Вуатюр?</td>\n",
       "      <td>P463</td>\n",
       "      <td>участник организации или клуба (P463)</td>\n",
       "      <td>P463</td>\n",
       "      <td>человек</td>\n",
       "    </tr>\n",
       "    <tr>\n",
       "      <th>1</th>\n",
       "      <td>Q4236746</td>\n",
       "      <td>['15 января 1915 года']</td>\n",
       "      <td>1919</td>\n",
       "      <td>date</td>\n",
       "      <td>Кочетов, Александр Васильевич</td>\n",
       "      <td>Александр Васильевич Кочетов — год рождения?</td>\n",
       "      <td>P569</td>\n",
       "      <td>дата рождения (P569)</td>\n",
       "      <td>start</td>\n",
       "      <td>человек</td>\n",
       "    </tr>\n",
       "    <tr>\n",
       "      <th>2</th>\n",
       "      <td>Q4221780</td>\n",
       "      <td>['Указом Президиума Верховного Совета СССР']</td>\n",
       "      <td>генетик</td>\n",
       "      <td>Q3126128</td>\n",
       "      <td>Кирпичников, Валентин Сергеевич</td>\n",
       "      <td>Кем по профессии был Валентин Сергеевич Кирпич...</td>\n",
       "      <td>P106</td>\n",
       "      <td>род занятий (P106)</td>\n",
       "      <td>P106</td>\n",
       "      <td>человек</td>\n",
       "    </tr>\n",
       "    <tr>\n",
       "      <th>3</th>\n",
       "      <td>Q51094830</td>\n",
       "      <td>['Гражданской']</td>\n",
       "      <td>монгольское нашествие на Русь</td>\n",
       "      <td>Q1134220</td>\n",
       "      <td>Битва на реке Воронеж</td>\n",
       "      <td>Частью какой войны была Битва на реке Воронеж?</td>\n",
       "      <td>P361</td>\n",
       "      <td>часть от (P361)</td>\n",
       "      <td>P361</td>\n",
       "      <td>конфликт</td>\n",
       "    </tr>\n",
       "    <tr>\n",
       "      <th>4</th>\n",
       "      <td>Q4264961</td>\n",
       "      <td>['10 марта 1873 года']</td>\n",
       "      <td>1870</td>\n",
       "      <td>date</td>\n",
       "      <td>Ловягин, Александр Михайлович</td>\n",
       "      <td>В каком году родился Александр Михайлович Ловя...</td>\n",
       "      <td>P569</td>\n",
       "      <td>дата рождения (P569)</td>\n",
       "      <td>start</td>\n",
       "      <td>человек</td>\n",
       "    </tr>\n",
       "  </tbody>\n",
       "</table>\n",
       "</div>"
      ],
      "text/plain": [
       "           Q                                     answer_dp  \\\n",
       "0    Q729846                                   ['барокко']   \n",
       "1   Q4236746                       ['15 января 1915 года']   \n",
       "2   Q4221780  ['Указом Президиума Верховного Совета СССР']   \n",
       "3  Q51094830                               ['Гражданской']   \n",
       "4   Q4264961                        ['10 марта 1873 года']   \n",
       "\n",
       "                     answer_open       atr                              ent  \\\n",
       "0           Французская академия   Q161806                   Вуатюр, Венсан   \n",
       "1                           1919      date    Кочетов, Александр Васильевич   \n",
       "2                        генетик  Q3126128  Кирпичников, Валентин Сергеевич   \n",
       "3  монгольское нашествие на Русь  Q1134220            Битва на реке Воронеж   \n",
       "4                           1870      date    Ловягин, Александр Михайлович   \n",
       "\n",
       "                                              open_q   rel  \\\n",
       "0        Членом какой организации был Венсан Вуатюр?  P463   \n",
       "1       Александр Васильевич Кочетов — год рождения?  P569   \n",
       "2  Кем по профессии был Валентин Сергеевич Кирпич...  P106   \n",
       "3     Частью какой войны была Битва на реке Воронеж?  P361   \n",
       "4  В каком году родился Александр Михайлович Ловя...  P569   \n",
       "\n",
       "                                   rel_r   type      what  \n",
       "0  участник организации или клуба (P463)   P463   человек  \n",
       "1                   дата рождения (P569)  start   человек  \n",
       "2                     род занятий (P106)   P106   человек  \n",
       "3                        часть от (P361)   P361  конфликт  \n",
       "4                   дата рождения (P569)  start   человек  "
      ]
     },
     "execution_count": 669,
     "metadata": {},
     "output_type": "execute_result"
    }
   ],
   "source": [
    "train_.head()"
   ]
  },
  {
   "cell_type": "code",
   "execution_count": 670,
   "metadata": {},
   "outputs": [
    {
     "data": {
      "text/html": [
       "<div>\n",
       "<style scoped>\n",
       "    .dataframe tbody tr th:only-of-type {\n",
       "        vertical-align: middle;\n",
       "    }\n",
       "\n",
       "    .dataframe tbody tr th {\n",
       "        vertical-align: top;\n",
       "    }\n",
       "\n",
       "    .dataframe thead th {\n",
       "        text-align: right;\n",
       "    }\n",
       "</style>\n",
       "<table border=\"1\" class=\"dataframe\">\n",
       "  <thead>\n",
       "    <tr style=\"text-align: right;\">\n",
       "      <th></th>\n",
       "      <th>type</th>\n",
       "      <th>open_q</th>\n",
       "      <th>rel</th>\n",
       "      <th>rel_r</th>\n",
       "    </tr>\n",
       "  </thead>\n",
       "  <tbody>\n",
       "    <tr>\n",
       "      <th>0</th>\n",
       "      <td>P463</td>\n",
       "      <td>Членом какой организации был Венсан Вуатюр?</td>\n",
       "      <td>P463</td>\n",
       "      <td>участник организации или клуба (P463)</td>\n",
       "    </tr>\n",
       "    <tr>\n",
       "      <th>1</th>\n",
       "      <td>start</td>\n",
       "      <td>Александр Васильевич Кочетов — год рождения?</td>\n",
       "      <td>P569</td>\n",
       "      <td>дата рождения (P569)</td>\n",
       "    </tr>\n",
       "    <tr>\n",
       "      <th>2</th>\n",
       "      <td>P106</td>\n",
       "      <td>Кем по профессии был Валентин Сергеевич Кирпич...</td>\n",
       "      <td>P106</td>\n",
       "      <td>род занятий (P106)</td>\n",
       "    </tr>\n",
       "    <tr>\n",
       "      <th>3</th>\n",
       "      <td>P361</td>\n",
       "      <td>Частью какой войны была Битва на реке Воронеж?</td>\n",
       "      <td>P361</td>\n",
       "      <td>часть от (P361)</td>\n",
       "    </tr>\n",
       "    <tr>\n",
       "      <th>4</th>\n",
       "      <td>start</td>\n",
       "      <td>В каком году родился Александр Михайлович Ловя...</td>\n",
       "      <td>P569</td>\n",
       "      <td>дата рождения (P569)</td>\n",
       "    </tr>\n",
       "  </tbody>\n",
       "</table>\n",
       "</div>"
      ],
      "text/plain": [
       "    type                                             open_q   rel  \\\n",
       "0   P463        Членом какой организации был Венсан Вуатюр?  P463   \n",
       "1  start       Александр Васильевич Кочетов — год рождения?  P569   \n",
       "2   P106  Кем по профессии был Валентин Сергеевич Кирпич...  P106   \n",
       "3   P361     Частью какой войны была Битва на реке Воронеж?  P361   \n",
       "4  start  В каком году родился Александр Михайлович Ловя...  P569   \n",
       "\n",
       "                                   rel_r  \n",
       "0  участник организации или клуба (P463)  \n",
       "1                   дата рождения (P569)  \n",
       "2                     род занятий (P106)  \n",
       "3                        часть от (P361)  \n",
       "4                   дата рождения (P569)  "
      ]
     },
     "execution_count": 670,
     "metadata": {},
     "output_type": "execute_result"
    }
   ],
   "source": [
    "train = pd.DataFrame(train_, columns=['type', 'open_q', 'rel', 'rel_r'])\n",
    "# df_train = df_train.sample(frac=1).reset_index(drop=True)\n",
    "train.head()"
   ]
  },
  {
   "cell_type": "code",
   "execution_count": 671,
   "metadata": {},
   "outputs": [
    {
     "data": {
      "text/html": [
       "<div>\n",
       "<style scoped>\n",
       "    .dataframe tbody tr th:only-of-type {\n",
       "        vertical-align: middle;\n",
       "    }\n",
       "\n",
       "    .dataframe tbody tr th {\n",
       "        vertical-align: top;\n",
       "    }\n",
       "\n",
       "    .dataframe thead th {\n",
       "        text-align: right;\n",
       "    }\n",
       "</style>\n",
       "<table border=\"1\" class=\"dataframe\">\n",
       "  <thead>\n",
       "    <tr style=\"text-align: right;\">\n",
       "      <th></th>\n",
       "      <th>type</th>\n",
       "      <th>open_q</th>\n",
       "      <th>rel</th>\n",
       "      <th>rel_r</th>\n",
       "    </tr>\n",
       "  </thead>\n",
       "  <tbody>\n",
       "    <tr>\n",
       "      <th>0</th>\n",
       "      <td>start</td>\n",
       "      <td>В каком году родился Аркадий Яковлевич Сахнин?</td>\n",
       "      <td>P569</td>\n",
       "      <td>дата рождения (P569)</td>\n",
       "    </tr>\n",
       "    <tr>\n",
       "      <th>1</th>\n",
       "      <td>P106</td>\n",
       "      <td>Кем по профессии был Фёдор Георгиевич Логинов?</td>\n",
       "      <td>P106</td>\n",
       "      <td>род занятий (P106)</td>\n",
       "    </tr>\n",
       "    <tr>\n",
       "      <th>2</th>\n",
       "      <td>P607</td>\n",
       "      <td>В каком вооружённом конфликте участвовал Яков ...</td>\n",
       "      <td>P607</td>\n",
       "      <td>война/сражение (P607)</td>\n",
       "    </tr>\n",
       "    <tr>\n",
       "      <th>3</th>\n",
       "      <td>P106</td>\n",
       "      <td>Кем по профессии была Анна Александровна Любли...</td>\n",
       "      <td>P106</td>\n",
       "      <td>род занятий (P106)</td>\n",
       "    </tr>\n",
       "    <tr>\n",
       "      <th>4</th>\n",
       "      <td>P607</td>\n",
       "      <td>В какой войне участвовал Симон Давидович Кремер?</td>\n",
       "      <td>P607</td>\n",
       "      <td>война/сражение (P607)</td>\n",
       "    </tr>\n",
       "  </tbody>\n",
       "</table>\n",
       "</div>"
      ],
      "text/plain": [
       "    type                                             open_q   rel  \\\n",
       "0  start     В каком году родился Аркадий Яковлевич Сахнин?  P569   \n",
       "1   P106     Кем по профессии был Фёдор Георгиевич Логинов?  P106   \n",
       "2   P607  В каком вооружённом конфликте участвовал Яков ...  P607   \n",
       "3   P106  Кем по профессии была Анна Александровна Любли...  P106   \n",
       "4   P607   В какой войне участвовал Симон Давидович Кремер?  P607   \n",
       "\n",
       "                   rel_r  \n",
       "0   дата рождения (P569)  \n",
       "1     род занятий (P106)  \n",
       "2  война/сражение (P607)  \n",
       "3     род занятий (P106)  \n",
       "4  война/сражение (P607)  "
      ]
     },
     "execution_count": 671,
     "metadata": {},
     "output_type": "execute_result"
    }
   ],
   "source": [
    "test =  pd.DataFrame(test_, columns=['type', 'open_q', 'rel', 'rel_r'])\n",
    "test.head()"
   ]
  },
  {
   "cell_type": "code",
   "execution_count": 672,
   "metadata": {},
   "outputs": [],
   "source": [
    "trainS = train.groupby('type', as_index=False).count().sort_values(by=['open_q'], ascending=False)\n",
    "# df.sort_values(by=['col1'])"
   ]
  },
  {
   "cell_type": "code",
   "execution_count": 624,
   "metadata": {},
   "outputs": [],
   "source": [
    "# trainS"
   ]
  },
  {
   "cell_type": "code",
   "execution_count": 412,
   "metadata": {},
   "outputs": [],
   "source": [
    "trainSR = train.groupby('rel', as_index=False).count().sort_values(by=['open_q'], ascending=False)\n",
    "# df.sort_values(by=['col1'])"
   ]
  },
  {
   "cell_type": "code",
   "execution_count": 469,
   "metadata": {},
   "outputs": [],
   "source": [
    "# trainSR"
   ]
  },
  {
   "cell_type": "code",
   "execution_count": 422,
   "metadata": {},
   "outputs": [],
   "source": [
    "trainSRR = train.groupby('rel_r', as_index=False).count().sort_values(by=['open_q'], ascending=False)\n",
    "# df.sort_values(by=['col1'])"
   ]
  },
  {
   "cell_type": "code",
   "execution_count": 470,
   "metadata": {},
   "outputs": [],
   "source": [
    "# trainSRR"
   ]
  },
  {
   "cell_type": "code",
   "execution_count": 414,
   "metadata": {},
   "outputs": [],
   "source": [
    "testS = test.groupby('type', as_index=False).count().sort_values(by=['open_q'], ascending=False)\n",
    "# df.sort_values(by=['col1'])"
   ]
  },
  {
   "cell_type": "code",
   "execution_count": 471,
   "metadata": {},
   "outputs": [],
   "source": [
    "# testS"
   ]
  },
  {
   "cell_type": "code",
   "execution_count": 416,
   "metadata": {},
   "outputs": [],
   "source": [
    "testSR = test.groupby('rel', as_index=False).count().sort_values(by=['open_q'], ascending=False)\n",
    "# df.sort_values(by=['col1'])"
   ]
  },
  {
   "cell_type": "code",
   "execution_count": 472,
   "metadata": {},
   "outputs": [],
   "source": [
    "# testSR"
   ]
  },
  {
   "cell_type": "code",
   "execution_count": 418,
   "metadata": {},
   "outputs": [],
   "source": [
    "# names rel_r\n",
    "testSRR = test.groupby('rel_r', as_index=False).count().sort_values(by=['open_q'], ascending=False)\n",
    "# df.sort_values(by=['col1'])"
   ]
  },
  {
   "cell_type": "code",
   "execution_count": 473,
   "metadata": {
    "scrolled": true
   },
   "outputs": [],
   "source": [
    "# testSRR"
   ]
  },
  {
   "cell_type": "markdown",
   "metadata": {},
   "source": [
    "# MultinomialNB"
   ]
  },
  {
   "cell_type": "code",
   "execution_count": 673,
   "metadata": {},
   "outputs": [],
   "source": [
    "from sklearn.naive_bayes import MultinomialNB\n",
    "from sklearn.metrics import f1_score\n",
    "from sklearn.metrics import accuracy_score\n",
    "from sklearn.feature_extraction.text import TfidfVectorizer, CountVectorizer"
   ]
  },
  {
   "cell_type": "code",
   "execution_count": 674,
   "metadata": {},
   "outputs": [],
   "source": [
    "from nltk.corpus import stopwords\n",
    "\n",
    "mystoplemmas = ['который','прошлый','сей', 'свой', 'наш', 'мочь', 'такой', 'год', 'время', 'день', 'весь']\n",
    "mystopwords = stopwords.words('russian') + mystoplemmas + ['это', 'наш' , 'тыс', 'млн', 'млрд', 'также',  'т', 'д', 'г']\n",
    "   "
   ]
  },
  {
   "cell_type": "code",
   "execution_count": 675,
   "metadata": {},
   "outputs": [],
   "source": [
    "count_vect = CountVectorizer(ngram_range = [3,3], analyzer = 'word',  min_df = 2, stop_words=mystopwords)\n",
    "X_train = count_vect.fit_transform(train.open_q)\n",
    "y_train = train['type'].values\n",
    "\n",
    "X_test = count_vect.transform(test.open_q)\n",
    "y_test = test['type'].values\n"
   ]
  },
  {
   "cell_type": "code",
   "execution_count": 676,
   "metadata": {},
   "outputs": [
    {
     "data": {
      "text/plain": [
       "MultinomialNB(alpha=0.001, class_prior=None, fit_prior=True)"
      ]
     },
     "execution_count": 676,
     "metadata": {},
     "output_type": "execute_result"
    }
   ],
   "source": [
    "classifier = MultinomialNB(alpha=0.001)\n",
    "classifier.fit(X_train, y_train)"
   ]
  },
  {
   "cell_type": "code",
   "execution_count": 677,
   "metadata": {},
   "outputs": [],
   "source": [
    "y_predict = classifier.predict(X_test)"
   ]
  },
  {
   "cell_type": "code",
   "execution_count": 678,
   "metadata": {},
   "outputs": [
    {
     "name": "stdout",
     "output_type": "stream",
     "text": [
      "Accuracy score: 0.7994444444444444\n",
      "F1-measure (micro): 0.7994444444444444\n",
      "F1-measure (macro): 0.8086807170008812\n"
     ]
    }
   ],
   "source": [
    "print('Accuracy score:', accuracy_score(y_test, y_predict))\n",
    "print('F1-measure (micro):', f1_score(y_test, y_predict, average='micro'))\n",
    "print('F1-measure (macro):', f1_score(y_test, y_predict, average='macro'))"
   ]
  },
  {
   "cell_type": "code",
   "execution_count": 679,
   "metadata": {},
   "outputs": [],
   "source": [
    "# y_predict"
   ]
  },
  {
   "cell_type": "code",
   "execution_count": 680,
   "metadata": {},
   "outputs": [],
   "source": [
    "cat_mapper = {cat: n for n, cat in enumerate(test.type.unique())}"
   ]
  },
  {
   "cell_type": "code",
   "execution_count": null,
   "metadata": {},
   "outputs": [],
   "source": []
  },
  {
   "cell_type": "code",
   "execution_count": 681,
   "metadata": {},
   "outputs": [
    {
     "data": {
      "image/png": "[encoded data removed]",
      "text/plain": [
       "<Figure size 432x288 with 1 Axes>"
      ]
     },
     "metadata": {
      "needs_background": "light"
     },
     "output_type": "display_data"
    }
   ],
   "source": [
    "import seaborn as sns\n",
    "import matplotlib.pyplot as plt\n",
    "from sklearn.metrics import confusion_matrix\n",
    "%matplotlib inline\n",
    "\n",
    "confusion_matrix = confusion_matrix(y_test, y_predict)\n",
    "conf_mat_normalized = confusion_matrix / confusion_matrix.sum(axis=1)\n",
    "ax = sns.heatmap(data=conf_mat_normalized, annot=True, cbar=False, xticklabels=cat_mapper, yticklabels=cat_mapper)\n",
    "plt.title('Confusion matrix')\n",
    "bottom, top = ax.get_ylim()\n",
    "ax.set_ylim(bottom + 0.5, top - 0.5)\n",
    "plt.show()"
   ]
  },
  {
   "cell_type": "markdown",
   "metadata": {},
   "source": [
    "# MultinomialNB without stopwords"
   ]
  },
  {
   "cell_type": "code",
   "execution_count": 682,
   "metadata": {},
   "outputs": [],
   "source": [
    "count_vect = CountVectorizer(ngram_range = [3,3], analyzer = 'word',  min_df = 2)\n",
    "X_train = count_vect.fit_transform(train.open_q)\n",
    "y_train = train['type'].values\n",
    "\n",
    "X_test = count_vect.transform(test.open_q)\n",
    "y_test = test['type'].values\n"
   ]
  },
  {
   "cell_type": "code",
   "execution_count": 683,
   "metadata": {},
   "outputs": [
    {
     "data": {
      "text/plain": [
       "MultinomialNB(alpha=0.001, class_prior=None, fit_prior=True)"
      ]
     },
     "execution_count": 683,
     "metadata": {},
     "output_type": "execute_result"
    }
   ],
   "source": [
    "classifier = MultinomialNB(alpha=0.001) # best parameter: 0.2\n",
    "classifier.fit(X_train, y_train)"
   ]
  },
  {
   "cell_type": "code",
   "execution_count": 684,
   "metadata": {},
   "outputs": [],
   "source": [
    "y_predict = classifier.predict(X_test)"
   ]
  },
  {
   "cell_type": "code",
   "execution_count": 685,
   "metadata": {},
   "outputs": [
    {
     "name": "stdout",
     "output_type": "stream",
     "text": [
      "Accuracy score: 0.8922222222222222\n",
      "F1-measure (micro): 0.8922222222222224\n",
      "F1-measure (macro): 0.9441969841365405\n"
     ]
    }
   ],
   "source": [
    "print('Accuracy score:', accuracy_score(y_test, y_predict))\n",
    "print('F1-measure (micro):', f1_score(y_test, y_predict, average='micro'))\n",
    "print('F1-measure (macro):', f1_score(y_test, y_predict, average='macro'))"
   ]
  },
  {
   "cell_type": "code",
   "execution_count": 686,
   "metadata": {},
   "outputs": [],
   "source": [
    "cat_mapper = {cat: n for n, cat in enumerate(test.type.unique())}"
   ]
  },
  {
   "cell_type": "code",
   "execution_count": 687,
   "metadata": {},
   "outputs": [
    {
     "data": {
      "image/png": "[encoded data removed]",
      "text/plain": [
       "<Figure size 432x288 with 1 Axes>"
      ]
     },
     "metadata": {
      "needs_background": "light"
     },
     "output_type": "display_data"
    }
   ],
   "source": [
    "import seaborn as sns\n",
    "import matplotlib.pyplot as plt\n",
    "from sklearn.metrics import confusion_matrix\n",
    "%matplotlib inline\n",
    "\n",
    "confusion_matrix = confusion_matrix(y_test, y_predict)\n",
    "conf_mat_normalized = confusion_matrix / confusion_matrix.sum(axis=1)\n",
    "ax = sns.heatmap(data=conf_mat_normalized, annot=True, cbar=False, xticklabels=cat_mapper, yticklabels=cat_mapper)\n",
    "plt.title('Confusion matrix')\n",
    "bottom, top = ax.get_ylim()\n",
    "ax.set_ylim(bottom + 0.5, top - 0.5)\n",
    "plt.show()"
   ]
  },
  {
   "cell_type": "markdown",
   "metadata": {},
   "source": [
    "# tf-idf"
   ]
  },
  {
   "cell_type": "code",
   "execution_count": 701,
   "metadata": {},
   "outputs": [],
   "source": [
    "tfidf_vect = TfidfVectorizer()\n",
    "X_train = tfidf_vect.fit_transform(train.open_q)\n",
    "y_train = train['type'].values\n",
    "\n",
    "X_test = tfidf_vect.transform(test.open_q)\n",
    "y_test = test['type'].values"
   ]
  },
  {
   "cell_type": "code",
   "execution_count": 702,
   "metadata": {},
   "outputs": [
    {
     "data": {
      "text/plain": [
       "MultinomialNB(alpha=0.15, class_prior=None, fit_prior=True)"
      ]
     },
     "execution_count": 702,
     "metadata": {},
     "output_type": "execute_result"
    }
   ],
   "source": [
    "classifier = MultinomialNB(alpha=0.15) # 0.15 => 99056\n",
    "classifier.fit(X_train, y_train)"
   ]
  },
  {
   "cell_type": "code",
   "execution_count": 703,
   "metadata": {},
   "outputs": [],
   "source": [
    "y_predict = classifier.predict(X_test)"
   ]
  },
  {
   "cell_type": "code",
   "execution_count": 704,
   "metadata": {},
   "outputs": [],
   "source": [
    "# y_predict"
   ]
  },
  {
   "cell_type": "code",
   "execution_count": 705,
   "metadata": {},
   "outputs": [
    {
     "name": "stdout",
     "output_type": "stream",
     "text": [
      "Accuracy score: 0.9927777777777778\n",
      "F1-measure (micro): 0.9927777777777778\n",
      "F1-measure (macro): 0.9912851260669703\n"
     ]
    }
   ],
   "source": [
    "print('Accuracy score:', accuracy_score(y_test, y_predict))\n",
    "print('F1-measure (micro):', f1_score(y_test, y_predict, average='micro'))\n",
    "print('F1-measure (macro):', f1_score(y_test, y_predict, average='macro'))"
   ]
  },
  {
   "cell_type": "code",
   "execution_count": 693,
   "metadata": {},
   "outputs": [
    {
     "data": {
      "image/png": "[encoded data removed]",
      "text/plain": [
       "<Figure size 432x288 with 1 Axes>"
      ]
     },
     "metadata": {
      "needs_background": "light"
     },
     "output_type": "display_data"
    }
   ],
   "source": [
    "import seaborn as sns\n",
    "import matplotlib.pyplot as plt\n",
    "from sklearn.metrics import confusion_matrix\n",
    "%matplotlib inline\n",
    "\n",
    "confusion_matrix = confusion_matrix(y_test, y_predict)\n",
    "conf_mat_normalized = confusion_matrix / confusion_matrix.sum(axis=1)\n",
    "ax = sns.heatmap(data=conf_mat_normalized, annot=True, cbar=False, xticklabels=cat_mapper, yticklabels=cat_mapper)\n",
    "plt.title('Confusion matrix')\n",
    "bottom, top = ax.get_ylim()\n",
    "ax.set_ylim(bottom + 0.5, top - 0.5)\n",
    "plt.show()"
   ]
  },
  {
   "cell_type": "markdown",
   "metadata": {},
   "source": [
    "# Linear SVM"
   ]
  },
  {
   "cell_type": "code",
   "execution_count": 694,
   "metadata": {},
   "outputs": [],
   "source": [
    "from sklearn.svm import LinearSVC"
   ]
  },
  {
   "cell_type": "code",
   "execution_count": 695,
   "metadata": {},
   "outputs": [],
   "source": [
    "tfidf_vect = TfidfVectorizer(ngram_range = [3,3], analyzer = 'word',  min_df = 2)\n",
    "X_train = tfidf_vect.fit_transform(train.open_q)\n",
    "y_train = train['type'].values\n",
    "\n",
    "X_test = tfidf_vect.transform(test.open_q)\n",
    "y_test = test['type'].values"
   ]
  },
  {
   "cell_type": "code",
   "execution_count": 696,
   "metadata": {},
   "outputs": [],
   "source": [
    "count_vect = CountVectorizer(ngram_range = [3,3], analyzer = 'word',  min_df = 2)\n",
    "X_train = count_vect.fit_transform(train.open_q)\n",
    "y_train = train['type'].values\n",
    "\n",
    "X_test = count_vect.transform(test.open_q)\n",
    "y_test = test['type'].values\n"
   ]
  },
  {
   "cell_type": "code",
   "execution_count": 697,
   "metadata": {},
   "outputs": [
    {
     "data": {
      "text/plain": [
       "LinearSVC(C=1.0, class_weight=None, dual=True, fit_intercept=True,\n",
       "     intercept_scaling=1, loss='squared_hinge', max_iter=1000,\n",
       "     multi_class='ovr', penalty='l2', random_state=None, tol=0.0001,\n",
       "     verbose=0)"
      ]
     },
     "execution_count": 697,
     "metadata": {},
     "output_type": "execute_result"
    }
   ],
   "source": [
    "classifier = LinearSVC() #class_weight=\"balanced\"\n",
    "classifier.fit(X_train, y_train)"
   ]
  },
  {
   "cell_type": "code",
   "execution_count": 698,
   "metadata": {},
   "outputs": [],
   "source": [
    "y_predict = classifier.predict(X_test)"
   ]
  },
  {
   "cell_type": "code",
   "execution_count": 699,
   "metadata": {},
   "outputs": [
    {
     "name": "stdout",
     "output_type": "stream",
     "text": [
      "Accuracy score: 0.9583333333333334\n",
      "F1-measure (micro): 0.9583333333333334\n",
      "F1-measure (macro): 0.9763024070547597\n"
     ]
    }
   ],
   "source": [
    "print('Accuracy score:', accuracy_score(y_test, y_predict))\n",
    "print('F1-measure (micro):', f1_score(y_test, y_predict, average='micro'))\n",
    "print('F1-measure (macro):', f1_score(y_test, y_predict, average='macro'))"
   ]
  },
  {
   "cell_type": "code",
   "execution_count": 700,
   "metadata": {},
   "outputs": [
    {
     "data": {
      "image/png": "[encoded data removed]",
      "text/plain": [
       "<Figure size 432x288 with 1 Axes>"
      ]
     },
     "metadata": {
      "needs_background": "light"
     },
     "output_type": "display_data"
    }
   ],
   "source": [
    "import seaborn as sns\n",
    "import matplotlib.pyplot as plt\n",
    "from sklearn.metrics import confusion_matrix\n",
    "%matplotlib inline\n",
    "\n",
    "confusion_matrix = confusion_matrix(y_test, y_predict)\n",
    "conf_mat_normalized = confusion_matrix / confusion_matrix.sum(axis=1)\n",
    "ax = sns.heatmap(data=conf_mat_normalized, annot=True, cbar=False, xticklabels=cat_mapper, yticklabels=cat_mapper)\n",
    "plt.title('Confusion matrix')\n",
    "bottom, top = ax.get_ylim()\n",
    "ax.set_ylim(bottom + 0.5, top - 0.5)\n",
    "plt.show()"
   ]
  },
  {
   "cell_type": "code",
   "execution_count": 708,
   "metadata": {},
   "outputs": [],
   "source": [
    "y_predict = y_predict.tolist()"
   ]
  },
  {
   "cell_type": "code",
   "execution_count": 709,
   "metadata": {},
   "outputs": [
    {
     "data": {
      "text/plain": [
       "1800"
      ]
     },
     "execution_count": 709,
     "metadata": {},
     "output_type": "execute_result"
    }
   ],
   "source": [
    "len(y_predict)"
   ]
  },
  {
   "cell_type": "code",
   "execution_count": 710,
   "metadata": {},
   "outputs": [],
   "source": [
    "# # y_predict = y_predict.tolist()\n",
    "# with open(\"class_types99----.json\", \"w\", encoding=\"utf-8\") as f:\n",
    "#         json.dump(y_predict, f, ensure_ascii=False, indent=4)"
   ]
  },
  {
   "cell_type": "code",
   "execution_count": 457,
   "metadata": {},
   "outputs": [],
   "source": [
    "test_['type_pred'] = pd.Series(y_predict)"
   ]
  },
  {
   "cell_type": "code",
   "execution_count": 458,
   "metadata": {},
   "outputs": [
    {
     "data": {
      "text/html": [
       "<div>\n",
       "<style scoped>\n",
       "    .dataframe tbody tr th:only-of-type {\n",
       "        vertical-align: middle;\n",
       "    }\n",
       "\n",
       "    .dataframe tbody tr th {\n",
       "        vertical-align: top;\n",
       "    }\n",
       "\n",
       "    .dataframe thead th {\n",
       "        text-align: right;\n",
       "    }\n",
       "</style>\n",
       "<table border=\"1\" class=\"dataframe\">\n",
       "  <thead>\n",
       "    <tr style=\"text-align: right;\">\n",
       "      <th></th>\n",
       "      <th>Q</th>\n",
       "      <th>answer_dp</th>\n",
       "      <th>answer_open</th>\n",
       "      <th>atr</th>\n",
       "      <th>ent</th>\n",
       "      <th>open_q</th>\n",
       "      <th>rel</th>\n",
       "      <th>rel_r</th>\n",
       "      <th>type</th>\n",
       "      <th>what</th>\n",
       "      <th>type_pred</th>\n",
       "    </tr>\n",
       "  </thead>\n",
       "  <tbody>\n",
       "    <tr>\n",
       "      <th>0</th>\n",
       "      <td>Q4409522</td>\n",
       "      <td>В 1978 году</td>\n",
       "      <td>1910</td>\n",
       "      <td>date</td>\n",
       "      <td>Сахнин, Аркадий Яковлевич</td>\n",
       "      <td>В каком году родился Аркадий Яковлевич Сахнин?</td>\n",
       "      <td>P569</td>\n",
       "      <td>дата рождения (P569)</td>\n",
       "      <td>start</td>\n",
       "      <td>человек</td>\n",
       "      <td>start</td>\n",
       "    </tr>\n",
       "    <tr>\n",
       "      <th>1</th>\n",
       "      <td>Q4265116</td>\n",
       "      <td>начальником конструкторского бюро цеха</td>\n",
       "      <td>инженер</td>\n",
       "      <td>Q81096</td>\n",
       "      <td>Логинов, Фёдор Георгиевич</td>\n",
       "      <td>Кем по профессии был Фёдор Георгиевич Логинов?</td>\n",
       "      <td>P106</td>\n",
       "      <td>род занятий (P106)</td>\n",
       "      <td>P106</td>\n",
       "      <td>человек</td>\n",
       "      <td>P106</td>\n",
       "    </tr>\n",
       "    <tr>\n",
       "      <th>2</th>\n",
       "      <td>Q4102324</td>\n",
       "      <td>в Бородинском сражении</td>\n",
       "      <td>Русско-шведская война</td>\n",
       "      <td>Q736268</td>\n",
       "      <td>Вадковский, Яков Егорович</td>\n",
       "      <td>В каком вооружённом конфликте участвовал Яков ...</td>\n",
       "      <td>P607</td>\n",
       "      <td>война/сражение (P607)</td>\n",
       "      <td>P607</td>\n",
       "      <td>человек</td>\n",
       "      <td>P607</td>\n",
       "    </tr>\n",
       "    <tr>\n",
       "      <th>3</th>\n",
       "      <td>Q21391909</td>\n",
       "      <td>педагогом Ленинградского университета</td>\n",
       "      <td>психолог</td>\n",
       "      <td>Q212980</td>\n",
       "      <td>Люблинская, Анна Александровна</td>\n",
       "      <td>Кем по профессии была Анна Александровна Любли...</td>\n",
       "      <td>P106</td>\n",
       "      <td>род занятий (P106)</td>\n",
       "      <td>P106</td>\n",
       "      <td>человек</td>\n",
       "      <td>P106</td>\n",
       "    </tr>\n",
       "    <tr>\n",
       "      <th>4</th>\n",
       "      <td>Q4240145</td>\n",
       "      <td>в советско-японской войне 1945 года</td>\n",
       "      <td>Курская битва</td>\n",
       "      <td>Q130861</td>\n",
       "      <td>Кремер, Симон Давидович</td>\n",
       "      <td>В какой войне участвовал Симон Давидович Кремер?</td>\n",
       "      <td>P607</td>\n",
       "      <td>война/сражение (P607)</td>\n",
       "      <td>P607</td>\n",
       "      <td>человек</td>\n",
       "      <td>P607</td>\n",
       "    </tr>\n",
       "  </tbody>\n",
       "</table>\n",
       "</div>"
      ],
      "text/plain": [
       "           Q                               answer_dp            answer_open  \\\n",
       "0   Q4409522                             В 1978 году                   1910   \n",
       "1   Q4265116  начальником конструкторского бюро цеха                инженер   \n",
       "2   Q4102324                  в Бородинском сражении  Русско-шведская война   \n",
       "3  Q21391909   педагогом Ленинградского университета               психолог   \n",
       "4   Q4240145     в советско-японской войне 1945 года          Курская битва   \n",
       "\n",
       "       atr                             ent  \\\n",
       "0     date       Сахнин, Аркадий Яковлевич   \n",
       "1   Q81096       Логинов, Фёдор Георгиевич   \n",
       "2  Q736268       Вадковский, Яков Егорович   \n",
       "3  Q212980  Люблинская, Анна Александровна   \n",
       "4  Q130861         Кремер, Симон Давидович   \n",
       "\n",
       "                                              open_q   rel  \\\n",
       "0     В каком году родился Аркадий Яковлевич Сахнин?  P569   \n",
       "1     Кем по профессии был Фёдор Георгиевич Логинов?  P106   \n",
       "2  В каком вооружённом конфликте участвовал Яков ...  P607   \n",
       "3  Кем по профессии была Анна Александровна Любли...  P106   \n",
       "4   В какой войне участвовал Симон Давидович Кремер?  P607   \n",
       "\n",
       "                   rel_r   type     what type_pred  \n",
       "0   дата рождения (P569)  start  человек     start  \n",
       "1     род занятий (P106)   P106  человек      P106  \n",
       "2  война/сражение (P607)   P607  человек      P607  \n",
       "3     род занятий (P106)   P106  человек      P106  \n",
       "4  война/сражение (P607)   P607  человек      P607  "
      ]
     },
     "execution_count": 458,
     "metadata": {},
     "output_type": "execute_result"
    }
   ],
   "source": [
    "test_.head()"
   ]
  },
  {
   "cell_type": "code",
   "execution_count": 459,
   "metadata": {},
   "outputs": [],
   "source": [
    "\n",
    "# test_.to_csv('OPEN_test1810---.tsv', index=False, sep=\"\\t\")"
   ]
  },
  {
   "cell_type": "code",
   "execution_count": 460,
   "metadata": {},
   "outputs": [],
   "source": [
    "# import json\n",
    "\n",
    "# test = test_.to_dict('index')\n",
    "# test = [test[i] for i in test]\n",
    "\n",
    "# with open(\"OPEN_test_1810--.json\", \"w\", encoding=\"utf-8\") as f:\n",
    "#         json.dump(test, f, ensure_ascii=False, indent=4)"
   ]
  },
  {
   "cell_type": "code",
   "execution_count": null,
   "metadata": {},
   "outputs": [],
   "source": []
  },
  {
   "cell_type": "code",
   "execution_count": 209,
   "metadata": {},
   "outputs": [
    {
     "data": {
      "text/plain": [
       "1810"
      ]
     },
     "execution_count": 209,
     "metadata": {},
     "output_type": "execute_result"
    }
   ],
   "source": [
    "len(test_)"
   ]
  },
  {
   "cell_type": "code",
   "execution_count": 278,
   "metadata": {},
   "outputs": [
    {
     "data": {
      "text/html": [
       "<div>\n",
       "<style scoped>\n",
       "    .dataframe tbody tr th:only-of-type {\n",
       "        vertical-align: middle;\n",
       "    }\n",
       "\n",
       "    .dataframe tbody tr th {\n",
       "        vertical-align: top;\n",
       "    }\n",
       "\n",
       "    .dataframe thead th {\n",
       "        text-align: right;\n",
       "    }\n",
       "</style>\n",
       "<table border=\"1\" class=\"dataframe\">\n",
       "  <thead>\n",
       "    <tr style=\"text-align: right;\">\n",
       "      <th></th>\n",
       "      <th>Q</th>\n",
       "      <th>answer_dp</th>\n",
       "      <th>answer_open</th>\n",
       "      <th>atr</th>\n",
       "      <th>ent</th>\n",
       "      <th>open_q</th>\n",
       "      <th>rel</th>\n",
       "      <th>rel_r</th>\n",
       "      <th>type</th>\n",
       "      <th>what</th>\n",
       "    </tr>\n",
       "  </thead>\n",
       "  <tbody>\n",
       "    <tr>\n",
       "      <th>0</th>\n",
       "      <td>Q4409522</td>\n",
       "      <td>В 1978 году</td>\n",
       "      <td>1910</td>\n",
       "      <td>date</td>\n",
       "      <td>Сахнин, Аркадий Яковлевич</td>\n",
       "      <td>В каком году родился Аркадий Яковлевич Сахнин?</td>\n",
       "      <td>P569</td>\n",
       "      <td>дата рождения (P569)</td>\n",
       "      <td>start</td>\n",
       "      <td>человек</td>\n",
       "    </tr>\n",
       "    <tr>\n",
       "      <th>1</th>\n",
       "      <td>Q4265116</td>\n",
       "      <td>начальником конструкторского бюро цеха</td>\n",
       "      <td>инженер</td>\n",
       "      <td>Q81096</td>\n",
       "      <td>Логинов, Фёдор Георгиевич</td>\n",
       "      <td>Кем по профессии был Фёдор Георгиевич Логинов?</td>\n",
       "      <td>P106</td>\n",
       "      <td>род занятий (P106)</td>\n",
       "      <td>P106</td>\n",
       "      <td>человек</td>\n",
       "    </tr>\n",
       "    <tr>\n",
       "      <th>2</th>\n",
       "      <td>Q4102324</td>\n",
       "      <td>в Бородинском сражении</td>\n",
       "      <td>Русско-шведская война</td>\n",
       "      <td>Q736268</td>\n",
       "      <td>Вадковский, Яков Егорович</td>\n",
       "      <td>В каком вооружённом конфликте участвовал Яков ...</td>\n",
       "      <td>P607</td>\n",
       "      <td>война/сражение (P607)</td>\n",
       "      <td>P607</td>\n",
       "      <td>человек</td>\n",
       "    </tr>\n",
       "    <tr>\n",
       "      <th>3</th>\n",
       "      <td>Q21391909</td>\n",
       "      <td>педагогом Ленинградского университета</td>\n",
       "      <td>психолог</td>\n",
       "      <td>Q212980</td>\n",
       "      <td>Люблинская, Анна Александровна</td>\n",
       "      <td>Кем по профессии была Анна Александровна Любли...</td>\n",
       "      <td>P106</td>\n",
       "      <td>род занятий (P106)</td>\n",
       "      <td>P106</td>\n",
       "      <td>человек</td>\n",
       "    </tr>\n",
       "    <tr>\n",
       "      <th>4</th>\n",
       "      <td>Q4240145</td>\n",
       "      <td>в советско-японской войне 1945 года</td>\n",
       "      <td>Курская битва</td>\n",
       "      <td>Q130861</td>\n",
       "      <td>Кремер, Симон Давидович</td>\n",
       "      <td>В какой войне участвовал Симон Давидович Кремер?</td>\n",
       "      <td>P607</td>\n",
       "      <td>война/сражение (P607)</td>\n",
       "      <td>P607</td>\n",
       "      <td>человек</td>\n",
       "    </tr>\n",
       "  </tbody>\n",
       "</table>\n",
       "</div>"
      ],
      "text/plain": [
       "           Q                               answer_dp            answer_open  \\\n",
       "0   Q4409522                             В 1978 году                   1910   \n",
       "1   Q4265116  начальником конструкторского бюро цеха                инженер   \n",
       "2   Q4102324                  в Бородинском сражении  Русско-шведская война   \n",
       "3  Q21391909   педагогом Ленинградского университета               психолог   \n",
       "4   Q4240145     в советско-японской войне 1945 года          Курская битва   \n",
       "\n",
       "       atr                             ent  \\\n",
       "0     date       Сахнин, Аркадий Яковлевич   \n",
       "1   Q81096       Логинов, Фёдор Георгиевич   \n",
       "2  Q736268       Вадковский, Яков Егорович   \n",
       "3  Q212980  Люблинская, Анна Александровна   \n",
       "4  Q130861         Кремер, Симон Давидович   \n",
       "\n",
       "                                              open_q   rel  \\\n",
       "0     В каком году родился Аркадий Яковлевич Сахнин?  P569   \n",
       "1     Кем по профессии был Фёдор Георгиевич Логинов?  P106   \n",
       "2  В каком вооружённом конфликте участвовал Яков ...  P607   \n",
       "3  Кем по профессии была Анна Александровна Любли...  P106   \n",
       "4   В какой войне участвовал Симон Давидович Кремер?  P607   \n",
       "\n",
       "                   rel_r   type     what  \n",
       "0   дата рождения (P569)  start  человек  \n",
       "1     род занятий (P106)   P106  человек  \n",
       "2  война/сражение (P607)   P607  человек  \n",
       "3     род занятий (P106)   P106  человек  \n",
       "4  война/сражение (P607)   P607  человек  "
      ]
     },
     "execution_count": 278,
     "metadata": {},
     "output_type": "execute_result"
    }
   ],
   "source": [
    "test_.head()"
   ]
  },
  {
   "cell_type": "code",
   "execution_count": null,
   "metadata": {},
   "outputs": [],
   "source": []
  }
 ],
 "metadata": {
  "kernelspec": {
   "display_name": "Python 3",
   "language": "python",
   "name": "python3"
  },
  "language_info": {
   "codemirror_mode": {
    "name": "ipython",
    "version": 3
   },
   "file_extension": ".py",
   "mimetype": "text/x-python",
   "name": "python",
   "nbconvert_exporter": "python",
   "pygments_lexer": "ipython3",
   "version": "3.6.8"
  }
 },
 "nbformat": 4,
 "nbformat_minor": 2
}
