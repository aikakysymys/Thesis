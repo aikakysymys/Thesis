{
 "cells": [
  {
   "cell_type": "code",
   "execution_count": 19,
   "metadata": {
    "colab": {
     "base_uri": "https://localhost:8080/",
     "height": 34
    },
    "colab_type": "code",
    "id": "kjrGopBRiN2W",
    "outputId": "f758073a-d9ad-447d-ceef-6f4ed07a30c8"
   },
   "outputs": [
    {
     "name": "stdout",
     "output_type": "stream",
     "text": [
      "Mounted at /gdrive\n"
     ]
    }
   ],
   "source": [
    "# from google.colab import drive\n",
    "# drive.mount(\"/gdrive\", force_remount=True)\n",
    "# # drive.mount('/gdrive')\n"
   ]
  },
  {
   "cell_type": "code",
   "execution_count": 1,
   "metadata": {
    "colab": {
     "base_uri": "https://localhost:8080/",
     "height": 912
    },
    "colab_type": "code",
    "id": "sbKMJLGJnLeU",
    "outputId": "b7aa7e32-30c0-476f-97db-8f31784aba0e"
   },
   "outputs": [],
   "source": [
    "# %cd /gdrive\n",
    "# %cd 'My Drive'\n",
    "# # %cd Maga\n",
    "# %cd Diploma"
   ]
  },
  {
   "cell_type": "code",
   "execution_count": 3,
   "metadata": {
    "colab": {
     "base_uri": "https://localhost:8080/",
     "height": 34
    },
    "colab_type": "code",
    "id": "DAG_nHIsnIvG",
    "outputId": "8281cfcf-1083-4ade-f60c-97a3384eb40a"
   },
   "outputs": [
    {
     "name": "stdout",
     "output_type": "stream",
     "text": [
      "morewiki_1456.json  morewiki_50.json\r\n",
      "morewiki_20.json    ranking_experiments.ipynb\r\n"
     ]
    }
   ],
   "source": [
    "!ls"
   ]
  },
  {
   "cell_type": "code",
   "execution_count": 0,
   "metadata": {
    "colab": {},
    "colab_type": "code",
    "id": "W2y9PwtujJ4-"
   },
   "outputs": [],
   "source": [
    "# !git clone https://github.com/huggingface/transformers.git\n",
    "# # !git clone https://github.com/huggingface/transformers --branch quickstart-model2model\n",
    "# %cd transformers\n",
    "# !pip3 install .\n",
    "# !git pull\n",
    "# !pip3 install --upgrade ."
   ]
  },
  {
   "cell_type": "code",
   "execution_count": 0,
   "metadata": {
    "colab": {},
    "colab_type": "code",
    "id": "SPNv7EQ2Ea_0"
   },
   "outputs": [],
   "source": [
    "# ! pip3 uninstall transformers"
   ]
  },
  {
   "cell_type": "code",
   "execution_count": 2,
   "metadata": {
    "colab": {
     "base_uri": "https://localhost:8080/",
     "height": 523
    },
    "colab_type": "code",
    "id": "tHXkXSCNC0bh",
    "outputId": "5b2837bc-d335-44cb-d721-de9bc428bbf4"
   },
   "outputs": [],
   "source": [
    "# # !git clone https://github.com/huggingface/transformers\n",
    "# %cd transformers\n",
    "# !pip3 install ."
   ]
  },
  {
   "cell_type": "code",
   "execution_count": 107,
   "metadata": {
    "colab": {},
    "colab_type": "code",
    "id": "QdO0bjzojMS7"
   },
   "outputs": [],
   "source": [
    "import json\n",
    "from transformers import BertModel, BertTokenizer\n",
    "import torch\n",
    "from sklearn.metrics.pairwise import cosine_similarity\n",
    "import numpy as np"
   ]
  },
  {
   "cell_type": "code",
   "execution_count": 0,
   "metadata": {
    "colab": {},
    "colab_type": "code",
    "id": "he4IQoaTy8mC"
   },
   "outputs": [],
   "source": [
    "# !tar -xzf rubert_cased_L-12_H-768_A-12_pt.tar.gz"
   ]
  },
  {
   "cell_type": "code",
   "execution_count": 6,
   "metadata": {
    "colab": {},
    "colab_type": "code",
    "id": "1y-Z_kB6774Z"
   },
   "outputs": [],
   "source": [
    "# import os\n",
    "# os.chdir(\"../\")"
   ]
  },
  {
   "cell_type": "code",
   "execution_count": 7,
   "metadata": {
    "colab": {
     "base_uri": "https://localhost:8080/",
     "height": 121
    },
    "colab_type": "code",
    "id": "jhILE0DH8Oq6",
    "outputId": "f55db0e1-e016-4fba-cd46-4edddd191062"
   },
   "outputs": [
    {
     "name": "stdout",
     "output_type": "stream",
     "text": [
      "morewiki_1456.json  morewiki_50.json\r\n",
      "morewiki_20.json    ranking_experiments.ipynb\r\n"
     ]
    }
   ],
   "source": [
    "!ls\n",
    "# !cd rubert_cased_L-12_H-768_A-12_pt"
   ]
  },
  {
   "cell_type": "code",
   "execution_count": 109,
   "metadata": {
    "colab": {},
    "colab_type": "code",
    "id": "B_b-RpD0iN2w"
   },
   "outputs": [],
   "source": [
    "# ru_bert_path = \"rubert_cased_L-12_H-768_A-12_pt\"\n",
    "ru_bert_path = \"/datadrive/axon/something_reasoning/models/rubert_cased_L-12_H-768_A-12_pt/\""
   ]
  },
  {
   "cell_type": "code",
   "execution_count": 110,
   "metadata": {
    "colab": {},
    "colab_type": "code",
    "id": "x0vdLOZLiN2_"
   },
   "outputs": [],
   "source": [
    "# relations = [\"синонимы\", \"индикатор\", \"заголовок статьи\", \"краткое описание\", \"статья\", \"documents\"]\n",
    "relations = [\"синонимы\", \"labels\", \"sitelinks\", \"summary\", \"content\"]\n",
    "# \"sitelinks\" gives 1"
   ]
  },
  {
   "cell_type": "code",
   "execution_count": 111,
   "metadata": {
    "colab": {},
    "colab_type": "code",
    "id": "Sm2FUNaciN3N"
   },
   "outputs": [],
   "source": [
    "tokenizer = BertTokenizer.from_pretrained(ru_bert_path)"
   ]
  },
  {
   "cell_type": "code",
   "execution_count": 112,
   "metadata": {
    "colab": {},
    "colab_type": "code",
    "id": "Nj4mlzdhiN3V"
   },
   "outputs": [],
   "source": [
    "model = BertModel.from_pretrained(ru_bert_path)"
   ]
  },
  {
   "cell_type": "code",
   "execution_count": 113,
   "metadata": {
    "colab": {},
    "colab_type": "code",
    "id": "bKYHjkEsiN3g"
   },
   "outputs": [],
   "source": [
    "model = model.eval()"
   ]
  },
  {
   "cell_type": "code",
   "execution_count": 114,
   "metadata": {
    "colab": {},
    "colab_type": "code",
    "id": "fIgldCbBiN3y"
   },
   "outputs": [],
   "source": [
    "from tqdm import tqdm"
   ]
  },
  {
   "cell_type": "code",
   "execution_count": 115,
   "metadata": {
    "colab": {},
    "colab_type": "code",
    "id": "eS0u1DKaiN3_"
   },
   "outputs": [],
   "source": [
    "def default_collate(batch):\n",
    "    return {k: torch.LongTensor(v) for k, v in batch.items()}"
   ]
  },
  {
   "cell_type": "code",
   "execution_count": 117,
   "metadata": {
    "colab": {},
    "colab_type": "code",
    "id": "wzx52hy9iN4O"
   },
   "outputs": [],
   "source": [
    "def get_vec(text):\n",
    "\n",
    "#     print(\"get_vec, text\", text)\n",
    "\n",
    "    b = default_collate(tokenizer.batch_encode_plus([text]))\n",
    "    out = model(**b)\n",
    "    \n",
    "    vec = out[1][0]\n",
    "    \n",
    "    return vec.detach().numpy()"
   ]
  },
  {
   "cell_type": "code",
   "execution_count": 175,
   "metadata": {
    "colab": {},
    "colab_type": "code",
    "id": "gQAYnJbUiN4b"
   },
   "outputs": [],
   "source": [
    "def get_cosins(query_text, info):\n",
    "    query = get_vec(query_text)\n",
    "    example = []\n",
    "    \n",
    "    # count = 0\n",
    "\n",
    "    for q in info[\"ranking_candidates\"]:\n",
    "\n",
    "        vectors = []\n",
    "        \n",
    "        # for answer\n",
    "        \n",
    "        try:\n",
    "            if q[\"ans_cont\"] != \"\": #changed, rubert was just text = q[\"ans_cont\"]\n",
    "                text = q[\"ans_cont\"]\n",
    "            else:\n",
    "                text = q[\"ans_sum\"]\n",
    "        except:\n",
    "            try:\n",
    "                text = q[\"ans_sum\"]\n",
    "            except:\n",
    "                text = ''\n",
    "        val_vec_ans = get_vec(text)\n",
    "        vectors.append(val_vec_ans)\n",
    "        \n",
    "        # for graph info\n",
    "        for val in q[\"graph\"]:\n",
    "\n",
    "            if val[\"relation\"] in relations:\n",
    "                text = val[\"value\"] if isinstance(val[\"value\"], str) else \" \".join(val[\"value\"])\n",
    "                text = text[:256]\n",
    "                val_vec = get_vec(text)\n",
    "                vectors.append(val_vec)\n",
    "                \n",
    "        # for doc in q[\"documents\"]:\n",
    "        #     text = doc[\"document\"][:256]\n",
    "        #     val_vec = get_vec(text)\n",
    "        #     vectors.append(val_vec)\n",
    "        \n",
    "        v = np.vstack(vectors)\n",
    "        qv = np.vstack([query] * len(v))\n",
    "\n",
    "        example.append({\"id\": q[\"Q\"], \"cosins\": cosine_similarity(v, qv)[:, 0]})\n",
    "        \n",
    "#         #for one + graph answer\n",
    "#     vectors1 = []\n",
    "#     text1 = info[\"ans_g\"]\n",
    "# #     text1 = \"лалалалалалалала\"\n",
    "#     val_vec1 = get_vec(text1)\n",
    "#     vectors1.append(val_vec1)\n",
    "#     v1 = np.vstack(vectors1)\n",
    "#     qv1 = np.vstack([query] * len(v))\n",
    "#     example.append({\"id\": \"ans_g\", \"cosins\": cosine_similarity(v1, qv1)[:, 0]})\n",
    "    \n",
    "\n",
    "    return example"
   ]
  },
  {
   "cell_type": "code",
   "execution_count": 173,
   "metadata": {
    "colab": {},
    "colab_type": "code",
    "id": "TSI2eZuyiN40"
   },
   "outputs": [],
   "source": [
    "# wikilink_final/morewiki_20.json\n",
    "with open(\"all_wiki_1810r21rubert.json\", \"r\") as file:\n",
    "    data = json.load(file)"
   ]
  },
  {
   "cell_type": "code",
   "execution_count": 127,
   "metadata": {
    "colab": {},
    "colab_type": "code",
    "id": "AmYYQmiaiN47"
   },
   "outputs": [],
   "source": [
    "from tqdm import tqdm_notebook"
   ]
  },
  {
   "cell_type": "code",
   "execution_count": 128,
   "metadata": {
    "colab": {},
    "colab_type": "code",
    "id": "o5ijho-3iN5E"
   },
   "outputs": [],
   "source": [
    "def get_cosins_all(data):\n",
    "    lines = []\n",
    "    y_trues = []\n",
    "    questions = [] #for Qs\n",
    "    for query_text in tqdm_notebook(data, total=len(data), leave=False):\n",
    "        \n",
    "        questions.append(query_text) # for Qs\n",
    "#         print(\"get_cosins_all, query_text\",query_text)\n",
    "        info = data[query_text]\n",
    "#         print(\"info\",info)\n",
    "        y_trues.append(info.get(\"y_gold\"))\n",
    "#         print(\"get_cosins_all, y_trues\",y_trues)\n",
    "        lines.append(get_cosins(query_text, info))\n",
    "    return lines, y_trues, questions"
   ]
  },
  {
   "cell_type": "code",
   "execution_count": 121,
   "metadata": {
    "colab": {},
    "colab_type": "code",
    "id": "aP6Frz8SiN5P"
   },
   "outputs": [],
   "source": [
    "def get_scores(lines, y_trues, top_n=2):\n",
    "    answers = 0\n",
    "    all_counter = 0\n",
    "    zero_counts = 0\n",
    "    lens_ranking = []\n",
    "\n",
    "    for line, y_true in zip(lines, y_trues):\n",
    "        cosins = []\n",
    "        ids = []\n",
    "        for q in line:\n",
    "            cosins.append(max(q[\"cosins\"]))\n",
    "            ids.append(q[\"id\"])\n",
    "        lens_ranking.append(len(cosins))\n",
    "        if cosins:\n",
    "            idx = np.argsort(cosins)[-top_n:] # ?\n",
    "            if y_true is not None:\n",
    "                all_counter += 1\n",
    "                if y_true in np.array(ids)[idx]:\n",
    "                    answers += 1\n",
    "        else:\n",
    "            zero_counts += 1\n",
    "    return answers, all_counter, zero_counts, lens_ranking"
   ]
  },
  {
   "cell_type": "code",
   "execution_count": 129,
   "metadata": {
    "colab": {},
    "colab_type": "code",
    "id": "8qmWbMWeAQ5_"
   },
   "outputs": [],
   "source": [
    "def get_top_5(lines, y_trues, questions, top_n=2):\n",
    "    answers = 0\n",
    "    all_counter = 0\n",
    "    zero_counts = 0\n",
    "    lens_ranking = []\n",
    "    question_candidates = {}\n",
    "\n",
    "    for line, y_true, question in zip(lines, y_trues, questions):\n",
    "        cosins = []\n",
    "        ids = []\n",
    "        for q in line:\n",
    "            cosins.append(max(q[\"cosins\"]))\n",
    "            ids.append(q[\"id\"])\n",
    "        lens_ranking.append(len(cosins))\n",
    "        if cosins:\n",
    "            idx = np.argsort(cosins)[-top_n:]\n",
    "            if y_true is not None:\n",
    "                all_counter += 1\n",
    "                top_Q = np.array(ids)[idx]\n",
    "                question_candidates[question] = top_Q\n",
    "                if y_true in np.array(ids)[idx]:\n",
    "                    answers += 1\n",
    "        else:\n",
    "            zero_counts += 1\n",
    "    return answers, all_counter, zero_counts, lens_ranking, question_candidates"
   ]
  },
  {
   "cell_type": "code",
   "execution_count": 45,
   "metadata": {
    "colab": {},
    "colab_type": "code",
    "id": "GREqARkTiN5V"
   },
   "outputs": [],
   "source": [
    "# with open(\"ranking_data_v1-1.json\", \"r\") as file:\n",
    "#     data = json.load(file)"
   ]
  },
  {
   "cell_type": "code",
   "execution_count": 46,
   "metadata": {
    "colab": {},
    "colab_type": "code",
    "id": "V4J6e22_iN5c"
   },
   "outputs": [],
   "source": [
    "# with open(\"res4_wikidata.json\", \"r\") as file:\n",
    "#     data = json.load(file)"
   ]
  },
  {
   "cell_type": "code",
   "execution_count": 47,
   "metadata": {
    "colab": {
     "base_uri": "https://localhost:8080/",
     "height": 121
    },
    "colab_type": "code",
    "id": "zI05ReSdHnrC",
    "outputId": "bd55243f-f019-4e3a-a3b2-d5ad19cb137f"
   },
   "outputs": [
    {
     "name": "stdout",
     "output_type": "stream",
     "text": [
      "link_ranked1456.json  ranking_all_questions-eval.ipynb\r\n",
      "morewiki_1456.json    ranking_answers.ipynb\r\n",
      "morewiki_20.json      ranking_experiments.ipynb\r\n",
      "morewiki_50.json\r\n"
     ]
    }
   ],
   "source": [
    "!ls"
   ]
  },
  {
   "cell_type": "code",
   "execution_count": null,
   "metadata": {},
   "outputs": [],
   "source": []
  },
  {
   "cell_type": "code",
   "execution_count": 176,
   "metadata": {
    "colab": {
     "base_uri": "https://localhost:8080/",
     "height": 1000,
     "referenced_widgets": [
      "a22a410584cc49feb645e886daab32c9",
      "381c94f44ee34e399e167d64f5b24c3c",
      "a416a52c367e46e7a731f3862e9200f0",
      "739a510fa2214edfa24d1530fe258666",
      "c65be04cb3da4f2087826819df28a7d2",
      "7b43d8797c6641fbbb02114324049cd0",
      "cf5b66b3ce64496cafc89f4d2d93dd6d",
      "3b7607403bb448d29a49683aa76940ed"
     ]
    },
    "colab_type": "code",
    "id": "FnvGNrzGiN5i",
    "outputId": "14568b98-ae90-477a-d4ac-410746b32394"
   },
   "outputs": [
    {
     "name": "stderr",
     "output_type": "stream",
     "text": [
      "/home/ubuntu/anaconda3/lib/python3.7/site-packages/ipykernel_launcher.py:5: TqdmDeprecationWarning: This function will be removed in tqdm==5.0.0\n",
      "Please use `tqdm.notebook.tqdm` instead of `tqdm.tqdm_notebook`\n",
      "  \"\"\"\n"
     ]
    },
    {
     "data": {
      "application/vnd.jupyter.widget-view+json": {
       "model_id": "",
       "version_major": 2,
       "version_minor": 0
      },
      "text/plain": [
       "HBox(children=(FloatProgress(value=0.0, max=1810.0), HTML(value='')))"
      ]
     },
     "metadata": {},
     "output_type": "display_data"
    },
    {
     "name": "stdout",
     "output_type": "stream",
     "text": [
      "\r"
     ]
    }
   ],
   "source": [
    "lines, y_trues, questions = get_cosins_all(data)"
   ]
  },
  {
   "cell_type": "code",
   "execution_count": 49,
   "metadata": {
    "colab": {
     "base_uri": "https://localhost:8080/",
     "height": 1000
    },
    "colab_type": "code",
    "id": "eMT7GtUiC9YW",
    "outputId": "af3fd9f5-f7d9-4c73-fb45-ff87250e9e8e"
   },
   "outputs": [],
   "source": [
    "# y_trues"
   ]
  },
  {
   "cell_type": "code",
   "execution_count": 71,
   "metadata": {
    "colab": {
     "base_uri": "https://localhost:8080/",
     "height": 1000
    },
    "colab_type": "code",
    "id": "sDQe3mNzCNe8",
    "outputId": "9ba5d629-95a8-4d57-debf-fde7d7e494e0"
   },
   "outputs": [],
   "source": [
    "# lines"
   ]
  },
  {
   "cell_type": "code",
   "execution_count": 177,
   "metadata": {
    "colab": {},
    "colab_type": "code",
    "id": "RLLOCrLgiN5w"
   },
   "outputs": [],
   "source": [
    "answers, all_counter, zero_counts, lens_ranking, question_candidates = get_top_5(lines, y_trues, questions, top_n=21)\n"
   ]
  },
  {
   "cell_type": "code",
   "execution_count": 170,
   "metadata": {},
   "outputs": [],
   "source": [
    "# question_candidates"
   ]
  },
  {
   "cell_type": "code",
   "execution_count": 178,
   "metadata": {},
   "outputs": [
    {
     "data": {
      "text/plain": [
       "dict"
      ]
     },
     "execution_count": 178,
     "metadata": {},
     "output_type": "execute_result"
    }
   ],
   "source": [
    "type(question_candidates)"
   ]
  },
  {
   "cell_type": "code",
   "execution_count": 179,
   "metadata": {},
   "outputs": [],
   "source": [
    "for q in question_candidates:\n",
    "    if type(question_candidates[q]) == list:\n",
    "        continue\n",
    "    question_candidates[q] = question_candidates[q].tolist()\n",
    "#     print(question_candidates[q])\n",
    "#     break"
   ]
  },
  {
   "cell_type": "code",
   "execution_count": null,
   "metadata": {},
   "outputs": [],
   "source": []
  },
  {
   "cell_type": "code",
   "execution_count": 165,
   "metadata": {},
   "outputs": [
    {
     "data": {
      "text/plain": [
       "[[1, 2, 3], [4, 5, 6]]"
      ]
     },
     "execution_count": 165,
     "metadata": {},
     "output_type": "execute_result"
    }
   ],
   "source": [
    "np.array([[1,2,3],[4,5,6]]).tolist()"
   ]
  },
  {
   "cell_type": "code",
   "execution_count": 190,
   "metadata": {},
   "outputs": [],
   "source": [
    "# import json\n",
    "\n",
    "# with open(\"Q_for_R_rubert_answ_ranked_ginfo---.json\", \"w\", encoding=\"utf-8\") as f:\n",
    "#         json.dump(question_candidates, f, ensure_ascii=False, indent=4)"
   ]
  },
  {
   "cell_type": "code",
   "execution_count": 132,
   "metadata": {},
   "outputs": [],
   "source": [
    "# import json\n",
    "\n",
    "# with open(\"link_ranked1456--.json\", \"w\", encoding=\"utf-8\") as f:\n",
    "#         json.dump(question_candidates, f, ensure_ascii=False, indent=4)"
   ]
  },
  {
   "cell_type": "code",
   "execution_count": 69,
   "metadata": {},
   "outputs": [],
   "source": [
    "# lens_ranking"
   ]
  },
  {
   "cell_type": "markdown",
   "metadata": {},
   "source": [
    "### For 1810 questions, 2-21 Qs per question to rank - RuBERT + graph info"
   ]
  },
  {
   "cell_type": "code",
   "execution_count": 186,
   "metadata": {},
   "outputs": [],
   "source": [
    "answers, all_counter, zero_counts, lens_ranking = get_scores(lines, y_trues, top_n=1)\n"
   ]
  },
  {
   "cell_type": "code",
   "execution_count": 187,
   "metadata": {},
   "outputs": [
    {
     "data": {
      "text/plain": [
       "0.4867403314917127"
      ]
     },
     "execution_count": 187,
     "metadata": {},
     "output_type": "execute_result"
    }
   ],
   "source": [
    "answers / len(lines) "
   ]
  },
  {
   "cell_type": "code",
   "execution_count": 184,
   "metadata": {},
   "outputs": [],
   "source": [
    "answers, all_counter, zero_counts, lens_ranking = get_scores(lines, y_trues, top_n=2)\n"
   ]
  },
  {
   "cell_type": "code",
   "execution_count": 185,
   "metadata": {},
   "outputs": [
    {
     "data": {
      "text/plain": [
       "0.6591160220994475"
      ]
     },
     "execution_count": 185,
     "metadata": {},
     "output_type": "execute_result"
    }
   ],
   "source": [
    "answers / len(lines) "
   ]
  },
  {
   "cell_type": "code",
   "execution_count": 182,
   "metadata": {},
   "outputs": [],
   "source": [
    "answers, all_counter, zero_counts, lens_ranking = get_scores(lines, y_trues, top_n=3)\n"
   ]
  },
  {
   "cell_type": "code",
   "execution_count": 183,
   "metadata": {},
   "outputs": [
    {
     "data": {
      "text/plain": [
       "0.7591160220994475"
      ]
     },
     "execution_count": 183,
     "metadata": {},
     "output_type": "execute_result"
    }
   ],
   "source": [
    "answers / len(lines) "
   ]
  },
  {
   "cell_type": "code",
   "execution_count": 188,
   "metadata": {},
   "outputs": [],
   "source": [
    "answers, all_counter, zero_counts, lens_ranking = get_scores(lines, y_trues, top_n=5)\n"
   ]
  },
  {
   "cell_type": "code",
   "execution_count": 189,
   "metadata": {},
   "outputs": [
    {
     "data": {
      "text/plain": [
       "0.888950276243094"
      ]
     },
     "execution_count": 189,
     "metadata": {},
     "output_type": "execute_result"
    }
   ],
   "source": [
    "answers / len(lines)"
   ]
  },
  {
   "cell_type": "markdown",
   "metadata": {},
   "source": [
    "### For 1810 questions, 2-21 Qs per question to rank - MULTI-BERT"
   ]
  },
  {
   "cell_type": "code",
   "execution_count": 154,
   "metadata": {},
   "outputs": [],
   "source": [
    "answers, all_counter, zero_counts, lens_ranking = get_scores(lines, y_trues, top_n=1)\n"
   ]
  },
  {
   "cell_type": "code",
   "execution_count": 155,
   "metadata": {},
   "outputs": [
    {
     "data": {
      "text/plain": [
       "0.46353591160220997"
      ]
     },
     "execution_count": 155,
     "metadata": {},
     "output_type": "execute_result"
    }
   ],
   "source": [
    "answers / len(lines) "
   ]
  },
  {
   "cell_type": "code",
   "execution_count": 156,
   "metadata": {},
   "outputs": [],
   "source": [
    "answers, all_counter, zero_counts, lens_ranking = get_scores(lines, y_trues, top_n=2)\n"
   ]
  },
  {
   "cell_type": "code",
   "execution_count": 157,
   "metadata": {},
   "outputs": [
    {
     "data": {
      "text/plain": [
       "0.6353591160220995"
      ]
     },
     "execution_count": 157,
     "metadata": {},
     "output_type": "execute_result"
    }
   ],
   "source": [
    "answers / len(lines) "
   ]
  },
  {
   "cell_type": "code",
   "execution_count": 158,
   "metadata": {},
   "outputs": [],
   "source": [
    "answers, all_counter, zero_counts, lens_ranking = get_scores(lines, y_trues, top_n=3)\n"
   ]
  },
  {
   "cell_type": "code",
   "execution_count": 159,
   "metadata": {},
   "outputs": [
    {
     "data": {
      "text/plain": [
       "0.7309392265193371"
      ]
     },
     "execution_count": 159,
     "metadata": {},
     "output_type": "execute_result"
    }
   ],
   "source": [
    "answers / len(lines) "
   ]
  },
  {
   "cell_type": "code",
   "execution_count": 160,
   "metadata": {},
   "outputs": [],
   "source": [
    "answers, all_counter, zero_counts, lens_ranking = get_scores(lines, y_trues, top_n=5)\n"
   ]
  },
  {
   "cell_type": "code",
   "execution_count": 161,
   "metadata": {},
   "outputs": [
    {
     "data": {
      "text/plain": [
       "0.850828729281768"
      ]
     },
     "execution_count": 161,
     "metadata": {},
     "output_type": "execute_result"
    }
   ],
   "source": [
    "answers / len(lines) "
   ]
  },
  {
   "cell_type": "markdown",
   "metadata": {},
   "source": [
    "### For 1810 questions, 2-21 Qs per question to rank - RUBERT"
   ]
  },
  {
   "cell_type": "code",
   "execution_count": 137,
   "metadata": {
    "colab": {},
    "colab_type": "code",
    "id": "u8kc6gKHiN6I"
   },
   "outputs": [],
   "source": [
    "answers, all_counter, zero_counts, lens_ranking = get_scores(lines, y_trues, top_n=1)\n"
   ]
  },
  {
   "cell_type": "code",
   "execution_count": 138,
   "metadata": {
    "colab": {
     "base_uri": "https://localhost:8080/",
     "height": 34
    },
    "colab_type": "code",
    "id": "Wmxrn9J7iN6n",
    "outputId": "ee27ec3d-7e49-4e72-aca3-1be1597b0aa1"
   },
   "outputs": [
    {
     "data": {
      "text/plain": [
       "0.4580110497237569"
      ]
     },
     "execution_count": 138,
     "metadata": {},
     "output_type": "execute_result"
    }
   ],
   "source": [
    "answers / len(lines) # labels 0.28 sitelinks 0.22 all 0.28 for 50 / rubert 1810 0.45 with 345 true (one) Q"
   ]
  },
  {
   "cell_type": "code",
   "execution_count": 139,
   "metadata": {},
   "outputs": [],
   "source": [
    "answers, all_counter, zero_counts, lens_ranking = get_scores(lines, y_trues, top_n=2)"
   ]
  },
  {
   "cell_type": "code",
   "execution_count": 140,
   "metadata": {},
   "outputs": [
    {
     "data": {
      "text/plain": [
       "0.6353591160220995"
      ]
     },
     "execution_count": 140,
     "metadata": {},
     "output_type": "execute_result"
    }
   ],
   "source": [
    "answers / len(lines) #labels 0.48 sitelinks 0.54 all 0.5 for 50 / rubert 1810 0.64 with 345 true (one) Q"
   ]
  },
  {
   "cell_type": "code",
   "execution_count": 141,
   "metadata": {},
   "outputs": [],
   "source": [
    "answers, all_counter, zero_counts, lens_ranking = get_scores(lines, y_trues, top_n=3)"
   ]
  },
  {
   "cell_type": "code",
   "execution_count": 142,
   "metadata": {},
   "outputs": [
    {
     "data": {
      "text/plain": [
       "0.7397790055248619"
      ]
     },
     "execution_count": 142,
     "metadata": {},
     "output_type": "execute_result"
    }
   ],
   "source": [
    "answers / len(lines) #labels 0.66 sitelinks 0.64 all 0.7 for 50 / rubert 1810 0.74 with 345 true (one) Q"
   ]
  },
  {
   "cell_type": "code",
   "execution_count": 149,
   "metadata": {},
   "outputs": [],
   "source": [
    "answers, all_counter, zero_counts, lens_ranking = get_scores(lines, y_trues, top_n=5)"
   ]
  },
  {
   "cell_type": "code",
   "execution_count": 150,
   "metadata": {},
   "outputs": [
    {
     "data": {
      "text/plain": [
       "0.8569060773480663"
      ]
     },
     "execution_count": 150,
     "metadata": {},
     "output_type": "execute_result"
    }
   ],
   "source": [
    "answers / len(lines)"
   ]
  },
  {
   "cell_type": "code",
   "execution_count": 63,
   "metadata": {
    "colab": {},
    "colab_type": "code",
    "id": "K7csyhn1iN60"
   },
   "outputs": [],
   "source": [
    "answers, all_counter, zero_counts, lens_ranking, question_candidates = get_top_5(lines, y_trues, questions, top_n=2)"
   ]
  },
  {
   "cell_type": "code",
   "execution_count": 101,
   "metadata": {},
   "outputs": [
    {
     "data": {
      "text/plain": [
       "{'Кем был Ариф Васильевич Сапаров?': array(['Q4312193', 'Q4408035'], dtype='<U8'),\n",
       " 'Кем был Константин Николаевич Асеев?': array(['Q4071207', 'Q4262989'], dtype='<U8'),\n",
       " 'В каком году произошла отмена крепостного права в России?': array(['Q2300774', 'Q4127088'], dtype='<U9'),\n",
       " 'Кем по профессии был Александр Николаевич Мальский?': array(['Q28914', 'Q4279466'], dtype='<U8'),\n",
       " 'Ефим Михайлович Чепцов — год рождения?': array(['Q4511929', 'Q1345004'], dtype='<U8'),\n",
       " 'Кем по профессии был Александр Моисеевич Хамадан?': array(['Q519076', 'Q18405199'], dtype='<U9'),\n",
       " 'В какой войне принимал участие Игорь Михайлович Бойцов?': array(['Q198', 'Q4090488'], dtype='<U8'),\n",
       " 'В каком году родился Фёдор Гаврилович Гаврилов?': array(['Q15065435', 'Q4131200'], dtype='<U9'),\n",
       " 'Беатрикс — дата рождения?': array(['Q813291', 'Q29574'], dtype='<U8'),\n",
       " 'Каким годом датируется написание картины Мунка \"Ревность\"?': array(['Q625429', 'Q16939042'], dtype='<U9'),\n",
       " 'В какой войне участвовал Теодор Рузвельт?': array(['Q33866', 'Q237590'], dtype='<U8'),\n",
       " 'Частью какой войны была Битва при Чашниках (1564)?': array(['Q2623793', 'Q1220082'], dtype='<U8'),\n",
       " 'Во время какого крупного вооружённого конфликта произошла Битва при Асландузе?': array(['Q620735', 'Q285280'], dtype='<U8'),\n",
       " 'Олег Владимирович Пеньковский — год рождения?': array(['Q2590842', 'Q138420'], dtype='<U8'),\n",
       " 'Кем по профессии был Виталий Сергеевич Василевский?': array(['Q10837472', 'Q4104301'], dtype='<U9'),\n",
       " 'В каком вооружённом конфликте участвовал Николай Иванович Святополк-Мирский?': array(['Q285280', 'Q3656087'], dtype='<U9'),\n",
       " 'Каким годом датируется основание города Хадера?': array(['Q2498901', 'Q175258'], dtype='<U8'),\n",
       " 'Кем по профессии был Ялмар Матвеевич Кокко?': array(['Q519076', 'Q28309461'], dtype='<U9'),\n",
       " 'Кем по профессии был Павел Алексеевич Ивашкин?': array(['Q4197043', 'Q4195508'], dtype='<U9'),\n",
       " 'Кем был Владимир Александрович Луцкий?': array(['Q4103027', 'Q16447571'], dtype='<U9')}"
      ]
     },
     "execution_count": 101,
     "metadata": {},
     "output_type": "execute_result"
    }
   ],
   "source": [
    "question_candidates"
   ]
  },
  {
   "cell_type": "code",
   "execution_count": 53,
   "metadata": {
    "colab": {
     "base_uri": "https://localhost:8080/",
     "height": 34
    },
    "colab_type": "code",
    "id": "jNJImtkZiN6-",
    "outputId": "bfab714b-c407-406f-fa98-6d18d2ff7d3a"
   },
   "outputs": [
    {
     "data": {
      "text/plain": [
       "1.0"
      ]
     },
     "execution_count": 53,
     "metadata": {},
     "output_type": "execute_result"
    }
   ],
   "source": [
    "answers / len(lines)"
   ]
  },
  {
   "cell_type": "code",
   "execution_count": 54,
   "metadata": {
    "colab": {
     "base_uri": "https://localhost:8080/",
     "height": 34
    },
    "colab_type": "code",
    "id": "U2djU7hRiN7F",
    "outputId": "9ea34f01-e319-41bf-aeba-64412197358e"
   },
   "outputs": [
    {
     "data": {
      "text/plain": [
       "5.96"
      ]
     },
     "execution_count": 54,
     "metadata": {},
     "output_type": "execute_result"
    }
   ],
   "source": [
    "np.mean(lens_ranking)"
   ]
  },
  {
   "cell_type": "code",
   "execution_count": 0,
   "metadata": {
    "colab": {},
    "colab_type": "code",
    "id": "Ea-rTrmuiN7L"
   },
   "outputs": [],
   "source": []
  }
 ],
 "metadata": {
  "colab": {
   "collapsed_sections": [],
   "name": "Copy of ranking_Anton.ipynb",
   "provenance": []
  },
  "kernelspec": {
   "display_name": "Python 3",
   "language": "python",
   "name": "python3"
  },
  "language_info": {
   "codemirror_mode": {
    "name": "ipython",
    "version": 3
   },
   "file_extension": ".py",
   "mimetype": "text/x-python",
   "name": "python",
   "nbconvert_exporter": "python",
   "pygments_lexer": "ipython3",
   "version": "3.7.3"
  },
  "widgets": {
   "application/vnd.jupyter.widget-state+json": {
    "381c94f44ee34e399e167d64f5b24c3c": {
     "model_module": "@jupyter-widgets/base",
     "model_name": "LayoutModel",
     "state": {
      "_model_module": "@jupyter-widgets/base",
      "_model_module_version": "1.2.0",
      "_model_name": "LayoutModel",
      "_view_count": null,
      "_view_module": "@jupyter-widgets/base",
      "_view_module_version": "1.2.0",
      "_view_name": "LayoutView",
      "align_content": null,
      "align_items": null,
      "align_self": null,
      "border": null,
      "bottom": null,
      "display": null,
      "flex": null,
      "flex_flow": null,
      "grid_area": null,
      "grid_auto_columns": null,
      "grid_auto_flow": null,
      "grid_auto_rows": null,
      "grid_column": null,
      "grid_gap": null,
      "grid_row": null,
      "grid_template_areas": null,
      "grid_template_columns": null,
      "grid_template_rows": null,
      "height": null,
      "justify_content": null,
      "justify_items": null,
      "left": null,
      "margin": null,
      "max_height": null,
      "max_width": null,
      "min_height": null,
      "min_width": null,
      "object_fit": null,
      "object_position": null,
      "order": null,
      "overflow": null,
      "overflow_x": null,
      "overflow_y": null,
      "padding": null,
      "right": null,
      "top": null,
      "visibility": null,
      "width": null
     }
    },
    "3b7607403bb448d29a49683aa76940ed": {
     "model_module": "@jupyter-widgets/base",
     "model_name": "LayoutModel",
     "state": {
      "_model_module": "@jupyter-widgets/base",
      "_model_module_version": "1.2.0",
      "_model_name": "LayoutModel",
      "_view_count": null,
      "_view_module": "@jupyter-widgets/base",
      "_view_module_version": "1.2.0",
      "_view_name": "LayoutView",
      "align_content": null,
      "align_items": null,
      "align_self": null,
      "border": null,
      "bottom": null,
      "display": null,
      "flex": null,
      "flex_flow": null,
      "grid_area": null,
      "grid_auto_columns": null,
      "grid_auto_flow": null,
      "grid_auto_rows": null,
      "grid_column": null,
      "grid_gap": null,
      "grid_row": null,
      "grid_template_areas": null,
      "grid_template_columns": null,
      "grid_template_rows": null,
      "height": null,
      "justify_content": null,
      "justify_items": null,
      "left": null,
      "margin": null,
      "max_height": null,
      "max_width": null,
      "min_height": null,
      "min_width": null,
      "object_fit": null,
      "object_position": null,
      "order": null,
      "overflow": null,
      "overflow_x": null,
      "overflow_y": null,
      "padding": null,
      "right": null,
      "top": null,
      "visibility": null,
      "width": null
     }
    },
    "739a510fa2214edfa24d1530fe258666": {
     "model_module": "@jupyter-widgets/controls",
     "model_name": "HTMLModel",
     "state": {
      "_dom_classes": [],
      "_model_module": "@jupyter-widgets/controls",
      "_model_module_version": "1.5.0",
      "_model_name": "HTMLModel",
      "_view_count": null,
      "_view_module": "@jupyter-widgets/controls",
      "_view_module_version": "1.5.0",
      "_view_name": "HTMLView",
      "description": "",
      "description_tooltip": null,
      "layout": "IPY_MODEL_3b7607403bb448d29a49683aa76940ed",
      "placeholder": "​",
      "style": "IPY_MODEL_cf5b66b3ce64496cafc89f4d2d93dd6d",
      "value": " 1456/1456 [2:08:12&lt;00:00,  7.31s/it]"
     }
    },
    "7b43d8797c6641fbbb02114324049cd0": {
     "model_module": "@jupyter-widgets/base",
     "model_name": "LayoutModel",
     "state": {
      "_model_module": "@jupyter-widgets/base",
      "_model_module_version": "1.2.0",
      "_model_name": "LayoutModel",
      "_view_count": null,
      "_view_module": "@jupyter-widgets/base",
      "_view_module_version": "1.2.0",
      "_view_name": "LayoutView",
      "align_content": null,
      "align_items": null,
      "align_self": null,
      "border": null,
      "bottom": null,
      "display": null,
      "flex": null,
      "flex_flow": null,
      "grid_area": null,
      "grid_auto_columns": null,
      "grid_auto_flow": null,
      "grid_auto_rows": null,
      "grid_column": null,
      "grid_gap": null,
      "grid_row": null,
      "grid_template_areas": null,
      "grid_template_columns": null,
      "grid_template_rows": null,
      "height": null,
      "justify_content": null,
      "justify_items": null,
      "left": null,
      "margin": null,
      "max_height": null,
      "max_width": null,
      "min_height": null,
      "min_width": null,
      "object_fit": null,
      "object_position": null,
      "order": null,
      "overflow": null,
      "overflow_x": null,
      "overflow_y": null,
      "padding": null,
      "right": null,
      "top": null,
      "visibility": null,
      "width": null
     }
    },
    "a22a410584cc49feb645e886daab32c9": {
     "model_module": "@jupyter-widgets/controls",
     "model_name": "HBoxModel",
     "state": {
      "_dom_classes": [],
      "_model_module": "@jupyter-widgets/controls",
      "_model_module_version": "1.5.0",
      "_model_name": "HBoxModel",
      "_view_count": null,
      "_view_module": "@jupyter-widgets/controls",
      "_view_module_version": "1.5.0",
      "_view_name": "HBoxView",
      "box_style": "",
      "children": [
       "IPY_MODEL_a416a52c367e46e7a731f3862e9200f0",
       "IPY_MODEL_739a510fa2214edfa24d1530fe258666"
      ],
      "layout": "IPY_MODEL_381c94f44ee34e399e167d64f5b24c3c"
     }
    },
    "a416a52c367e46e7a731f3862e9200f0": {
     "model_module": "@jupyter-widgets/controls",
     "model_name": "FloatProgressModel",
     "state": {
      "_dom_classes": [],
      "_model_module": "@jupyter-widgets/controls",
      "_model_module_version": "1.5.0",
      "_model_name": "FloatProgressModel",
      "_view_count": null,
      "_view_module": "@jupyter-widgets/controls",
      "_view_module_version": "1.5.0",
      "_view_name": "ProgressView",
      "bar_style": "",
      "description": "100%",
      "description_tooltip": null,
      "layout": "IPY_MODEL_7b43d8797c6641fbbb02114324049cd0",
      "max": 1456,
      "min": 0,
      "orientation": "horizontal",
      "style": "IPY_MODEL_c65be04cb3da4f2087826819df28a7d2",
      "value": 1456
     }
    },
    "c65be04cb3da4f2087826819df28a7d2": {
     "model_module": "@jupyter-widgets/controls",
     "model_name": "ProgressStyleModel",
     "state": {
      "_model_module": "@jupyter-widgets/controls",
      "_model_module_version": "1.5.0",
      "_model_name": "ProgressStyleModel",
      "_view_count": null,
      "_view_module": "@jupyter-widgets/base",
      "_view_module_version": "1.2.0",
      "_view_name": "StyleView",
      "bar_color": null,
      "description_width": "initial"
     }
    },
    "cf5b66b3ce64496cafc89f4d2d93dd6d": {
     "model_module": "@jupyter-widgets/controls",
     "model_name": "DescriptionStyleModel",
     "state": {
      "_model_module": "@jupyter-widgets/controls",
      "_model_module_version": "1.5.0",
      "_model_name": "DescriptionStyleModel",
      "_view_count": null,
      "_view_module": "@jupyter-widgets/base",
      "_view_module_version": "1.2.0",
      "_view_name": "StyleView",
      "description_width": ""
     }
    }
   }
  }
 },
 "nbformat": 4,
 "nbformat_minor": 1
}
